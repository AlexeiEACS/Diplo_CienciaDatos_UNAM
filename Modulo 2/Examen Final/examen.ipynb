{
 "cells": [
  {
   "cell_type": "code",
   "execution_count": 1,
   "metadata": {},
   "outputs": [],
   "source": [
    "import pandas as pd\n",
    "import numpy as np\n",
    "\n",
    "import matplotlib.pyplot as plt\n",
    "import seaborn as sns\n",
    "sns.set()\n",
    "\n",
    "import dask\n",
    "import dask.dataframe as dd\n",
    "from dask import delayed, compute\n",
    "\n",
    "import os \n",
    "\n",
    "from sklearn.impute import SimpleImputer\n",
    "\n",
    "\n",
    "pd.options.display.max_columns = None"
   ]
  },
  {
   "cell_type": "code",
   "execution_count": 2,
   "metadata": {},
   "outputs": [],
   "source": [
    "transactions_sample = pd.read_csv('data/Credit Cards Transactions/credit_card_transactions-ibm_v2.csv', nrows= 500_000)\n",
    "card_info_sample = pd.read_csv('/home/eacs/Documents/Diplomado DS/Modulo 2/Examen Final/data/Credit Cards Transactions/sd254_cards.csv')\n",
    "user_info_sample = pd.read_csv('/home/eacs/Documents/Diplomado DS/Modulo 2/Examen Final/data/Credit Cards Transactions/sd254_users.csv')"
   ]
  },
  {
   "cell_type": "code",
   "execution_count": 3,
   "metadata": {},
   "outputs": [
    {
     "data": {
      "text/html": [
       "<div>\n",
       "<style scoped>\n",
       "    .dataframe tbody tr th:only-of-type {\n",
       "        vertical-align: middle;\n",
       "    }\n",
       "\n",
       "    .dataframe tbody tr th {\n",
       "        vertical-align: top;\n",
       "    }\n",
       "\n",
       "    .dataframe thead th {\n",
       "        text-align: right;\n",
       "    }\n",
       "</style>\n",
       "<table border=\"1\" class=\"dataframe\">\n",
       "  <thead>\n",
       "    <tr style=\"text-align: right;\">\n",
       "      <th></th>\n",
       "      <th>User</th>\n",
       "      <th>Card</th>\n",
       "      <th>Year</th>\n",
       "      <th>Month</th>\n",
       "      <th>Day</th>\n",
       "      <th>Time</th>\n",
       "      <th>Amount</th>\n",
       "      <th>Use Chip</th>\n",
       "      <th>Merchant Name</th>\n",
       "      <th>Merchant City</th>\n",
       "      <th>Merchant State</th>\n",
       "      <th>Zip</th>\n",
       "      <th>MCC</th>\n",
       "      <th>Errors?</th>\n",
       "      <th>Is Fraud?</th>\n",
       "    </tr>\n",
       "  </thead>\n",
       "  <tbody>\n",
       "    <tr>\n",
       "      <th>0</th>\n",
       "      <td>0</td>\n",
       "      <td>0</td>\n",
       "      <td>2002</td>\n",
       "      <td>9</td>\n",
       "      <td>1</td>\n",
       "      <td>06:21</td>\n",
       "      <td>$134.09</td>\n",
       "      <td>Swipe Transaction</td>\n",
       "      <td>3527213246127876953</td>\n",
       "      <td>La Verne</td>\n",
       "      <td>CA</td>\n",
       "      <td>91750.0</td>\n",
       "      <td>5300</td>\n",
       "      <td>NaN</td>\n",
       "      <td>No</td>\n",
       "    </tr>\n",
       "  </tbody>\n",
       "</table>\n",
       "</div>"
      ],
      "text/plain": [
       "   User  Card  Year  Month  Day   Time   Amount           Use Chip  \\\n",
       "0     0     0  2002      9    1  06:21  $134.09  Swipe Transaction   \n",
       "\n",
       "         Merchant Name Merchant City Merchant State      Zip   MCC Errors?  \\\n",
       "0  3527213246127876953      La Verne             CA  91750.0  5300     NaN   \n",
       "\n",
       "  Is Fraud?  \n",
       "0        No  "
      ]
     },
     "execution_count": 3,
     "metadata": {},
     "output_type": "execute_result"
    }
   ],
   "source": [
    "transactions_sample.head(1)"
   ]
  },
  {
   "attachments": {},
   "cell_type": "markdown",
   "metadata": {},
   "source": [
    "# Limpieza de la información\n",
    "Primero limpiaremos transactions con el uso de la muestra para poder tener una idea de que es lo que debería tener cada columna"
   ]
  },
  {
   "cell_type": "code",
   "execution_count": 4,
   "metadata": {},
   "outputs": [
    {
     "name": "stdout",
     "output_type": "stream",
     "text": [
      "<class 'pandas.core.frame.DataFrame'>\n",
      "RangeIndex: 500000 entries, 0 to 499999\n",
      "Data columns (total 15 columns):\n",
      " #   Column          Non-Null Count   Dtype  \n",
      "---  ------          --------------   -----  \n",
      " 0   User            500000 non-null  int64  \n",
      " 1   Card            500000 non-null  int64  \n",
      " 2   Year            500000 non-null  int64  \n",
      " 3   Month           500000 non-null  int64  \n",
      " 4   Day             500000 non-null  int64  \n",
      " 5   Time            500000 non-null  object \n",
      " 6   Amount          500000 non-null  object \n",
      " 7   Use Chip        500000 non-null  object \n",
      " 8   Merchant Name   500000 non-null  int64  \n",
      " 9   Merchant City   500000 non-null  object \n",
      " 10  Merchant State  432257 non-null  object \n",
      " 11  Zip             428629 non-null  float64\n",
      " 12  MCC             500000 non-null  int64  \n",
      " 13  Errors?         8864 non-null    object \n",
      " 14  Is Fraud?       500000 non-null  object \n",
      "dtypes: float64(1), int64(7), object(7)\n",
      "memory usage: 57.2+ MB\n"
     ]
    }
   ],
   "source": [
    "transactions_sample.info()"
   ]
  },
  {
   "cell_type": "code",
   "execution_count": 5,
   "metadata": {},
   "outputs": [],
   "source": [
    "# Si no tiene estas columnas no sería posible hacer un análisis de la información por lo que si no las tienen las eliminaremos\n",
    "transactions_sample.dropna(subset= ['User', 'Card', 'Month', 'Day', 'Is Fraud?'], axis= 0, inplace= True)\n",
    "# Amount pasamos a numérico\n",
    "transactions_sample['Amount'] = transactions_sample['Amount'].replace({'\\$':''}, regex=True).astype('float')\n",
    "# Por la información sabemos que si Errors es NaN entonces no se tiene que borrar porque significa que no hay error\n",
    "transactions_sample['Errors?'].fillna('0', inplace= True)\n",
    "# En la localización de la venta los valores de NaN puede que signifiquen que no esté correctamente registrado pero eso puede ser información que se puede usar\n",
    "transactions_sample['Zip'] = transactions_sample['Zip'].astype('object')\n",
    "transactions_sample[['Merchant Name', 'Merchant City', 'Merchant State', 'Zip']] = transactions_sample[['Merchant Name', 'Merchant City',\n",
    "                                                                                                        'Merchant State', 'Zip']].replace({'NaN':'No registrado',\n",
    "                                                                                                                                            np.nan : 'No registrado'})\n",
    "# Pasamos los valores de Tiempo para poder hacer agrupaciones con ellos\n",
    "transactions_sample['Hour'] = pd.DatetimeIndex(transactions_sample['Time']).hour\n",
    "transactions_sample.drop('Time', axis= 1, inplace= True)\n",
    "\n",
    "transactions_sample['Fraud'] = transactions_sample['Is Fraud?'].replace({'No': 0, 'Yes':1})\n",
    "transactions_sample.drop('Is Fraud?', axis= 1, inplace= True)\n"
   ]
  },
  {
   "cell_type": "code",
   "execution_count": 6,
   "metadata": {},
   "outputs": [],
   "source": [
    "from sklearn.preprocessing import LabelEncoder\n",
    "cols_to_label = ['Use Chip', 'Merchant Name','Errors?']\n",
    "l_enc = LabelEncoder()\n",
    "\n",
    "for col in cols_to_label:\n",
    "    transactions_sample[col] = l_enc.fit_transform(transactions_sample[col])"
   ]
  },
  {
   "attachments": {},
   "cell_type": "markdown",
   "metadata": {},
   "source": [
    "Necesitamos datos de la tarjeta"
   ]
  },
  {
   "cell_type": "code",
   "execution_count": 7,
   "metadata": {},
   "outputs": [
    {
     "data": {
      "text/plain": [
       "Index(['User', 'CARD INDEX', 'Card Brand', 'Card Type', 'Card Number',\n",
       "       'Expires', 'CVV', 'Has Chip', 'Cards Issued', 'Credit Limit',\n",
       "       'Acct Open Date', 'Year PIN last Changed', 'Card on Dark Web'],\n",
       "      dtype='object')"
      ]
     },
     "execution_count": 7,
     "metadata": {},
     "output_type": "execute_result"
    }
   ],
   "source": [
    "card_info_sample.columns"
   ]
  },
  {
   "cell_type": "code",
   "execution_count": 8,
   "metadata": {},
   "outputs": [],
   "source": [
    "cols_to_label = ['Card Brand', 'Card Type', 'Has Chip', 'Cards Issued', 'Year PIN last Changed', 'Card on Dark Web']\n",
    "l_enc = LabelEncoder()\n",
    "\n",
    "for col in cols_to_label:\n",
    "    card_info_sample[col] = l_enc.fit_transform(card_info_sample[col])"
   ]
  },
  {
   "cell_type": "code",
   "execution_count": 9,
   "metadata": {},
   "outputs": [],
   "source": [
    "card_info_sample['Expires'] = pd.to_datetime(card_info_sample['Expires'], format= '%m/%Y')\n",
    "card_info_sample['Acct Open Date'] = pd.to_datetime(card_info_sample['Acct Open Date'], format= '%m/%Y')\n",
    "card_info_sample['days_until_expire'] = (card_info_sample['Expires'] - card_info_sample['Acct Open Date']).dt.days"
   ]
  },
  {
   "cell_type": "code",
   "execution_count": 10,
   "metadata": {},
   "outputs": [],
   "source": [
    "card_info_sample['Credit Limit'] = card_info_sample['Credit Limit'].replace({'\\$':''}, regex=True).astype('float')"
   ]
  },
  {
   "cell_type": "code",
   "execution_count": 11,
   "metadata": {},
   "outputs": [],
   "source": [
    "transactions_sample = transactions_sample.merge(card_info_sample, how= 'inner', left_on= ['User', 'Card'], right_on= ['User', 'CARD INDEX'])"
   ]
  },
  {
   "attachments": {},
   "cell_type": "markdown",
   "metadata": {},
   "source": [
    "Porcentaje del gasto comparado con su línea de crédito"
   ]
  },
  {
   "cell_type": "code",
   "execution_count": 12,
   "metadata": {},
   "outputs": [],
   "source": [
    "transactions_sample['pct_Limit_amount'] = transactions_sample['Amount'] / transactions_sample['Credit Limit']"
   ]
  },
  {
   "attachments": {},
   "cell_type": "markdown",
   "metadata": {},
   "source": [
    "Gastos promedio para cada tipo de MCC mensual por cada usuario"
   ]
  },
  {
   "cell_type": "code",
   "execution_count": 13,
   "metadata": {},
   "outputs": [],
   "source": [
    "count_mcc = transactions_sample.pivot_table(index= ['User', 'Card', 'Year', 'Month'], columns= 'MCC', values= 'Amount', aggfunc= 'mean').fillna(0)\n",
    "new_columns = {col: f'MCC_{col}' for col in count_mcc.columns}\n",
    "count_mcc = count_mcc.rename(columns= new_columns)\n",
    "count_mcc.reset_index(inplace= True)\n",
    "transactions_sample = transactions_sample.merge(count_mcc, on=['User', 'Card', 'Year', 'Month'], how= 'inner')"
   ]
  },
  {
   "cell_type": "code",
   "execution_count": 14,
   "metadata": {},
   "outputs": [],
   "source": [
    "count_state = transactions_sample.pivot_table(index= ['User', 'Card', 'Year', 'Month'], columns= 'Merchant State', values= 'Amount', aggfunc= 'sum').fillna(0)\n",
    "new_columns = {col: f'Merch_State_{col}' for col in count_state.columns}\n",
    "count_state = count_state.rename(columns= new_columns)\n",
    "count_state.reset_index(inplace= True)\n",
    "transactions_sample = transactions_sample.merge(count_state, on=['User', 'Card', 'Year', 'Month'], how= 'inner')"
   ]
  },
  {
   "attachments": {},
   "cell_type": "markdown",
   "metadata": {},
   "source": [
    "Ahora los datos que se necesitan de cada usuario"
   ]
  },
  {
   "cell_type": "code",
   "execution_count": 15,
   "metadata": {},
   "outputs": [
    {
     "data": {
      "text/plain": [
       "Index(['Person', 'Current Age', 'Retirement Age', 'Birth Year', 'Birth Month',\n",
       "       'Gender', 'Address', 'Apartment', 'City', 'State', 'Zipcode',\n",
       "       'Latitude', 'Longitude', 'Per Capita Income - Zipcode',\n",
       "       'Yearly Income - Person', 'Total Debt', 'FICO Score',\n",
       "       'Num Credit Cards'],\n",
       "      dtype='object')"
      ]
     },
     "execution_count": 15,
     "metadata": {},
     "output_type": "execute_result"
    }
   ],
   "source": [
    "user_info_sample.columns"
   ]
  },
  {
   "cell_type": "code",
   "execution_count": 16,
   "metadata": {},
   "outputs": [],
   "source": [
    "cols_to_label = ['Gender']\n",
    "l_enc = LabelEncoder()\n",
    "\n",
    "for col in cols_to_label:\n",
    "    user_info_sample[col] = l_enc.fit_transform(user_info_sample[col])"
   ]
  },
  {
   "cell_type": "code",
   "execution_count": 17,
   "metadata": {},
   "outputs": [],
   "source": [
    "user_info_sample.dropna(subset= ['Person', 'City', 'State', 'Zipcode'], inplace= True, axis= 0)\n",
    "user_info_sample.fillna('NoRecod', inplace= True)\n",
    "\n",
    "user_info_sample['Per Capita Income - Zipcode'] = user_info_sample['Per Capita Income - Zipcode'].replace({'\\$':''}, regex=True).astype('float')\n",
    "user_info_sample['Yearly Income - Person'] = user_info_sample['Yearly Income - Person'].replace({'\\$':''}, regex=True).astype('float')\n",
    "user_info_sample['Total Debt'] = user_info_sample['Total Debt'].replace({'\\$':''}, regex=True).astype('float')"
   ]
  },
  {
   "cell_type": "code",
   "execution_count": 18,
   "metadata": {},
   "outputs": [],
   "source": [
    "transactions_sample = transactions_sample.merge(user_info_sample, left_on= 'User', right_index= True, how= 'inner')"
   ]
  },
  {
   "cell_type": "code",
   "execution_count": 19,
   "metadata": {},
   "outputs": [],
   "source": [
    "id_cols = ['User', 'Card', 'Year', 'Month', 'Day', 'Amount']\n",
    "\n",
    "mc_cols = [x for x in transactions_sample.columns if x[0:4]== 'MCC_']\n",
    "merch_cols = [x for x in transactions_sample.columns if x[0:6]== 'Merch_']\n",
    "\n",
    "cat_cols = ['Use Chip', 'Merchant Name', 'Errors?','Card Brand',\n",
    " 'Card Type','Has Chip','Year PIN last Changed', 'Gender',]\n",
    "cont_cols = ['Current Age', 'Retirement Age', 'Per Capita Income - Zipcode', 'Yearly Income - Person', 'Total Debt','FICO Score', 'Num Credit Cards']\n",
    "\n",
    "created_num = ['days_until_expire', 'pct_Limit_amount', 'InState', 'InCity']"
   ]
  },
  {
   "cell_type": "code",
   "execution_count": 20,
   "metadata": {},
   "outputs": [],
   "source": [
    "transactions_sample['InState'] = transactions_sample.apply(lambda x: 1 if x['State'] == x['Merchant State'] else 0, axis= 1)\n",
    "transactions_sample['InCity'] = transactions_sample.apply(lambda x: 1 if x['City'] == x['Merchant City'] else 0, axis= 1)"
   ]
  },
  {
   "cell_type": "code",
   "execution_count": 21,
   "metadata": {},
   "outputs": [],
   "source": [
    "transactions_sample = transactions_sample[id_cols + mc_cols + merch_cols + cat_cols + cont_cols + created_num + ['Fraud']]"
   ]
  },
  {
   "attachments": {},
   "cell_type": "markdown",
   "metadata": {},
   "source": [
    "# Primeras pruebas de modelo"
   ]
  },
  {
   "cell_type": "code",
   "execution_count": 22,
   "metadata": {},
   "outputs": [],
   "source": [
    "from imblearn.under_sampling import TomekLinks\n",
    "from sklearn.model_selection import train_test_split\n",
    "\n",
    "X = transactions_sample[id_cols + mc_cols + merch_cols + cat_cols + cont_cols + created_num]\n",
    "y = transactions_sample['Fraud']\n",
    "\n",
    "tl = TomekLinks(sampling_strategy= 'auto')\n",
    "\n",
    "Xt, Xv, yt, yv = train_test_split(X,y, train_size = 0.7)\n",
    "Xt, yt = tl.fit_resample(Xt,yt)"
   ]
  },
  {
   "cell_type": "code",
   "execution_count": 23,
   "metadata": {},
   "outputs": [],
   "source": [
    "from xgboost import XGBClassifier\n",
    "xgclas = XGBClassifier()"
   ]
  },
  {
   "cell_type": "code",
   "execution_count": 24,
   "metadata": {},
   "outputs": [],
   "source": [
    "xgclas.fit(Xt, yt)\n",
    "predicted = xgclas.predict(Xv)"
   ]
  },
  {
   "cell_type": "code",
   "execution_count": 25,
   "metadata": {},
   "outputs": [
    {
     "name": "stdout",
     "output_type": "stream",
     "text": [
      "              precision    recall  f1-score   support\n",
      "\n",
      "           0       1.00      1.00      1.00    149859\n",
      "           1       0.81      0.71      0.75       141\n",
      "\n",
      "    accuracy                           1.00    150000\n",
      "   macro avg       0.90      0.85      0.88    150000\n",
      "weighted avg       1.00      1.00      1.00    150000\n",
      "\n"
     ]
    }
   ],
   "source": [
    "from sklearn.metrics import classification_report\n",
    "\n",
    "print(classification_report(y_true = yv, y_pred= predicted))"
   ]
  },
  {
   "cell_type": "code",
   "execution_count": null,
   "metadata": {},
   "outputs": [],
   "source": [
    "    print(classification_report(yt, xgclas.predict(Xt)))"
   ]
  },
  {
   "cell_type": "code",
   "execution_count": null,
   "metadata": {},
   "outputs": [],
   "source": []
  },
  {
   "attachments": {},
   "cell_type": "markdown",
   "metadata": {},
   "source": [
    "# Ejecución distribuida\n",
    "Para poder ejecutar en toda la información usaremos Dask para poder distribuir los procesos y no muera el kernel"
   ]
  },
  {
   "cell_type": "code",
   "execution_count": null,
   "metadata": {},
   "outputs": [],
   "source": [
    "transactions = dd.read_csv('/home/eacs/Documents/Diplomado DS/Modulo 2/Examen Final/data/Credit Cards Transactions/credit_card_transactions-ibm_v2.csv', dtype={'Errors?': 'object'})\n",
    "\n",
    "user_info = dd.read_csv('/home/eacs/Documents/Diplomado DS/Modulo 2/Examen Final/data/Credit Cards Transactions/sd254_users.csv')\n",
    "card_info = dd.read_csv('/home/eacs/Documents/Diplomado DS/Modulo 2/Examen Final/data/Credit Cards Transactions/sd254_cards.csv')"
   ]
  },
  {
   "cell_type": "code",
   "execution_count": null,
   "metadata": {},
   "outputs": [],
   "source": [
    "union = dd.merge(transactions, user_info, left_on= 'User',right_index= True, how= 'left')\n",
    "union = dd.merge(union, card_info, left_on= 'User',right_on= 'User', how= 'left')\n"
   ]
  }
 ],
 "metadata": {
  "kernelspec": {
   "display_name": "dcd_env",
   "language": "python",
   "name": "python3"
  },
  "language_info": {
   "codemirror_mode": {
    "name": "ipython",
    "version": 3
   },
   "file_extension": ".py",
   "mimetype": "text/x-python",
   "name": "python",
   "nbconvert_exporter": "python",
   "pygments_lexer": "ipython3",
   "version": "3.10.6 (main, Nov 14 2022, 16:10:14) [GCC 11.3.0]"
  },
  "orig_nbformat": 4,
  "vscode": {
   "interpreter": {
    "hash": "875515bb85dbec387656c5d9af2fd970fd1bed4672db074957975cabf790c08e"
   }
  }
 },
 "nbformat": 4,
 "nbformat_minor": 2
}
