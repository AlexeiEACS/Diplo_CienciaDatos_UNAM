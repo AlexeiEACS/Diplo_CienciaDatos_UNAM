{
 "cells": [
  {
   "cell_type": "code",
   "execution_count": 2,
   "metadata": {},
   "outputs": [],
   "source": [
    "import pandas as pd\n",
    "import numpy as np\n",
    "\n",
    "import matplotlib.pyplot as plt\n",
    "import seaborn as sns\n",
    "sns.set()\n",
    "\n",
    "import dask\n",
    "import dask.dataframe as dd\n",
    "from dask import delayed, compute\n",
    "\n",
    "import os \n",
    "\n",
    "from sklearn.impute import SimpleImputer\n",
    "from sklearn.preprocessing import LabelEncoder\n",
    "\n",
    "from imblearn.under_sampling import TomekLinks\n",
    "from sklearn.model_selection import train_test_split\n",
    "\n",
    "from xgboost import XGBClassifier\n",
    "\n",
    "import warnings\n",
    "\n",
    "pd.options.display.max_columns = None\n",
    "warnings.filterwarnings(\"ignore\", category=FutureWarning)"
   ]
  },
  {
   "cell_type": "code",
   "execution_count": null,
   "metadata": {},
   "outputs": [],
   "source": [
    "transactions_sample = pd.read_csv('data/Credit Cards Transactions/credit_card_transactions-ibm_v2.csv', nrows= 500_000)\n",
    "card_info_sample = pd.read_csv('/home/eacs/Documents/Diplomado DS/Modulo 2/Examen Final/data/Credit Cards Transactions/sd254_cards.csv')\n",
    "user_info_sample = pd.read_csv('/home/eacs/Documents/Diplomado DS/Modulo 2/Examen Final/data/Credit Cards Transactions/sd254_users.csv')"
   ]
  },
  {
   "cell_type": "code",
   "execution_count": null,
   "metadata": {},
   "outputs": [],
   "source": [
    "transactions_sample.head(1)"
   ]
  },
  {
   "attachments": {},
   "cell_type": "markdown",
   "metadata": {},
   "source": [
    "# Limpieza de la información\n",
    "Primero limpiaremos transactions con el uso de la muestra para poder tener una idea de que es lo que debería tener cada columna"
   ]
  },
  {
   "cell_type": "code",
   "execution_count": null,
   "metadata": {},
   "outputs": [],
   "source": [
    "transactions_sample.info()"
   ]
  },
  {
   "cell_type": "code",
   "execution_count": null,
   "metadata": {},
   "outputs": [],
   "source": [
    "# Si no tiene estas columnas no sería posible hacer un análisis de la información por lo que si no las tienen las eliminaremos\n",
    "transactions_sample.dropna(subset= ['User', 'Card', 'Month', 'Day', 'Is Fraud?'], axis= 0, inplace= True)\n",
    "# Amount pasamos a numérico\n",
    "transactions_sample['Amount'] = transactions_sample['Amount'].replace({'\\$':''}, regex=True).astype('float')\n",
    "# Por la información sabemos que si Errors es NaN entonces no se tiene que borrar porque significa que no hay error\n",
    "transactions_sample['Errors?'].fillna('0', inplace= True)\n",
    "# En la localización de la venta los valores de NaN puede que signifiquen que no esté correctamente registrado pero eso puede ser información que se puede usar\n",
    "transactions_sample['Zip'] = transactions_sample['Zip'].astype('object')\n",
    "transactions_sample[['Merchant Name', 'Merchant City', 'Merchant State', 'Zip']] = transactions_sample[['Merchant Name', 'Merchant City',\n",
    "                                                                                                        'Merchant State', 'Zip']].replace({'NaN':'No registrado',\n",
    "                                                                                                                                            np.nan : 'No registrado'})\n",
    "# Pasamos los valores de Tiempo para poder hacer agrupaciones con ellos\n",
    "transactions_sample['Hour'] = pd.DatetimeIndex(transactions_sample['Time']).hour\n",
    "transactions_sample.drop('Time', axis= 1, inplace= True)\n",
    "\n",
    "transactions_sample['Fraud'] = transactions_sample['Is Fraud?'].replace({'No': 0, 'Yes':1})\n",
    "transactions_sample.drop('Is Fraud?', axis= 1, inplace= True)\n"
   ]
  },
  {
   "cell_type": "code",
   "execution_count": null,
   "metadata": {},
   "outputs": [],
   "source": [
    "from sklearn.preprocessing import LabelEncoder\n",
    "cols_to_label = ['Use Chip', 'Merchant Name','Errors?']\n",
    "l_enc = LabelEncoder()\n",
    "\n",
    "for col in cols_to_label:\n",
    "    transactions_sample[col] = l_enc.fit_transform(transactions_sample[col])"
   ]
  },
  {
   "attachments": {},
   "cell_type": "markdown",
   "metadata": {},
   "source": [
    "Necesitamos datos de la tarjeta"
   ]
  },
  {
   "cell_type": "code",
   "execution_count": null,
   "metadata": {},
   "outputs": [],
   "source": [
    "card_info_sample.columns"
   ]
  },
  {
   "cell_type": "code",
   "execution_count": null,
   "metadata": {},
   "outputs": [],
   "source": [
    "cols_to_label = ['Card Brand', 'Card Type', 'Has Chip', 'Cards Issued', 'Year PIN last Changed', 'Card on Dark Web']\n",
    "l_enc = LabelEncoder()\n",
    "\n",
    "for col in cols_to_label:\n",
    "    card_info_sample[col] = l_enc.fit_transform(card_info_sample[col])"
   ]
  },
  {
   "cell_type": "code",
   "execution_count": null,
   "metadata": {},
   "outputs": [],
   "source": [
    "card_info_sample['Expires'] = pd.to_datetime(card_info_sample['Expires'], format= '%m/%Y')\n",
    "card_info_sample['Acct Open Date'] = pd.to_datetime(card_info_sample['Acct Open Date'], format= '%m/%Y')\n",
    "card_info_sample['days_until_expire'] = (card_info_sample['Expires'] - card_info_sample['Acct Open Date']).dt.days"
   ]
  },
  {
   "cell_type": "code",
   "execution_count": null,
   "metadata": {},
   "outputs": [],
   "source": [
    "card_info_sample['Credit Limit'] = card_info_sample['Credit Limit'].replace({'\\$':''}, regex=True).astype('float')"
   ]
  },
  {
   "cell_type": "code",
   "execution_count": null,
   "metadata": {},
   "outputs": [],
   "source": [
    "transactions_sample = transactions_sample.merge(card_info_sample, how= 'inner', left_on= ['User', 'Card'], right_on= ['User', 'CARD INDEX'])"
   ]
  },
  {
   "attachments": {},
   "cell_type": "markdown",
   "metadata": {},
   "source": [
    "Porcentaje del gasto comparado con su línea de crédito"
   ]
  },
  {
   "cell_type": "code",
   "execution_count": null,
   "metadata": {},
   "outputs": [],
   "source": [
    "transactions_sample['pct_Limit_amount'] = transactions_sample['Amount'] / transactions_sample['Credit Limit']"
   ]
  },
  {
   "attachments": {},
   "cell_type": "markdown",
   "metadata": {},
   "source": [
    "Gastos promedio para cada tipo de MCC mensual por cada usuario"
   ]
  },
  {
   "cell_type": "code",
   "execution_count": null,
   "metadata": {},
   "outputs": [],
   "source": [
    "count_mcc = transactions_sample.pivot_table(index= ['User', 'Card', 'Year', 'Month'], columns= 'MCC', values= 'Amount', aggfunc= 'mean').fillna(0)\n",
    "new_columns = {col: f'MCC_{col}' for col in count_mcc.columns}\n",
    "count_mcc = count_mcc.rename(columns= new_columns)\n",
    "count_mcc.reset_index(inplace= True)\n",
    "transactions_sample = transactions_sample.merge(count_mcc, on=['User', 'Card', 'Year', 'Month'], how= 'inner')"
   ]
  },
  {
   "cell_type": "code",
   "execution_count": null,
   "metadata": {},
   "outputs": [],
   "source": [
    "count_state = transactions_sample.pivot_table(index= ['User', 'Card', 'Year', 'Month'], columns= 'Merchant State', values= 'Amount', aggfunc= 'sum').fillna(0)\n",
    "new_columns = {col: f'Merch_State_{col}' for col in count_state.columns}\n",
    "count_state = count_state.rename(columns= new_columns)\n",
    "count_state.reset_index(inplace= True)\n",
    "transactions_sample = transactions_sample.merge(count_state, on=['User', 'Card', 'Year', 'Month'], how= 'inner')"
   ]
  },
  {
   "attachments": {},
   "cell_type": "markdown",
   "metadata": {},
   "source": [
    "Ahora los datos que se necesitan de cada usuario"
   ]
  },
  {
   "cell_type": "code",
   "execution_count": null,
   "metadata": {},
   "outputs": [],
   "source": [
    "user_info_sample.columns"
   ]
  },
  {
   "cell_type": "code",
   "execution_count": null,
   "metadata": {},
   "outputs": [],
   "source": [
    "cols_to_label = ['Gender']\n",
    "l_enc = LabelEncoder()\n",
    "\n",
    "for col in cols_to_label:\n",
    "    user_info_sample[col] = l_enc.fit_transform(user_info_sample[col])"
   ]
  },
  {
   "cell_type": "code",
   "execution_count": null,
   "metadata": {},
   "outputs": [],
   "source": [
    "user_info_sample.dropna(subset= ['Person', 'City', 'State', 'Zipcode'], inplace= True, axis= 0)\n",
    "user_info_sample.fillna('NoRecod', inplace= True)\n",
    "\n",
    "user_info_sample['Per Capita Income - Zipcode'] = user_info_sample['Per Capita Income - Zipcode'].replace({'\\$':''}, regex=True).astype('float')\n",
    "user_info_sample['Yearly Income - Person'] = user_info_sample['Yearly Income - Person'].replace({'\\$':''}, regex=True).astype('float')\n",
    "user_info_sample['Total Debt'] = user_info_sample['Total Debt'].replace({'\\$':''}, regex=True).astype('float')"
   ]
  },
  {
   "cell_type": "code",
   "execution_count": null,
   "metadata": {},
   "outputs": [],
   "source": [
    "transactions_sample = transactions_sample.merge(user_info_sample, left_on= 'User', right_index= True, how= 'inner')"
   ]
  },
  {
   "cell_type": "code",
   "execution_count": null,
   "metadata": {},
   "outputs": [],
   "source": [
    "id_cols = ['User', 'Card', 'Year', 'Month', 'Day', 'Amount']\n",
    "\n",
    "mc_cols = [x for x in transactions_sample.columns if x[0:4]== 'MCC_']\n",
    "merch_cols = [x for x in transactions_sample.columns if x[0:6]== 'Merch_']\n",
    "\n",
    "cat_cols = ['Use Chip', 'Merchant Name', 'Errors?','Card Brand',\n",
    " 'Card Type','Has Chip','Year PIN last Changed', 'Gender',]\n",
    "cont_cols = ['Current Age', 'Retirement Age', 'Per Capita Income - Zipcode', 'Yearly Income - Person', 'Total Debt','FICO Score', 'Num Credit Cards']\n",
    "\n",
    "created_num = ['days_until_expire', 'pct_Limit_amount', 'InState', 'InCity']"
   ]
  },
  {
   "cell_type": "code",
   "execution_count": null,
   "metadata": {},
   "outputs": [],
   "source": [
    "transactions_sample['InState'] = transactions_sample.apply(lambda x: 1 if x['State'] == x['Merchant State'] else 0, axis= 1)\n",
    "transactions_sample['InCity'] = transactions_sample.apply(lambda x: 1 if x['City'] == x['Merchant City'] else 0, axis= 1)"
   ]
  },
  {
   "cell_type": "code",
   "execution_count": null,
   "metadata": {},
   "outputs": [],
   "source": [
    "transactions_sample = transactions_sample[id_cols + mc_cols + merch_cols + cat_cols + cont_cols + created_num + ['Fraud']]"
   ]
  },
  {
   "attachments": {},
   "cell_type": "markdown",
   "metadata": {},
   "source": [
    "# Primeras pruebas de modelo"
   ]
  },
  {
   "cell_type": "code",
   "execution_count": null,
   "metadata": {},
   "outputs": [],
   "source": [
    "from imblearn.under_sampling import TomekLinks\n",
    "from sklearn.model_selection import train_test_split\n",
    "\n",
    "X = transactions_sample[id_cols + mc_cols + merch_cols + cat_cols + cont_cols + created_num]\n",
    "y = transactions_sample['Fraud']\n",
    "\n",
    "tl = TomekLinks(sampling_strategy= 'auto')\n",
    "\n",
    "Xt, Xv, yt, yv = train_test_split(X,y, train_size = 0.7)\n",
    "Xt, yt = tl.fit_resample(Xt,yt)"
   ]
  },
  {
   "cell_type": "code",
   "execution_count": null,
   "metadata": {},
   "outputs": [],
   "source": [
    "from xgboost import XGBClassifier\n",
    "xgclas = XGBClassifier()"
   ]
  },
  {
   "cell_type": "code",
   "execution_count": null,
   "metadata": {},
   "outputs": [],
   "source": [
    "xgclas.fit(Xt, yt)\n",
    "predicted = xgclas.predict(Xv)"
   ]
  },
  {
   "cell_type": "code",
   "execution_count": null,
   "metadata": {},
   "outputs": [],
   "source": [
    "from sklearn.metrics import classification_report\n",
    "\n",
    "print(classification_report(y_true = yv, y_pred= predicted))"
   ]
  },
  {
   "cell_type": "code",
   "execution_count": null,
   "metadata": {},
   "outputs": [],
   "source": [
    "print(classification_report(yt, xgclas.predict(Xt)))"
   ]
  },
  {
   "attachments": {},
   "cell_type": "markdown",
   "metadata": {},
   "source": [
    "# Ejecución distribuida\n",
    "Para poder ejecutar en toda la información usaremos Dask para poder distribuir los procesos y no muera el kernel"
   ]
  },
  {
   "cell_type": "code",
   "execution_count": 3,
   "metadata": {},
   "outputs": [
    {
     "data": {
      "text/plain": [
       "['credit_card_transactions-ibm_v2.csv', 'sd254_users.csv', 'sd254_cards.csv']"
      ]
     },
     "execution_count": 3,
     "metadata": {},
     "output_type": "execute_result"
    }
   ],
   "source": [
    "dataPath = 'data/'\n",
    "files = [file for file in os.listdir(dataPath)]\n",
    "files"
   ]
  },
  {
   "cell_type": "code",
   "execution_count": 4,
   "metadata": {},
   "outputs": [],
   "source": [
    "transactions = dd.read_csv(dataPath + 'credit_card_transactions-ibm_v2.csv', dtype={'Errors?': 'object'})\n",
    "user_info = dd.read_csv(dataPath + 'sd254_users.csv')\n",
    "card_info = dd.read_csv(dataPath + 'sd254_cards.csv')"
   ]
  },
  {
   "cell_type": "code",
   "execution_count": 5,
   "metadata": {},
   "outputs": [
    {
     "name": "stdout",
     "output_type": "stream",
     "text": [
      "0          0\n",
      "1          1\n",
      "2          2\n",
      "3          3\n",
      "4          4\n",
      "        ... \n",
      "1943    1995\n",
      "1944    1996\n",
      "1945    1997\n",
      "1946    1998\n",
      "1947    1999\n",
      "Name: User, Length: 1948, dtype: int64\n"
     ]
    }
   ],
   "source": [
    "transactions[\"Date\"] = dd.to_datetime(transactions[[\"Year\", \"Month\", 'Day']])\n",
    "transactions = transactions[transactions.Date >= '2019-01-01']\n",
    "print(transactions.User.unique().compute())"
   ]
  },
  {
   "cell_type": "code",
   "execution_count": 6,
   "metadata": {},
   "outputs": [
    {
     "name": "stderr",
     "output_type": "stream",
     "text": [
      "QSocketNotifier: Can only be used with threads started with QThread\n"
     ]
    }
   ],
   "source": [
    "union = dd.merge(transactions, user_info, left_on= 'User',right_index= True, how= 'left')\n",
    "union = dd.merge(union, card_info, left_on= 'User',right_on= 'User', how= 'left')\n",
    "union.head(2).to_clipboard()"
   ]
  },
  {
   "attachments": {},
   "cell_type": "markdown",
   "metadata": {},
   "source": [
    "# Limpieza de datos"
   ]
  },
  {
   "cell_type": "code",
   "execution_count": 7,
   "metadata": {},
   "outputs": [
    {
     "data": {
      "text/html": [
       "<div>\n",
       "<style scoped>\n",
       "    .dataframe tbody tr th:only-of-type {\n",
       "        vertical-align: middle;\n",
       "    }\n",
       "\n",
       "    .dataframe tbody tr th {\n",
       "        vertical-align: top;\n",
       "    }\n",
       "\n",
       "    .dataframe thead th {\n",
       "        text-align: right;\n",
       "    }\n",
       "</style>\n",
       "<table border=\"1\" class=\"dataframe\">\n",
       "  <thead>\n",
       "    <tr style=\"text-align: right;\">\n",
       "      <th></th>\n",
       "      <th>User</th>\n",
       "      <th>Card</th>\n",
       "      <th>Year</th>\n",
       "      <th>Month</th>\n",
       "      <th>Day</th>\n",
       "      <th>Time</th>\n",
       "      <th>Amount</th>\n",
       "      <th>Use Chip</th>\n",
       "      <th>Merchant Name</th>\n",
       "      <th>Merchant City</th>\n",
       "      <th>Merchant State</th>\n",
       "      <th>Zip</th>\n",
       "      <th>MCC</th>\n",
       "      <th>Date</th>\n",
       "      <th>Person</th>\n",
       "      <th>Current Age</th>\n",
       "      <th>Retirement Age</th>\n",
       "      <th>Birth Year</th>\n",
       "      <th>Birth Month</th>\n",
       "      <th>Gender</th>\n",
       "      <th>Address</th>\n",
       "      <th>Apartment</th>\n",
       "      <th>City</th>\n",
       "      <th>State</th>\n",
       "      <th>Zipcode</th>\n",
       "      <th>Latitude</th>\n",
       "      <th>Longitude</th>\n",
       "      <th>FICO Score</th>\n",
       "      <th>Num Credit Cards</th>\n",
       "      <th>CARD INDEX</th>\n",
       "      <th>Card Brand</th>\n",
       "      <th>Card Type</th>\n",
       "      <th>Card Number</th>\n",
       "      <th>Expires</th>\n",
       "      <th>CVV</th>\n",
       "      <th>Has Chip</th>\n",
       "      <th>Cards Issued</th>\n",
       "      <th>Year PIN last Changed</th>\n",
       "      <th>Card on Dark Web</th>\n",
       "      <th>Credit_Limit</th>\n",
       "      <th>Total_Debt</th>\n",
       "      <th>Per_Capita_Income_Zipcide</th>\n",
       "      <th>Yearly_Income_Person</th>\n",
       "      <th>Acct_Open_Date</th>\n",
       "      <th>Merchant_Name</th>\n",
       "      <th>Merchant_City</th>\n",
       "      <th>Merchant_State</th>\n",
       "      <th>Erros</th>\n",
       "      <th>Fraud</th>\n",
       "    </tr>\n",
       "  </thead>\n",
       "  <tbody>\n",
       "    <tr>\n",
       "      <th>0</th>\n",
       "      <td>0</td>\n",
       "      <td>0</td>\n",
       "      <td>2019</td>\n",
       "      <td>1</td>\n",
       "      <td>5</td>\n",
       "      <td>06:02</td>\n",
       "      <td>120.3</td>\n",
       "      <td>Chip Transaction</td>\n",
       "      <td>7522433618679272954</td>\n",
       "      <td>Princeton</td>\n",
       "      <td>MA</td>\n",
       "      <td>1541.0</td>\n",
       "      <td>5411</td>\n",
       "      <td>2019-01-05</td>\n",
       "      <td>Hazel Robinson</td>\n",
       "      <td>53</td>\n",
       "      <td>66</td>\n",
       "      <td>1966</td>\n",
       "      <td>11</td>\n",
       "      <td>Female</td>\n",
       "      <td>462 Rose Lane</td>\n",
       "      <td>NaN</td>\n",
       "      <td>La Verne</td>\n",
       "      <td>CA</td>\n",
       "      <td>91750</td>\n",
       "      <td>34.15</td>\n",
       "      <td>-117.76</td>\n",
       "      <td>787</td>\n",
       "      <td>5</td>\n",
       "      <td>0</td>\n",
       "      <td>Visa</td>\n",
       "      <td>Debit</td>\n",
       "      <td>4344676511950444</td>\n",
       "      <td>2022-12-01</td>\n",
       "      <td>623</td>\n",
       "      <td>YES</td>\n",
       "      <td>2</td>\n",
       "      <td>2008</td>\n",
       "      <td>No</td>\n",
       "      <td>24295.0</td>\n",
       "      <td>127613.0</td>\n",
       "      <td>29278.0</td>\n",
       "      <td>59696.0</td>\n",
       "      <td>2002-09-01</td>\n",
       "      <td>7522433618679272954</td>\n",
       "      <td>Princeton</td>\n",
       "      <td>MA</td>\n",
       "      <td>Insufficient Balance</td>\n",
       "      <td>0</td>\n",
       "    </tr>\n",
       "    <tr>\n",
       "      <th>1</th>\n",
       "      <td>0</td>\n",
       "      <td>0</td>\n",
       "      <td>2019</td>\n",
       "      <td>1</td>\n",
       "      <td>5</td>\n",
       "      <td>06:02</td>\n",
       "      <td>120.3</td>\n",
       "      <td>Chip Transaction</td>\n",
       "      <td>7522433618679272954</td>\n",
       "      <td>Princeton</td>\n",
       "      <td>MA</td>\n",
       "      <td>1541.0</td>\n",
       "      <td>5411</td>\n",
       "      <td>2019-01-05</td>\n",
       "      <td>Hazel Robinson</td>\n",
       "      <td>53</td>\n",
       "      <td>66</td>\n",
       "      <td>1966</td>\n",
       "      <td>11</td>\n",
       "      <td>Female</td>\n",
       "      <td>462 Rose Lane</td>\n",
       "      <td>NaN</td>\n",
       "      <td>La Verne</td>\n",
       "      <td>CA</td>\n",
       "      <td>91750</td>\n",
       "      <td>34.15</td>\n",
       "      <td>-117.76</td>\n",
       "      <td>787</td>\n",
       "      <td>5</td>\n",
       "      <td>1</td>\n",
       "      <td>Visa</td>\n",
       "      <td>Debit</td>\n",
       "      <td>4956965974959986</td>\n",
       "      <td>2020-12-01</td>\n",
       "      <td>393</td>\n",
       "      <td>YES</td>\n",
       "      <td>2</td>\n",
       "      <td>2014</td>\n",
       "      <td>No</td>\n",
       "      <td>21968.0</td>\n",
       "      <td>127613.0</td>\n",
       "      <td>29278.0</td>\n",
       "      <td>59696.0</td>\n",
       "      <td>2014-04-01</td>\n",
       "      <td>7522433618679272954</td>\n",
       "      <td>Princeton</td>\n",
       "      <td>MA</td>\n",
       "      <td>Insufficient Balance</td>\n",
       "      <td>0</td>\n",
       "    </tr>\n",
       "  </tbody>\n",
       "</table>\n",
       "</div>"
      ],
      "text/plain": [
       "   User  Card  Year  Month  Day   Time  Amount          Use Chip  \\\n",
       "0     0     0  2019      1    5  06:02   120.3  Chip Transaction   \n",
       "1     0     0  2019      1    5  06:02   120.3  Chip Transaction   \n",
       "\n",
       "         Merchant Name Merchant City Merchant State     Zip   MCC       Date  \\\n",
       "0  7522433618679272954     Princeton             MA  1541.0  5411 2019-01-05   \n",
       "1  7522433618679272954     Princeton             MA  1541.0  5411 2019-01-05   \n",
       "\n",
       "           Person  Current Age  Retirement Age  Birth Year  Birth Month  \\\n",
       "0  Hazel Robinson           53              66        1966           11   \n",
       "1  Hazel Robinson           53              66        1966           11   \n",
       "\n",
       "   Gender        Address  Apartment      City State  Zipcode  Latitude  \\\n",
       "0  Female  462 Rose Lane        NaN  La Verne    CA    91750     34.15   \n",
       "1  Female  462 Rose Lane        NaN  La Verne    CA    91750     34.15   \n",
       "\n",
       "   Longitude  FICO Score  Num Credit Cards  CARD INDEX Card Brand Card Type  \\\n",
       "0    -117.76         787                 5           0       Visa     Debit   \n",
       "1    -117.76         787                 5           1       Visa     Debit   \n",
       "\n",
       "        Card Number    Expires  CVV Has Chip  Cards Issued  \\\n",
       "0  4344676511950444 2022-12-01  623      YES             2   \n",
       "1  4956965974959986 2020-12-01  393      YES             2   \n",
       "\n",
       "   Year PIN last Changed Card on Dark Web  Credit_Limit  Total_Debt  \\\n",
       "0                   2008               No       24295.0    127613.0   \n",
       "1                   2014               No       21968.0    127613.0   \n",
       "\n",
       "   Per_Capita_Income_Zipcide  Yearly_Income_Person Acct_Open_Date  \\\n",
       "0                    29278.0               59696.0     2002-09-01   \n",
       "1                    29278.0               59696.0     2014-04-01   \n",
       "\n",
       "         Merchant_Name Merchant_City Merchant_State                 Erros  \\\n",
       "0  7522433618679272954     Princeton             MA  Insufficient Balance   \n",
       "1  7522433618679272954     Princeton             MA  Insufficient Balance   \n",
       "\n",
       "   Fraud  \n",
       "0      0  \n",
       "1      0  "
      ]
     },
     "execution_count": 7,
     "metadata": {},
     "output_type": "execute_result"
    }
   ],
   "source": [
    "# Si no tiene estas columnas no sería posible hacer un análisis de la información\n",
    "union = union.dropna(subset= [\n",
    "    'User', 'Card', 'Month', 'Day', 'Is Fraud?', # De Transactions\n",
    "    'Person', 'City', 'State', 'Zipcode', # De user_info\n",
    "    'Card Brand', 'Card Type', 'Has Chip', 'Cards Issued', 'Credit Limit', 'Expires', 'Acct Open Date' # De union\n",
    "    ])\n",
    "\n",
    "# Amount pasamos a numérico\n",
    "union = union.assign(\n",
    "    Amount=union['Amount'].str.replace('$', '').astype('float64'),\n",
    "    Credit_Limit = union['Credit Limit'].str.replace('$', '').astype('float64'),\n",
    "    Total_Debt = union['Total Debt'].str.replace('$', '').astype('float64'),\n",
    "    Per_Capita_Income_Zipcide = union['Per Capita Income - Zipcode'].str.replace('$', '').astype('float64'),\n",
    "    Yearly_Income_Person = union['Yearly Income - Person'].str.replace('$', '').astype('float64')\n",
    ")\n",
    "\n",
    "\n",
    "union = union.drop(\n",
    "    ['Credit Limit', 'Total Debt', 'Per Capita Income - Zipcode', 'Yearly Income - Person'],\n",
    "    axis = 1)\n",
    "\n",
    "\n",
    "# Formato de fecha\n",
    "union = union.assign(\n",
    "    Acct_Open_Date = dd.to_datetime(union['Acct Open Date'], format= '%m/%Y'),\n",
    "    Expires= dd.to_datetime(union['Expires'], format= '%m/%Y'),\n",
    "    )\n",
    "union = union.drop(\n",
    "    ['Acct Open Date'],\n",
    "    axis = 1)\n",
    "\n",
    "# Cambio de formatos\n",
    "union = union.assign(\n",
    "    Zip = union['Zip'].astype('object'),\n",
    "\n",
    ")\n",
    "\n",
    "\n",
    "# Remplazar datos faltantes\n",
    "union = union.assign(\n",
    "    Merchant_Name = union['Merchant Name'].replace(np.nan, 'No registrado'),\n",
    "    Merchant_City = union['Merchant City'].replace(np.nan, 'No registrado'),\n",
    "    Merchant_State = union['Merchant State'].replace(np.nan, 'No registrado'),\n",
    "    Zip = union['Zip'].replace(np.nan, 'No registrado')\n",
    ")\n",
    "\n",
    "\n",
    "\n",
    "union = union.assign(\n",
    "    Erros= union['Errors?'].fillna('0'),\n",
    "    Fraud= union['Is Fraud?'].map({'No': 0, 'Yes': 1})\n",
    ")\n",
    "\n",
    "union = union.drop(\n",
    "    ['Errors?', 'Is Fraud?'], axis=1)\n",
    "\n",
    "\n",
    "union.head(2)"
   ]
  },
  {
   "attachments": {},
   "cell_type": "markdown",
   "metadata": {},
   "source": [
    "## Creación de variables"
   ]
  },
  {
   "attachments": {},
   "cell_type": "markdown",
   "metadata": {},
   "source": [
    "Dias desde el último fraude"
   ]
  },
  {
   "cell_type": "code",
   "execution_count": 8,
   "metadata": {},
   "outputs": [],
   "source": [
    "union[\"Date\"] = dd.to_datetime(union[[\"Year\", \"Month\", 'Day']])\n",
    "\n",
    "# Find the last fraud date for each user and card combination\n",
    "last_fraud = union[union[\"Fraud\"] == True].groupby([\"User\", \"Card\"])[\"Date\"].max()\n",
    "\n",
    "# Create a new column to track the number of days since a fraud happened\n",
    "def add_days_since_fraud(row):\n",
    "    if row[\"Fraud\"] == True:\n",
    "        return 0\n",
    "    else:\n",
    "        user = row[\"User\"]\n",
    "        card = row[\"Card\"]\n",
    "        if (user, card) in last_fraud:\n",
    "            return (row[\"Date\"] - last_fraud[(user, card)]).days\n",
    "    return np.nan\n",
    "\n",
    "union[\"Days Since Fraud\"] = union.map_partitions(lambda union: union.apply(add_days_since_fraud, axis=1))"
   ]
  },
  {
   "cell_type": "code",
   "execution_count": 9,
   "metadata": {},
   "outputs": [],
   "source": [
    "def calc_days_until_expire(df):\n",
    "    df['days_until_expire'] = (df['Expires'] - df['Acct_Open_Date']).dt.days\n",
    "    return df\n",
    "\n",
    "union = union.map_partitions(calc_days_until_expire)"
   ]
  },
  {
   "cell_type": "code",
   "execution_count": 10,
   "metadata": {},
   "outputs": [],
   "source": [
    "def calc_pct_amount_limit(df):\n",
    "    df['pct_limit_amount'] = df['Amount'] / df['Credit_Limit']\n",
    "    return df\n",
    "\n",
    "union = union.map_partitions(calc_pct_amount_limit)"
   ]
  },
  {
   "cell_type": "code",
   "execution_count": 11,
   "metadata": {},
   "outputs": [],
   "source": [
    "union['InState'] = union.apply(lambda x: 1 if x['State'] == x['Merchant State'] else 0, axis= 1, meta= (None, 'int64'))\n",
    "union['InCity'] = union.apply(lambda x: 1 if x['City'] == x['Merchant City'] else 0, axis= 1, meta= (None, 'int64'))"
   ]
  },
  {
   "cell_type": "code",
   "execution_count": 12,
   "metadata": {},
   "outputs": [],
   "source": [
    "id_cols = ['User', 'Card', 'Year', 'Month', 'Day', 'Amount']\n",
    "\n",
    "cat_cols = ['Use Chip', 'Merchant Name', 'Errors','Card Brand',\n",
    " 'Card Type','Has Chip','Year PIN last Changed', 'Gender',]\n",
    "cont_cols = ['Current Age', 'Retirement Age', 'Per Capita Income - Zipcode', 'Yearly Income - Person', 'Total Debt','FICO Score', 'Num Credit Cards']\n",
    "\n",
    "created_num = ['days_until_expire', 'pct_limit_amount', 'InState', 'InCity']\n",
    "\n",
    "\n",
    "columns_use = [id_cols + cat_cols + cont_cols + created_num]"
   ]
  },
  {
   "cell_type": "code",
   "execution_count": 13,
   "metadata": {},
   "outputs": [],
   "source": [
    "def label_columns(df):\n",
    "    cols_to_label = [\n",
    "        'Use Chip', 'Merchant Name','Errors', \n",
    "        'Card Brand', 'Card Type', 'Has Chip', 'Cards Issued', 'Year PIN last Changed', 'Card on Dark Web',\n",
    "        'Gender'\n",
    "        ]\n",
    "\n",
    "    l_enc = LabelEncoder()\n",
    "\n",
    "    for col in cols_to_label:\n",
    "        df = df.assign(**{col: l_enc.fit_transform(df[col])})\n",
    "\n",
    "    return df"
   ]
  },
  {
   "attachments": {},
   "cell_type": "markdown",
   "metadata": {},
   "source": [
    "# Se hará primero un modelo por cada usuario"
   ]
  },
  {
   "cell_type": "code",
   "execution_count": 14,
   "metadata": {},
   "outputs": [],
   "source": [
    "# dd_for_user = []\n",
    "# unique_users = union.User.compute().unique()\n",
    "# print(len(unique_users))\n",
    "# for user in unique_users:\n",
    "#     user_df = union[union.User == user].map_partitions(lambda df: df.loc[df.User == user])\n",
    "\n",
    "#     # Pivote de tipo giro de la compra\n",
    "#     count_mcc = user_df.pivot_table(index= ['User', 'Card', 'Year', 'Month'], columns= 'MCC', values= 'Amount', aggfunc= 'mean')\n",
    "#     new_columns = {col: f'MCC_{col}' for col in count_mcc.columns}\n",
    "#     count_mcc = count_mcc.rename(columns= new_columns)\n",
    "#     count_mcc.reset_index(inplace= True)\n",
    "#     user_df = user_df.merge(count_mcc, on=['User', 'Card', 'Year', 'Month'], how= 'inner')\n",
    "#     print(new_columns)\n",
    "#     # Pivote de estado de compras\n",
    "#     count_state = user_df.pivot_table(index= ['User', 'Card', 'Year', 'Month'], columns= 'Merchant State', values= 'Amount', aggfunc= 'sum').fillna(0)\n",
    "#     new_columns = {col: f'Merch_State_{col}' for col in count_state.columns}\n",
    "#     count_state = count_state.rename(columns= new_columns)\n",
    "#     count_state.reset_index(inplace= True)\n",
    "#     user_df = user_df.merge(count_state, on=['User', 'Card', 'Year', 'Month'], how= 'inner')\n",
    "#     print(new_columns)\n",
    "\n",
    "#     # Agregamos las variables\n",
    "#     mc_cols = [x for x in user_df.columns if x[0:4]== 'MCC_']\n",
    "#     merch_cols = [x for x in user_df.columns if x[0:6]== 'Merch_']\n",
    "\n",
    "#     columns_use = [columns_use + mc_cols + merch_cols]\n",
    "\n",
    "#     dd_for_user.append(user_df)\n",
    "#     print(mc_cols, merch_cols)\n",
    "\n"
   ]
  },
  {
   "cell_type": "code",
   "execution_count": 22,
   "metadata": {},
   "outputs": [
    {
     "ename": "",
     "evalue": "",
     "output_type": "error",
     "traceback": [
      "\u001b[1;31mThe Kernel crashed while executing code in the the current cell or a previous cell. Please review the code in the cell(s) to identify a possible cause of the failure. Click <a href='https://aka.ms/vscodeJupyterKernelCrash'>here</a> for more info. View Jupyter <a href='command:jupyter.viewOutput'>log</a> for further details."
     ]
    },
    {
     "ename": "",
     "evalue": "",
     "output_type": "error",
     "traceback": [
      "\u001b[1;31mCanceled future for execute_request message before replies were done"
     ]
    }
   ],
   "source": [
    "union.User.unique().compute()"
   ]
  },
  {
   "cell_type": "code",
   "execution_count": 21,
   "metadata": {},
   "outputs": [
    {
     "ename": "ValueError",
     "evalue": "'index' must be the name of an existing column",
     "output_type": "error",
     "traceback": [
      "\u001b[0;31m---------------------------------------------------------------------------\u001b[0m",
      "\u001b[0;31mValueError\u001b[0m                                Traceback (most recent call last)",
      "Cell \u001b[0;32mIn [21], line 28\u001b[0m\n\u001b[1;32m     26\u001b[0m test1 \u001b[39m=\u001b[39m union\u001b[39m.\u001b[39mloc[union\u001b[39m.\u001b[39mUser \u001b[39m==\u001b[39m \u001b[39m'\u001b[39m\u001b[39m2000\u001b[39m\u001b[39m'\u001b[39m]\n\u001b[1;32m     27\u001b[0m test1 \u001b[39m=\u001b[39m test1\u001b[39m.\u001b[39mreset_index()\n\u001b[0;32m---> 28\u001b[0m process_group(test1)\n",
      "Cell \u001b[0;32mIn [21], line 4\u001b[0m, in \u001b[0;36mprocess_group\u001b[0;34m(group)\u001b[0m\n\u001b[1;32m      1\u001b[0m \u001b[39mdef\u001b[39;00m \u001b[39mprocess_group\u001b[39m(group):\n\u001b[1;32m      2\u001b[0m     \n\u001b[1;32m      3\u001b[0m     \u001b[39m# Pivote de tipo giro de la compra\u001b[39;00m\n\u001b[0;32m----> 4\u001b[0m     count_mcc \u001b[39m=\u001b[39m group\u001b[39m.\u001b[39;49mpivot_table(index\u001b[39m=\u001b[39;49m [\u001b[39m'\u001b[39;49m\u001b[39mUser\u001b[39;49m\u001b[39m'\u001b[39;49m, \u001b[39m'\u001b[39;49m\u001b[39mCard\u001b[39;49m\u001b[39m'\u001b[39;49m, \u001b[39m'\u001b[39;49m\u001b[39mYear\u001b[39;49m\u001b[39m'\u001b[39;49m, \u001b[39m'\u001b[39;49m\u001b[39mMonth\u001b[39;49m\u001b[39m'\u001b[39;49m], columns\u001b[39m=\u001b[39;49m \u001b[39m'\u001b[39;49m\u001b[39mMCC\u001b[39;49m\u001b[39m'\u001b[39;49m, values\u001b[39m=\u001b[39;49m \u001b[39m'\u001b[39;49m\u001b[39mAmount\u001b[39;49m\u001b[39m'\u001b[39;49m, aggfunc\u001b[39m=\u001b[39;49m \u001b[39m'\u001b[39;49m\u001b[39mmean\u001b[39;49m\u001b[39m'\u001b[39;49m)\n\u001b[1;32m      5\u001b[0m     new_columns \u001b[39m=\u001b[39m {col: \u001b[39mf\u001b[39m\u001b[39m'\u001b[39m\u001b[39mMCC_\u001b[39m\u001b[39m{\u001b[39;00mcol\u001b[39m}\u001b[39;00m\u001b[39m'\u001b[39m \u001b[39mfor\u001b[39;00m col \u001b[39min\u001b[39;00m count_mcc\u001b[39m.\u001b[39mcolumns}\n\u001b[1;32m      6\u001b[0m     count_mcc \u001b[39m=\u001b[39m count_mcc\u001b[39m.\u001b[39mrename(columns\u001b[39m=\u001b[39m new_columns)\n",
      "File \u001b[0;32m~/entornos_virtuales/dcd_env/lib/python3.10/site-packages/dask/dataframe/core.py:5938\u001b[0m, in \u001b[0;36mDataFrame.pivot_table\u001b[0;34m(self, index, columns, values, aggfunc)\u001b[0m\n\u001b[1;32m   5917\u001b[0m \u001b[39m\"\"\"\u001b[39;00m\n\u001b[1;32m   5918\u001b[0m \u001b[39mCreate a spreadsheet-style pivot table as a DataFrame. Target ``columns``\u001b[39;00m\n\u001b[1;32m   5919\u001b[0m \u001b[39mmust have category dtype to infer result's ``columns``.\u001b[39;00m\n\u001b[0;32m   (...)\u001b[0m\n\u001b[1;32m   5934\u001b[0m \u001b[39mtable : DataFrame\u001b[39;00m\n\u001b[1;32m   5935\u001b[0m \u001b[39m\"\"\"\u001b[39;00m\n\u001b[1;32m   5936\u001b[0m \u001b[39mfrom\u001b[39;00m \u001b[39mdask\u001b[39;00m\u001b[39m.\u001b[39;00m\u001b[39mdataframe\u001b[39;00m\u001b[39m.\u001b[39;00m\u001b[39mreshape\u001b[39;00m \u001b[39mimport\u001b[39;00m pivot_table\n\u001b[0;32m-> 5938\u001b[0m \u001b[39mreturn\u001b[39;00m pivot_table(\n\u001b[1;32m   5939\u001b[0m     \u001b[39mself\u001b[39;49m, index\u001b[39m=\u001b[39;49mindex, columns\u001b[39m=\u001b[39;49mcolumns, values\u001b[39m=\u001b[39;49mvalues, aggfunc\u001b[39m=\u001b[39;49maggfunc\n\u001b[1;32m   5940\u001b[0m )\n",
      "File \u001b[0;32m~/entornos_virtuales/dcd_env/lib/python3.10/site-packages/dask/dataframe/reshape.py:204\u001b[0m, in \u001b[0;36mpivot_table\u001b[0;34m(df, index, columns, values, aggfunc)\u001b[0m\n\u001b[1;32m    177\u001b[0m \u001b[39m\"\"\"\u001b[39;00m\n\u001b[1;32m    178\u001b[0m \u001b[39mCreate a spreadsheet-style pivot table as a DataFrame. Target ``columns``\u001b[39;00m\n\u001b[1;32m    179\u001b[0m \u001b[39mmust have category dtype to infer result's ``columns``.\u001b[39;00m\n\u001b[0;32m   (...)\u001b[0m\n\u001b[1;32m    200\u001b[0m \u001b[39mpandas.DataFrame.pivot_table\u001b[39;00m\n\u001b[1;32m    201\u001b[0m \u001b[39m\"\"\"\u001b[39;00m\n\u001b[1;32m    203\u001b[0m \u001b[39mif\u001b[39;00m \u001b[39mnot\u001b[39;00m is_scalar(index) \u001b[39mor\u001b[39;00m index \u001b[39mis\u001b[39;00m \u001b[39mNone\u001b[39;00m:\n\u001b[0;32m--> 204\u001b[0m     \u001b[39mraise\u001b[39;00m \u001b[39mValueError\u001b[39;00m(\u001b[39m\"\u001b[39m\u001b[39m'\u001b[39m\u001b[39mindex\u001b[39m\u001b[39m'\u001b[39m\u001b[39m must be the name of an existing column\u001b[39m\u001b[39m\"\u001b[39m)\n\u001b[1;32m    205\u001b[0m \u001b[39mif\u001b[39;00m \u001b[39mnot\u001b[39;00m is_scalar(columns) \u001b[39mor\u001b[39;00m columns \u001b[39mis\u001b[39;00m \u001b[39mNone\u001b[39;00m:\n\u001b[1;32m    206\u001b[0m     \u001b[39mraise\u001b[39;00m \u001b[39mValueError\u001b[39;00m(\u001b[39m\"\u001b[39m\u001b[39m'\u001b[39m\u001b[39mcolumns\u001b[39m\u001b[39m'\u001b[39m\u001b[39m must be the name of an existing column\u001b[39m\u001b[39m\"\u001b[39m)\n",
      "\u001b[0;31mValueError\u001b[0m: 'index' must be the name of an existing column"
     ]
    }
   ],
   "source": [
    "\n",
    "def process_group(group):\n",
    "    \n",
    "    # Pivote de tipo giro de la compra\n",
    "    count_mcc = group.pivot_table(index= ['User', 'Card', 'Year', 'Month'], columns= 'MCC', values= 'Amount', aggfunc= 'mean')\n",
    "    new_columns = {col: f'MCC_{col}' for col in count_mcc.columns}\n",
    "    count_mcc = count_mcc.rename(columns= new_columns)\n",
    "    count_mcc.reset_index(inplace= True)\n",
    "    group = group.merge(count_mcc, on=['User', 'Card', 'Year', 'Month'], how= 'inner')\n",
    "    \n",
    "    # Pivote de estado de compras\n",
    "    count_state = group.pivot_table(index= ['User', 'Card', 'Year', 'Month'], columns= 'Merchant State', values= 'Amount', aggfunc= 'sum').fillna(0)\n",
    "    new_columns = {col: f'Merch_State_{col}' for col in count_state.columns}\n",
    "    count_state = count_state.rename(columns= new_columns)\n",
    "    count_state.reset_index(inplace= True)\n",
    "    group = group.merge(count_state, on=['User', 'Card', 'Year', 'Month'], how= 'inner')\n",
    "\n",
    "    # Agregamos las variables\n",
    "    mc_cols = [x for x in group.columns if x[0:4]== 'MCC_']\n",
    "    merch_cols = [x for x in group.columns if x[0:6]== 'Merch_']\n",
    "\n",
    "    columns_use.extend(mc_cols + merch_cols)\n",
    "\n",
    "    return group\n",
    "\n",
    "\n",
    "test1 = union.loc[union.User == '2000']\n",
    "test1 = test1.reset_index()\n",
    "process_group(test1)"
   ]
  }
 ],
 "metadata": {
  "kernelspec": {
   "display_name": "env_hesh",
   "language": "python",
   "name": "python3"
  },
  "language_info": {
   "codemirror_mode": {
    "name": "ipython",
    "version": 3
   },
   "file_extension": ".py",
   "mimetype": "text/x-python",
   "name": "python",
   "nbconvert_exporter": "python",
   "pygments_lexer": "ipython3",
   "version": "3.10.9"
  },
  "orig_nbformat": 4,
  "vscode": {
   "interpreter": {
    "hash": "6d40a156c0a69e072bf69323100957728386abbf036ef6a9f2913899bed02f5e"
   }
  }
 },
 "nbformat": 4,
 "nbformat_minor": 2
}
