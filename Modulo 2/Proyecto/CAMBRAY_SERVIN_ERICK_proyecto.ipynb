{
  "cells": [
    {
      "cell_type": "markdown",
      "metadata": {
        "id": "CXmqcCoSiqDf"
      },
      "source": [
        "## Entrega Final Diplomando Data Science\n",
        "- Erick Alexei Cambray Servin\n"
      ]
    },
    {
      "cell_type": "code",
      "execution_count": 1,
      "metadata": {
        "id": "2OueusVgiqDl"
      },
      "outputs": [],
      "source": [
        "import pandas as pd\n",
        "import numpy as np\n",
        "\n",
        "import matplotlib.pyplot as plt\n",
        "import seaborn as sns\n",
        "\n",
        "from scipy.stats import shapiro, bartlett\n",
        "import statsmodels.api as sm\n",
        "\n",
        "import os \n",
        "sns.set()\n",
        "\n",
        "pd.options.display.max_columns = None"
      ]
    },
    {
      "cell_type": "markdown",
      "metadata": {
        "id": "st8-cavWiqDo"
      },
      "source": [
        "Teniendo esta información vamos a poder hacer una nueva columna la cual vamos a hacer una columna de clasificación sobre la que se hará el análisis de severidad, crearemos una columna que diga 1 si es que la severidad está entre 1 y 2. En 0 si es que está en 3 y 4. Lo que nos dirá que tan grave es un accidente dependiendo de las condiciones en las que sucedió el accidente"
      ]
    },
    {
      "cell_type": "code",
      "execution_count": 2,
      "metadata": {},
      "outputs": [],
      "source": [
        "dataPath = '/Users/admin/Documents/Personal/data/'"
      ]
    },
    {
      "cell_type": "code",
      "execution_count": 3,
      "metadata": {
        "id": "VmAru7q6iqDp"
      },
      "outputs": [],
      "source": [
        "data = pd.read_csv(dataPath + '/US_Accidents_Dec21_updated.csv')"
      ]
    },
    {
      "cell_type": "code",
      "execution_count": 4,
      "metadata": {
        "id": "hdPWwsdniqDp",
        "outputId": "77cad058-1af3-452d-98e3-aa3552d2c291"
      },
      "outputs": [
        {
          "data": {
            "text/html": [
              "<div>\n",
              "<style scoped>\n",
              "    .dataframe tbody tr th:only-of-type {\n",
              "        vertical-align: middle;\n",
              "    }\n",
              "\n",
              "    .dataframe tbody tr th {\n",
              "        vertical-align: top;\n",
              "    }\n",
              "\n",
              "    .dataframe thead th {\n",
              "        text-align: right;\n",
              "    }\n",
              "</style>\n",
              "<table border=\"1\" class=\"dataframe\">\n",
              "  <thead>\n",
              "    <tr style=\"text-align: right;\">\n",
              "      <th></th>\n",
              "      <th>ID</th>\n",
              "      <th>Severity</th>\n",
              "      <th>Start_Time</th>\n",
              "      <th>End_Time</th>\n",
              "      <th>Start_Lat</th>\n",
              "      <th>Start_Lng</th>\n",
              "      <th>End_Lat</th>\n",
              "      <th>End_Lng</th>\n",
              "      <th>Distance(mi)</th>\n",
              "      <th>Description</th>\n",
              "      <th>Number</th>\n",
              "      <th>Street</th>\n",
              "      <th>Side</th>\n",
              "      <th>City</th>\n",
              "      <th>County</th>\n",
              "      <th>State</th>\n",
              "      <th>Zipcode</th>\n",
              "      <th>Country</th>\n",
              "      <th>Timezone</th>\n",
              "      <th>Airport_Code</th>\n",
              "      <th>Weather_Timestamp</th>\n",
              "      <th>Temperature(F)</th>\n",
              "      <th>Wind_Chill(F)</th>\n",
              "      <th>Humidity(%)</th>\n",
              "      <th>Pressure(in)</th>\n",
              "      <th>Visibility(mi)</th>\n",
              "      <th>Wind_Direction</th>\n",
              "      <th>Wind_Speed(mph)</th>\n",
              "      <th>Precipitation(in)</th>\n",
              "      <th>Weather_Condition</th>\n",
              "      <th>Amenity</th>\n",
              "      <th>Bump</th>\n",
              "      <th>Crossing</th>\n",
              "      <th>Give_Way</th>\n",
              "      <th>Junction</th>\n",
              "      <th>No_Exit</th>\n",
              "      <th>Railway</th>\n",
              "      <th>Roundabout</th>\n",
              "      <th>Station</th>\n",
              "      <th>Stop</th>\n",
              "      <th>Traffic_Calming</th>\n",
              "      <th>Traffic_Signal</th>\n",
              "      <th>Turning_Loop</th>\n",
              "      <th>Sunrise_Sunset</th>\n",
              "      <th>Civil_Twilight</th>\n",
              "      <th>Nautical_Twilight</th>\n",
              "      <th>Astronomical_Twilight</th>\n",
              "    </tr>\n",
              "  </thead>\n",
              "  <tbody>\n",
              "    <tr>\n",
              "      <th>0</th>\n",
              "      <td>A-1</td>\n",
              "      <td>3</td>\n",
              "      <td>2016-02-08 00:37:08</td>\n",
              "      <td>2016-02-08 06:37:08</td>\n",
              "      <td>40.108910</td>\n",
              "      <td>-83.092860</td>\n",
              "      <td>40.112060</td>\n",
              "      <td>-83.031870</td>\n",
              "      <td>3.230</td>\n",
              "      <td>Between Sawmill Rd/Exit 20 and OH-315/Olentang...</td>\n",
              "      <td>NaN</td>\n",
              "      <td>Outerbelt E</td>\n",
              "      <td>R</td>\n",
              "      <td>Dublin</td>\n",
              "      <td>Franklin</td>\n",
              "      <td>OH</td>\n",
              "      <td>43017</td>\n",
              "      <td>US</td>\n",
              "      <td>US/Eastern</td>\n",
              "      <td>KOSU</td>\n",
              "      <td>2016-02-08 00:53:00</td>\n",
              "      <td>42.1</td>\n",
              "      <td>36.1</td>\n",
              "      <td>58.0</td>\n",
              "      <td>29.76</td>\n",
              "      <td>10.0</td>\n",
              "      <td>SW</td>\n",
              "      <td>10.4</td>\n",
              "      <td>0.00</td>\n",
              "      <td>Light Rain</td>\n",
              "      <td>False</td>\n",
              "      <td>False</td>\n",
              "      <td>False</td>\n",
              "      <td>False</td>\n",
              "      <td>False</td>\n",
              "      <td>False</td>\n",
              "      <td>False</td>\n",
              "      <td>False</td>\n",
              "      <td>False</td>\n",
              "      <td>False</td>\n",
              "      <td>False</td>\n",
              "      <td>False</td>\n",
              "      <td>False</td>\n",
              "      <td>Night</td>\n",
              "      <td>Night</td>\n",
              "      <td>Night</td>\n",
              "      <td>Night</td>\n",
              "    </tr>\n",
              "    <tr>\n",
              "      <th>1</th>\n",
              "      <td>A-2</td>\n",
              "      <td>2</td>\n",
              "      <td>2016-02-08 05:56:20</td>\n",
              "      <td>2016-02-08 11:56:20</td>\n",
              "      <td>39.865420</td>\n",
              "      <td>-84.062800</td>\n",
              "      <td>39.865010</td>\n",
              "      <td>-84.048730</td>\n",
              "      <td>0.747</td>\n",
              "      <td>At OH-4/OH-235/Exit 41 - Accident.</td>\n",
              "      <td>NaN</td>\n",
              "      <td>I-70 E</td>\n",
              "      <td>R</td>\n",
              "      <td>Dayton</td>\n",
              "      <td>Montgomery</td>\n",
              "      <td>OH</td>\n",
              "      <td>45424</td>\n",
              "      <td>US</td>\n",
              "      <td>US/Eastern</td>\n",
              "      <td>KFFO</td>\n",
              "      <td>2016-02-08 05:58:00</td>\n",
              "      <td>36.9</td>\n",
              "      <td>NaN</td>\n",
              "      <td>91.0</td>\n",
              "      <td>29.68</td>\n",
              "      <td>10.0</td>\n",
              "      <td>Calm</td>\n",
              "      <td>NaN</td>\n",
              "      <td>0.02</td>\n",
              "      <td>Light Rain</td>\n",
              "      <td>False</td>\n",
              "      <td>False</td>\n",
              "      <td>False</td>\n",
              "      <td>False</td>\n",
              "      <td>False</td>\n",
              "      <td>False</td>\n",
              "      <td>False</td>\n",
              "      <td>False</td>\n",
              "      <td>False</td>\n",
              "      <td>False</td>\n",
              "      <td>False</td>\n",
              "      <td>False</td>\n",
              "      <td>False</td>\n",
              "      <td>Night</td>\n",
              "      <td>Night</td>\n",
              "      <td>Night</td>\n",
              "      <td>Night</td>\n",
              "    </tr>\n",
              "    <tr>\n",
              "      <th>2</th>\n",
              "      <td>A-3</td>\n",
              "      <td>2</td>\n",
              "      <td>2016-02-08 06:15:39</td>\n",
              "      <td>2016-02-08 12:15:39</td>\n",
              "      <td>39.102660</td>\n",
              "      <td>-84.524680</td>\n",
              "      <td>39.102090</td>\n",
              "      <td>-84.523960</td>\n",
              "      <td>0.055</td>\n",
              "      <td>At I-71/US-50/Exit 1 - Accident.</td>\n",
              "      <td>NaN</td>\n",
              "      <td>I-75 S</td>\n",
              "      <td>R</td>\n",
              "      <td>Cincinnati</td>\n",
              "      <td>Hamilton</td>\n",
              "      <td>OH</td>\n",
              "      <td>45203</td>\n",
              "      <td>US</td>\n",
              "      <td>US/Eastern</td>\n",
              "      <td>KLUK</td>\n",
              "      <td>2016-02-08 05:53:00</td>\n",
              "      <td>36.0</td>\n",
              "      <td>NaN</td>\n",
              "      <td>97.0</td>\n",
              "      <td>29.70</td>\n",
              "      <td>10.0</td>\n",
              "      <td>Calm</td>\n",
              "      <td>NaN</td>\n",
              "      <td>0.02</td>\n",
              "      <td>Overcast</td>\n",
              "      <td>False</td>\n",
              "      <td>False</td>\n",
              "      <td>False</td>\n",
              "      <td>False</td>\n",
              "      <td>True</td>\n",
              "      <td>False</td>\n",
              "      <td>False</td>\n",
              "      <td>False</td>\n",
              "      <td>False</td>\n",
              "      <td>False</td>\n",
              "      <td>False</td>\n",
              "      <td>False</td>\n",
              "      <td>False</td>\n",
              "      <td>Night</td>\n",
              "      <td>Night</td>\n",
              "      <td>Night</td>\n",
              "      <td>Day</td>\n",
              "    </tr>\n",
              "    <tr>\n",
              "      <th>3</th>\n",
              "      <td>A-4</td>\n",
              "      <td>2</td>\n",
              "      <td>2016-02-08 06:51:45</td>\n",
              "      <td>2016-02-08 12:51:45</td>\n",
              "      <td>41.062130</td>\n",
              "      <td>-81.537840</td>\n",
              "      <td>41.062170</td>\n",
              "      <td>-81.535470</td>\n",
              "      <td>0.123</td>\n",
              "      <td>At Dart Ave/Exit 21 - Accident.</td>\n",
              "      <td>NaN</td>\n",
              "      <td>I-77 N</td>\n",
              "      <td>R</td>\n",
              "      <td>Akron</td>\n",
              "      <td>Summit</td>\n",
              "      <td>OH</td>\n",
              "      <td>44311</td>\n",
              "      <td>US</td>\n",
              "      <td>US/Eastern</td>\n",
              "      <td>KAKR</td>\n",
              "      <td>2016-02-08 06:54:00</td>\n",
              "      <td>39.0</td>\n",
              "      <td>NaN</td>\n",
              "      <td>55.0</td>\n",
              "      <td>29.65</td>\n",
              "      <td>10.0</td>\n",
              "      <td>Calm</td>\n",
              "      <td>NaN</td>\n",
              "      <td>NaN</td>\n",
              "      <td>Overcast</td>\n",
              "      <td>False</td>\n",
              "      <td>False</td>\n",
              "      <td>False</td>\n",
              "      <td>False</td>\n",
              "      <td>False</td>\n",
              "      <td>False</td>\n",
              "      <td>False</td>\n",
              "      <td>False</td>\n",
              "      <td>False</td>\n",
              "      <td>False</td>\n",
              "      <td>False</td>\n",
              "      <td>False</td>\n",
              "      <td>False</td>\n",
              "      <td>Night</td>\n",
              "      <td>Night</td>\n",
              "      <td>Day</td>\n",
              "      <td>Day</td>\n",
              "    </tr>\n",
              "    <tr>\n",
              "      <th>4</th>\n",
              "      <td>A-5</td>\n",
              "      <td>3</td>\n",
              "      <td>2016-02-08 07:53:43</td>\n",
              "      <td>2016-02-08 13:53:43</td>\n",
              "      <td>39.172393</td>\n",
              "      <td>-84.492792</td>\n",
              "      <td>39.170476</td>\n",
              "      <td>-84.501798</td>\n",
              "      <td>0.500</td>\n",
              "      <td>At Mitchell Ave/Exit 6 - Accident.</td>\n",
              "      <td>NaN</td>\n",
              "      <td>I-75 S</td>\n",
              "      <td>R</td>\n",
              "      <td>Cincinnati</td>\n",
              "      <td>Hamilton</td>\n",
              "      <td>OH</td>\n",
              "      <td>45217</td>\n",
              "      <td>US</td>\n",
              "      <td>US/Eastern</td>\n",
              "      <td>KLUK</td>\n",
              "      <td>2016-02-08 07:53:00</td>\n",
              "      <td>37.0</td>\n",
              "      <td>29.8</td>\n",
              "      <td>93.0</td>\n",
              "      <td>29.69</td>\n",
              "      <td>10.0</td>\n",
              "      <td>WSW</td>\n",
              "      <td>10.4</td>\n",
              "      <td>0.01</td>\n",
              "      <td>Light Rain</td>\n",
              "      <td>False</td>\n",
              "      <td>False</td>\n",
              "      <td>False</td>\n",
              "      <td>False</td>\n",
              "      <td>False</td>\n",
              "      <td>False</td>\n",
              "      <td>False</td>\n",
              "      <td>False</td>\n",
              "      <td>False</td>\n",
              "      <td>False</td>\n",
              "      <td>False</td>\n",
              "      <td>False</td>\n",
              "      <td>False</td>\n",
              "      <td>Day</td>\n",
              "      <td>Day</td>\n",
              "      <td>Day</td>\n",
              "      <td>Day</td>\n",
              "    </tr>\n",
              "  </tbody>\n",
              "</table>\n",
              "</div>"
            ],
            "text/plain": [
              "    ID  Severity           Start_Time             End_Time  Start_Lat  \\\n",
              "0  A-1         3  2016-02-08 00:37:08  2016-02-08 06:37:08  40.108910   \n",
              "1  A-2         2  2016-02-08 05:56:20  2016-02-08 11:56:20  39.865420   \n",
              "2  A-3         2  2016-02-08 06:15:39  2016-02-08 12:15:39  39.102660   \n",
              "3  A-4         2  2016-02-08 06:51:45  2016-02-08 12:51:45  41.062130   \n",
              "4  A-5         3  2016-02-08 07:53:43  2016-02-08 13:53:43  39.172393   \n",
              "\n",
              "   Start_Lng    End_Lat    End_Lng  Distance(mi)  \\\n",
              "0 -83.092860  40.112060 -83.031870         3.230   \n",
              "1 -84.062800  39.865010 -84.048730         0.747   \n",
              "2 -84.524680  39.102090 -84.523960         0.055   \n",
              "3 -81.537840  41.062170 -81.535470         0.123   \n",
              "4 -84.492792  39.170476 -84.501798         0.500   \n",
              "\n",
              "                                         Description  Number       Street  \\\n",
              "0  Between Sawmill Rd/Exit 20 and OH-315/Olentang...     NaN  Outerbelt E   \n",
              "1                 At OH-4/OH-235/Exit 41 - Accident.     NaN       I-70 E   \n",
              "2                   At I-71/US-50/Exit 1 - Accident.     NaN       I-75 S   \n",
              "3                    At Dart Ave/Exit 21 - Accident.     NaN       I-77 N   \n",
              "4                 At Mitchell Ave/Exit 6 - Accident.     NaN       I-75 S   \n",
              "\n",
              "  Side        City      County State Zipcode Country    Timezone Airport_Code  \\\n",
              "0    R      Dublin    Franklin    OH   43017      US  US/Eastern         KOSU   \n",
              "1    R      Dayton  Montgomery    OH   45424      US  US/Eastern         KFFO   \n",
              "2    R  Cincinnati    Hamilton    OH   45203      US  US/Eastern         KLUK   \n",
              "3    R       Akron      Summit    OH   44311      US  US/Eastern         KAKR   \n",
              "4    R  Cincinnati    Hamilton    OH   45217      US  US/Eastern         KLUK   \n",
              "\n",
              "     Weather_Timestamp  Temperature(F)  Wind_Chill(F)  Humidity(%)  \\\n",
              "0  2016-02-08 00:53:00            42.1           36.1         58.0   \n",
              "1  2016-02-08 05:58:00            36.9            NaN         91.0   \n",
              "2  2016-02-08 05:53:00            36.0            NaN         97.0   \n",
              "3  2016-02-08 06:54:00            39.0            NaN         55.0   \n",
              "4  2016-02-08 07:53:00            37.0           29.8         93.0   \n",
              "\n",
              "   Pressure(in)  Visibility(mi) Wind_Direction  Wind_Speed(mph)  \\\n",
              "0         29.76            10.0             SW             10.4   \n",
              "1         29.68            10.0           Calm              NaN   \n",
              "2         29.70            10.0           Calm              NaN   \n",
              "3         29.65            10.0           Calm              NaN   \n",
              "4         29.69            10.0            WSW             10.4   \n",
              "\n",
              "   Precipitation(in) Weather_Condition  Amenity   Bump  Crossing  Give_Way  \\\n",
              "0               0.00        Light Rain    False  False     False     False   \n",
              "1               0.02        Light Rain    False  False     False     False   \n",
              "2               0.02          Overcast    False  False     False     False   \n",
              "3                NaN          Overcast    False  False     False     False   \n",
              "4               0.01        Light Rain    False  False     False     False   \n",
              "\n",
              "   Junction  No_Exit  Railway  Roundabout  Station   Stop  Traffic_Calming  \\\n",
              "0     False    False    False       False    False  False            False   \n",
              "1     False    False    False       False    False  False            False   \n",
              "2      True    False    False       False    False  False            False   \n",
              "3     False    False    False       False    False  False            False   \n",
              "4     False    False    False       False    False  False            False   \n",
              "\n",
              "   Traffic_Signal  Turning_Loop Sunrise_Sunset Civil_Twilight  \\\n",
              "0           False         False          Night          Night   \n",
              "1           False         False          Night          Night   \n",
              "2           False         False          Night          Night   \n",
              "3           False         False          Night          Night   \n",
              "4           False         False            Day            Day   \n",
              "\n",
              "  Nautical_Twilight Astronomical_Twilight  \n",
              "0             Night                 Night  \n",
              "1             Night                 Night  \n",
              "2             Night                   Day  \n",
              "3               Day                   Day  \n",
              "4               Day                   Day  "
            ]
          },
          "execution_count": 4,
          "metadata": {},
          "output_type": "execute_result"
        }
      ],
      "source": [
        "data.head()"
      ]
    },
    {
      "cell_type": "code",
      "execution_count": 5,
      "metadata": {
        "id": "9BHgYBNliqDr"
      },
      "outputs": [],
      "source": [
        "data['Grado_Severidad'] = [1 if (x==1 or x==2) else 0 for x in data['Severity']]"
      ]
    },
    {
      "cell_type": "code",
      "execution_count": 6,
      "metadata": {
        "id": "GxD84i-miqDs",
        "outputId": "4f5ed958-c77c-4e15-ec0d-e13186a93394"
      },
      "outputs": [
        {
          "data": {
            "text/plain": [
              "(2845342, 48)"
            ]
          },
          "execution_count": 6,
          "metadata": {},
          "output_type": "execute_result"
        }
      ],
      "source": [
        "data.shape"
      ]
    },
    {
      "cell_type": "code",
      "execution_count": 7,
      "metadata": {
        "id": "kra1ThZuiqDt",
        "outputId": "7155baf7-327b-405e-a6e8-e973d7ea0605"
      },
      "outputs": [
        {
          "data": {
            "text/plain": [
              "ID                             0\n",
              "Severity                       0\n",
              "Start_Time                     0\n",
              "End_Time                       0\n",
              "Start_Lat                      0\n",
              "Start_Lng                      0\n",
              "End_Lat                        0\n",
              "End_Lng                        0\n",
              "Distance(mi)                   0\n",
              "Description                    0\n",
              "Number                   1743911\n",
              "Street                         2\n",
              "Side                           0\n",
              "City                         137\n",
              "County                         0\n",
              "State                          0\n",
              "Zipcode                     1319\n",
              "Country                        0\n",
              "Timezone                    3659\n",
              "Airport_Code                9549\n",
              "Weather_Timestamp          50736\n",
              "Temperature(F)             69274\n",
              "Wind_Chill(F)             469643\n",
              "Humidity(%)                73092\n",
              "Pressure(in)               59200\n",
              "Visibility(mi)             70546\n",
              "Wind_Direction             73775\n",
              "Wind_Speed(mph)           157944\n",
              "Precipitation(in)         549458\n",
              "Weather_Condition          70636\n",
              "Amenity                        0\n",
              "Bump                           0\n",
              "Crossing                       0\n",
              "Give_Way                       0\n",
              "Junction                       0\n",
              "No_Exit                        0\n",
              "Railway                        0\n",
              "Roundabout                     0\n",
              "Station                        0\n",
              "Stop                           0\n",
              "Traffic_Calming                0\n",
              "Traffic_Signal                 0\n",
              "Turning_Loop                   0\n",
              "Sunrise_Sunset              2867\n",
              "Civil_Twilight              2867\n",
              "Nautical_Twilight           2867\n",
              "Astronomical_Twilight       2867\n",
              "Grado_Severidad                0\n",
              "dtype: int64"
            ]
          },
          "execution_count": 7,
          "metadata": {},
          "output_type": "execute_result"
        }
      ],
      "source": [
        "data.isna().sum()"
      ]
    },
    {
      "cell_type": "code",
      "execution_count": 8,
      "metadata": {
        "id": "ZD3VIrj-iqDt"
      },
      "outputs": [],
      "source": [
        "data.drop(['Number', 'Country', 'Amenity'], axis= 1, inplace= True)\n",
        "data.dropna(subset= ['Zipcode', 'Sunrise_Sunset',\n",
        "                    'Civil_Twilight', 'Nautical_Twilight', 'Astronomical_Twilight'], axis=0, inplace=True)"
      ]
    },
    {
      "cell_type": "code",
      "execution_count": 9,
      "metadata": {
        "id": "Ey7Gu1gRiqDu",
        "outputId": "d1dcaaa8-46fe-4430-e15a-d71741508e5f"
      },
      "outputs": [
        {
          "data": {
            "text/plain": [
              "Index(['ID', 'Severity', 'Start_Time', 'End_Time', 'Start_Lat', 'Start_Lng',\n",
              "       'End_Lat', 'End_Lng', 'Distance(mi)', 'Description', 'Street', 'Side',\n",
              "       'City', 'County', 'State', 'Zipcode', 'Timezone', 'Airport_Code',\n",
              "       'Weather_Timestamp', 'Temperature(F)', 'Wind_Chill(F)', 'Humidity(%)',\n",
              "       'Pressure(in)', 'Visibility(mi)', 'Wind_Direction', 'Wind_Speed(mph)',\n",
              "       'Precipitation(in)', 'Weather_Condition', 'Bump', 'Crossing',\n",
              "       'Give_Way', 'Junction', 'No_Exit', 'Railway', 'Roundabout', 'Station',\n",
              "       'Stop', 'Traffic_Calming', 'Traffic_Signal', 'Turning_Loop',\n",
              "       'Sunrise_Sunset', 'Civil_Twilight', 'Nautical_Twilight',\n",
              "       'Astronomical_Twilight', 'Grado_Severidad'],\n",
              "      dtype='object')"
            ]
          },
          "execution_count": 9,
          "metadata": {},
          "output_type": "execute_result"
        }
      ],
      "source": [
        "data.columns"
      ]
    },
    {
      "cell_type": "code",
      "execution_count": 10,
      "metadata": {
        "id": "mti-LvXtiqDv"
      },
      "outputs": [],
      "source": [
        "um = ['ID']\n",
        "trgt = ['Grado_Severidad']\n",
        "\n",
        "cont_var = ['Distance(mi)', 'Temperature(F)', 'Wind_Chill(F)', 'Humidity(%)',\n",
        "       'Pressure(in)', 'Visibility(mi)', 'Wind_Speed(mph)', 'Precipitation(in)']\n",
        "\n",
        "cat_var = ['City','State' ,'Zipcode', 'Timezone', 'Airport_Code',\n",
        "            'Wind_Direction', 'Weather_Condition','Sunrise_Sunset',\n",
        "            'Civil_Twilight', 'Nautical_Twilight', 'Astronomical_Twilight']\n",
        "\n",
        "\n",
        "bin_var = ['Bump', 'Crossing', 'Give_Way', 'Junction',\n",
        "            'No_Exit', 'Railway', 'Roundabout', 'Station',\n",
        "            'Stop', 'Traffic_Calming', 'Traffic_Signal', 'Turning_Loop']"
      ]
    },
    {
      "cell_type": "markdown",
      "metadata": {
        "id": "oTycYybTiqDw"
      },
      "source": [
        "## Imputaciones"
      ]
    },
    {
      "cell_type": "code",
      "execution_count": 11,
      "metadata": {
        "id": "XAas6IJAiqDw"
      },
      "outputs": [],
      "source": [
        "from sklearn.impute import SimpleImputer\n",
        "\n",
        "for col in cont_var:\n",
        "    data[col] = SimpleImputer(strategy= 'mean').fit_transform(data[[col]])"
      ]
    },
    {
      "cell_type": "code",
      "execution_count": 12,
      "metadata": {
        "id": "t-XsvkUCiqDx",
        "outputId": "8a6423b5-80b3-4658-f34c-33fbc382ffbd"
      },
      "outputs": [
        {
          "name": "stdout",
          "output_type": "stream",
          "text": [
            "City\n",
            "State\n",
            "Zipcode\n",
            "Timezone\n",
            "Airport_Code\n",
            "Wind_Direction\n",
            "Weather_Condition\n",
            "Sunrise_Sunset\n",
            "Civil_Twilight\n",
            "Nautical_Twilight\n",
            "Astronomical_Twilight\n"
          ]
        }
      ],
      "source": [
        "for col in cat_var:\n",
        "    print(col)\n",
        "    data[col] = SimpleImputer(strategy= 'most_frequent').fit_transform(data[[col]])"
      ]
    },
    {
      "cell_type": "code",
      "execution_count": 13,
      "metadata": {
        "id": "NLQZ--5QiqDx"
      },
      "outputs": [],
      "source": [
        "data.dropna(subset= bin_var, axis=0, inplace= True)"
      ]
    },
    {
      "cell_type": "code",
      "execution_count": 14,
      "metadata": {
        "id": "HJuKppZ9iqDy"
      },
      "outputs": [],
      "source": [
        "data.sample(frac= 0.5).to_csv(dataPath + 'data_clean_proyecto.csv', index= False)"
      ]
    },
    {
      "cell_type": "code",
      "execution_count": 15,
      "metadata": {},
      "outputs": [],
      "source": [
        "data = pd.read_csv(dataPath + 'data_clean_proyecto.csv')"
      ]
    },
    {
      "cell_type": "markdown",
      "metadata": {
        "id": "Lhtc0Q0EiqDy"
      },
      "source": [
        "### Normalización discreta"
      ]
    },
    {
      "cell_type": "code",
      "execution_count": 16,
      "metadata": {
        "id": "owKjaMZSiqDz"
      },
      "outputs": [],
      "source": [
        "def normalizar(df,v,umbral):\n",
        "    aux = df[v].value_counts(True).to_frame()\n",
        "    aux[f'n_{v}'] = np.where( aux[v] < umbral , 'Otro' , aux.index )\n",
        "\n",
        "    moda = aux.head(1)[f'n_{v}'].values[0]\n",
        "\n",
        "    if aux.loc[aux[f'n_{v}'] == 'Otro' ][v].sum() < umbral:\n",
        "        aux[f'n_{v}'].replace( {'Otro':moda} , inplace=True)\n",
        "\n",
        "    aux.drop(v, axis=1, inplace=True)\n",
        "    aux.reset_index(inplace=True)\n",
        "\n",
        "    return df.merge(aux,left_on=[v], right_on='index', how='inner').drop('index',axis=1)"
      ]
    },
    {
      "cell_type": "code",
      "execution_count": 17,
      "metadata": {
        "id": "Hkfwn1NBiqD0"
      },
      "outputs": [],
      "source": [
        "for v in cat_var:\n",
        "    data = normalizar(data,v,0.05)\n",
        "\n",
        "for v in bin_var:\n",
        "    data = normalizar(data,v,0.05)\n"
      ]
    },
    {
      "cell_type": "code",
      "execution_count": 18,
      "metadata": {
        "id": "iHqgcx4riqD0",
        "outputId": "a39cec19-bab7-46eb-d976-5d7c46b0a178"
      },
      "outputs": [
        {
          "data": {
            "text/plain": [
              "['n_City',\n",
              " 'n_State',\n",
              " 'n_Zipcode',\n",
              " 'n_Timezone',\n",
              " 'n_Airport_Code',\n",
              " 'n_Wind_Direction',\n",
              " 'n_Weather_Condition',\n",
              " 'n_Sunrise_Sunset',\n",
              " 'n_Civil_Twilight',\n",
              " 'n_Nautical_Twilight',\n",
              " 'n_Astronomical_Twilight',\n",
              " 'n_Bump',\n",
              " 'n_Crossing',\n",
              " 'n_Give_Way',\n",
              " 'n_Junction',\n",
              " 'n_No_Exit',\n",
              " 'n_Railway',\n",
              " 'n_Roundabout',\n",
              " 'n_Station',\n",
              " 'n_Stop',\n",
              " 'n_Traffic_Calming',\n",
              " 'n_Traffic_Signal',\n",
              " 'n_Turning_Loop']"
            ]
          },
          "execution_count": 18,
          "metadata": {},
          "output_type": "execute_result"
        }
      ],
      "source": [
        "varn = [x for x in data.columns if x[0:2] == 'n_']\n",
        "varn"
      ]
    },
    {
      "cell_type": "code",
      "execution_count": 19,
      "metadata": {
        "id": "uApKIWmxiqD1",
        "outputId": "fcb1c9b6-1f7d-4add-be3d-002f039d23ce"
      },
      "outputs": [
        {
          "data": {
            "text/plain": [
              "['n_City',\n",
              " 'n_Zipcode',\n",
              " 'n_Airport_Code',\n",
              " 'n_Bump',\n",
              " 'n_Give_Way',\n",
              " 'n_No_Exit',\n",
              " 'n_Railway',\n",
              " 'n_Roundabout',\n",
              " 'n_Station',\n",
              " 'n_Stop',\n",
              " 'n_Traffic_Calming',\n",
              " 'n_Turning_Loop']"
            ]
          },
          "execution_count": 19,
          "metadata": {},
          "output_type": "execute_result"
        }
      ],
      "source": [
        "unarias = [v for v,conteo in zip( varn , [data[v].unique().shape[0] for v in varn] ) if conteo == 1]\n",
        "varn = [v for v in varn  if v not in unarias]\n",
        "unarias"
      ]
    },
    {
      "cell_type": "markdown",
      "metadata": {
        "id": "ixfwPmA6iqD1"
      },
      "source": [
        "## Normalización Continua"
      ]
    },
    {
      "cell_type": "code",
      "execution_count": 20,
      "metadata": {
        "id": "3PMDpe6HiqD2"
      },
      "outputs": [],
      "source": [
        "from sklearn.preprocessing import KBinsDiscretizer\n",
        "\n",
        "def discretizar(df, v, k):\n",
        "\n",
        "    kb = KBinsDiscretizer( n_bins = k , encode='ordinal', strategy='quantile')\n",
        "    kb.fit(df[[v]])\n",
        "    df[f'd_{v}_{k}'] = pd.cut( df[v] , bins=kb.bin_edges_[0] , include_lowest=True ).astype(str)\n",
        "\n",
        "    return df"
      ]
    },
    {
      "cell_type": "code",
      "execution_count": 21,
      "metadata": {
        "id": "Gbt1iDoHiqD2",
        "outputId": "335907bb-2080-4d5c-e2fb-e79e9f62eb38"
      },
      "outputs": [
        {
          "name": "stderr",
          "output_type": "stream",
          "text": [
            "/Users/admin/Documents/Personal/personal_env/lib/python3.10/site-packages/sklearn/preprocessing/_discretization.py:216: FutureWarning: In version 1.3 onwards, subsample=2e5 will be used by default. Set subsample explicitly to silence this warning in the mean time. Set subsample=None to disable subsampling explicitly.\n",
            "  warnings.warn(\n",
            "/Users/admin/Documents/Personal/personal_env/lib/python3.10/site-packages/sklearn/preprocessing/_discretization.py:216: FutureWarning: In version 1.3 onwards, subsample=2e5 will be used by default. Set subsample explicitly to silence this warning in the mean time. Set subsample=None to disable subsampling explicitly.\n",
            "  warnings.warn(\n",
            "/Users/admin/Documents/Personal/personal_env/lib/python3.10/site-packages/sklearn/preprocessing/_discretization.py:216: FutureWarning: In version 1.3 onwards, subsample=2e5 will be used by default. Set subsample explicitly to silence this warning in the mean time. Set subsample=None to disable subsampling explicitly.\n",
            "  warnings.warn(\n",
            "/Users/admin/Documents/Personal/personal_env/lib/python3.10/site-packages/sklearn/preprocessing/_discretization.py:216: FutureWarning: In version 1.3 onwards, subsample=2e5 will be used by default. Set subsample explicitly to silence this warning in the mean time. Set subsample=None to disable subsampling explicitly.\n",
            "  warnings.warn(\n",
            "/Users/admin/Documents/Personal/personal_env/lib/python3.10/site-packages/sklearn/preprocessing/_discretization.py:216: FutureWarning: In version 1.3 onwards, subsample=2e5 will be used by default. Set subsample explicitly to silence this warning in the mean time. Set subsample=None to disable subsampling explicitly.\n",
            "  warnings.warn(\n",
            "/Users/admin/Documents/Personal/personal_env/lib/python3.10/site-packages/sklearn/preprocessing/_discretization.py:216: FutureWarning: In version 1.3 onwards, subsample=2e5 will be used by default. Set subsample explicitly to silence this warning in the mean time. Set subsample=None to disable subsampling explicitly.\n",
            "  warnings.warn(\n",
            "/Users/admin/Documents/Personal/personal_env/lib/python3.10/site-packages/sklearn/preprocessing/_discretization.py:216: FutureWarning: In version 1.3 onwards, subsample=2e5 will be used by default. Set subsample explicitly to silence this warning in the mean time. Set subsample=None to disable subsampling explicitly.\n",
            "  warnings.warn(\n",
            "/Users/admin/Documents/Personal/personal_env/lib/python3.10/site-packages/sklearn/preprocessing/_discretization.py:216: FutureWarning: In version 1.3 onwards, subsample=2e5 will be used by default. Set subsample explicitly to silence this warning in the mean time. Set subsample=None to disable subsampling explicitly.\n",
            "  warnings.warn(\n",
            "/Users/admin/Documents/Personal/personal_env/lib/python3.10/site-packages/sklearn/preprocessing/_discretization.py:216: FutureWarning: In version 1.3 onwards, subsample=2e5 will be used by default. Set subsample explicitly to silence this warning in the mean time. Set subsample=None to disable subsampling explicitly.\n",
            "  warnings.warn(\n",
            "/Users/admin/Documents/Personal/personal_env/lib/python3.10/site-packages/sklearn/preprocessing/_discretization.py:216: FutureWarning: In version 1.3 onwards, subsample=2e5 will be used by default. Set subsample explicitly to silence this warning in the mean time. Set subsample=None to disable subsampling explicitly.\n",
            "  warnings.warn(\n",
            "/Users/admin/Documents/Personal/personal_env/lib/python3.10/site-packages/sklearn/preprocessing/_discretization.py:216: FutureWarning: In version 1.3 onwards, subsample=2e5 will be used by default. Set subsample explicitly to silence this warning in the mean time. Set subsample=None to disable subsampling explicitly.\n",
            "  warnings.warn(\n",
            "/Users/admin/Documents/Personal/personal_env/lib/python3.10/site-packages/sklearn/preprocessing/_discretization.py:279: UserWarning: Bins whose width are too small (i.e., <= 1e-8) in feature 0 are removed. Consider decreasing the number of bins.\n",
            "  warnings.warn(\n",
            "/Users/admin/Documents/Personal/personal_env/lib/python3.10/site-packages/sklearn/preprocessing/_discretization.py:216: FutureWarning: In version 1.3 onwards, subsample=2e5 will be used by default. Set subsample explicitly to silence this warning in the mean time. Set subsample=None to disable subsampling explicitly.\n",
            "  warnings.warn(\n",
            "/Users/admin/Documents/Personal/personal_env/lib/python3.10/site-packages/sklearn/preprocessing/_discretization.py:279: UserWarning: Bins whose width are too small (i.e., <= 1e-8) in feature 0 are removed. Consider decreasing the number of bins.\n",
            "  warnings.warn(\n",
            "/Users/admin/Documents/Personal/personal_env/lib/python3.10/site-packages/sklearn/preprocessing/_discretization.py:216: FutureWarning: In version 1.3 onwards, subsample=2e5 will be used by default. Set subsample explicitly to silence this warning in the mean time. Set subsample=None to disable subsampling explicitly.\n",
            "  warnings.warn(\n",
            "/Users/admin/Documents/Personal/personal_env/lib/python3.10/site-packages/sklearn/preprocessing/_discretization.py:216: FutureWarning: In version 1.3 onwards, subsample=2e5 will be used by default. Set subsample explicitly to silence this warning in the mean time. Set subsample=None to disable subsampling explicitly.\n",
            "  warnings.warn(\n",
            "/Users/admin/Documents/Personal/personal_env/lib/python3.10/site-packages/sklearn/preprocessing/_discretization.py:216: FutureWarning: In version 1.3 onwards, subsample=2e5 will be used by default. Set subsample explicitly to silence this warning in the mean time. Set subsample=None to disable subsampling explicitly.\n",
            "  warnings.warn(\n",
            "/Users/admin/Documents/Personal/personal_env/lib/python3.10/site-packages/sklearn/preprocessing/_discretization.py:279: UserWarning: Bins whose width are too small (i.e., <= 1e-8) in feature 0 are removed. Consider decreasing the number of bins.\n",
            "  warnings.warn(\n",
            "/Users/admin/Documents/Personal/personal_env/lib/python3.10/site-packages/sklearn/preprocessing/_discretization.py:216: FutureWarning: In version 1.3 onwards, subsample=2e5 will be used by default. Set subsample explicitly to silence this warning in the mean time. Set subsample=None to disable subsampling explicitly.\n",
            "  warnings.warn(\n",
            "/Users/admin/Documents/Personal/personal_env/lib/python3.10/site-packages/sklearn/preprocessing/_discretization.py:279: UserWarning: Bins whose width are too small (i.e., <= 1e-8) in feature 0 are removed. Consider decreasing the number of bins.\n",
            "  warnings.warn(\n"
          ]
        }
      ],
      "source": [
        "for v in cont_var:\n",
        "    for k in range(3,5):\n",
        "        data = discretizar(data, v, k)"
      ]
    },
    {
      "cell_type": "code",
      "execution_count": 22,
      "metadata": {
        "id": "ez_XAHlgiqD3",
        "outputId": "c2fed00a-4aee-4b77-cea4-7046a0bd4d59"
      },
      "outputs": [
        {
          "data": {
            "text/plain": [
              "['d_Distance(mi)_3',\n",
              " 'd_Distance(mi)_4',\n",
              " 'd_Temperature(F)_3',\n",
              " 'd_Temperature(F)_4',\n",
              " 'd_Wind_Chill(F)_3',\n",
              " 'd_Wind_Chill(F)_4',\n",
              " 'd_Humidity(%)_3',\n",
              " 'd_Humidity(%)_4',\n",
              " 'd_Pressure(in)_3',\n",
              " 'd_Pressure(in)_4',\n",
              " 'd_Visibility(mi)_3',\n",
              " 'd_Visibility(mi)_4',\n",
              " 'd_Wind_Speed(mph)_3',\n",
              " 'd_Wind_Speed(mph)_4',\n",
              " 'd_Precipitation(in)_3',\n",
              " 'd_Precipitation(in)_4']"
            ]
          },
          "execution_count": 22,
          "metadata": {},
          "output_type": "execute_result"
        }
      ],
      "source": [
        "vari =[x for x in data.columns if x[0:2] == 'd_']\n",
        "vari"
      ]
    },
    {
      "cell_type": "markdown",
      "metadata": {
        "id": "JhPzS1L3iqD3"
      },
      "source": [
        "## Information Value"
      ]
    },
    {
      "cell_type": "code",
      "execution_count": 23,
      "metadata": {
        "id": "syddFQ7xiqD4"
      },
      "outputs": [],
      "source": [
        "def calculo_iv( df, v, tgt ):\n",
        "    aux = df.pivot_table( index = v, \n",
        "                         columns= tgt, \n",
        "                         values = um[0], \n",
        "                         aggfunc= 'count', \n",
        "                         fill_value=0 )\n",
        "\n",
        "    aux[list( range(2) ) ] = aux/aux.apply(np.sum)\n",
        "\n",
        "    aux['w'] = np.log( aux[0] / aux[1] )\n",
        "    aux['iv'] = (aux[0] - aux[1]) * aux['w']\n",
        "\n",
        "    return v, aux['iv'].sum()"
      ]
    },
    {
      "cell_type": "markdown",
      "metadata": {
        "id": "vhixu1KoiqD4"
      },
      "source": [
        "### Primera partcion IV"
      ]
    },
    {
      "cell_type": "code",
      "execution_count": 24,
      "metadata": {
        "id": "KLvWoeeNiqD5"
      },
      "outputs": [],
      "source": [
        "from sklearn.model_selection import train_test_split\n",
        "\n",
        "Xt, Xv, yt, yv = train_test_split(data[vari + um], data[trgt + um])\n",
        "Xt = Xt.merge( yt , on=um, how='inner').reset_index(drop=True)"
      ]
    },
    {
      "cell_type": "code",
      "execution_count": 25,
      "metadata": {
        "id": "1c0rp60FiqD5"
      },
      "outputs": [],
      "source": [
        "# iv de discretizadas -> vari\n",
        "iv = pd.DataFrame( map( lambda v: calculo_iv( data, v, trgt  ) , vari ) , \n",
        "                  columns=['variable','iv'] )\n",
        "\n",
        "iv['raiz'] = iv['variable'].map( lambda x: '_'.join(x.split('_')[1:2] ) )\n",
        "iv = iv.sort_values(by=['raiz','iv'],ascending=[1,0]).reset_index(drop=True)\n",
        "\n",
        "# Eliminación de ivs infs\n",
        "iv = iv.loc[iv['iv'] != np.inf].reset_index(drop=True)\n",
        "iv['id'] = iv.groupby('raiz').cumcount()+1\n",
        "iv = iv.loc[iv.id == 1]\n",
        "\n",
        "iv.drop(columns=['raiz','id'],inplace=True)"
      ]
    },
    {
      "cell_type": "code",
      "execution_count": 26,
      "metadata": {
        "id": "-JxPCdQ6iqD6",
        "outputId": "ab77ffaa-b2e1-407f-aabc-6d75cc7af714"
      },
      "outputs": [
        {
          "data": {
            "text/plain": [
              "(7,\n",
              " ['d_Distance(mi)_4',\n",
              "  'd_Humidity(%)_4',\n",
              "  'd_Precipitation(in)_4',\n",
              "  'd_Pressure(in)_4',\n",
              "  'd_Temperature(F)_4',\n",
              "  'd_Visibility(mi)_3',\n",
              "  'd_Wind_Chill(F)_4'])"
            ]
          },
          "execution_count": 26,
          "metadata": {},
          "output_type": "execute_result"
        }
      ],
      "source": [
        "besti = iv['variable'].tolist()\n",
        "\n",
        "len(besti) , besti"
      ]
    },
    {
      "cell_type": "markdown",
      "metadata": {
        "id": "YfW3xTpOiqD6"
      },
      "source": [
        "## Segunda partición"
      ]
    },
    {
      "cell_type": "code",
      "execution_count": 27,
      "metadata": {
        "id": "CouBFhbeiqD6"
      },
      "outputs": [],
      "source": [
        "Xt, Xv, yt, yv = train_test_split(data[besti+ varn + um], data[trgt + um])\n",
        "Xt = Xt.merge( yt , on=um, how='inner').reset_index(drop=True)"
      ]
    },
    {
      "cell_type": "code",
      "execution_count": 28,
      "metadata": {
        "id": "GB0K-D8FiqD7",
        "outputId": "07f1d2f3-8105-4419-eb83-8010c3bb2501"
      },
      "outputs": [
        {
          "data": {
            "text/html": [
              "<div>\n",
              "<style scoped>\n",
              "    .dataframe tbody tr th:only-of-type {\n",
              "        vertical-align: middle;\n",
              "    }\n",
              "\n",
              "    .dataframe tbody tr th {\n",
              "        vertical-align: top;\n",
              "    }\n",
              "\n",
              "    .dataframe thead th {\n",
              "        text-align: right;\n",
              "    }\n",
              "</style>\n",
              "<table border=\"1\" class=\"dataframe\">\n",
              "  <thead>\n",
              "    <tr style=\"text-align: right;\">\n",
              "      <th></th>\n",
              "      <th>variable</th>\n",
              "      <th>iv</th>\n",
              "    </tr>\n",
              "  </thead>\n",
              "  <tbody>\n",
              "    <tr>\n",
              "      <th>10</th>\n",
              "      <td>n_Weather_Condition</td>\n",
              "      <td>0.461806</td>\n",
              "    </tr>\n",
              "    <tr>\n",
              "      <th>7</th>\n",
              "      <td>n_State</td>\n",
              "      <td>0.371766</td>\n",
              "    </tr>\n",
              "    <tr>\n",
              "      <th>6</th>\n",
              "      <td>d_Wind_Chill(F)_4</td>\n",
              "      <td>0.310806</td>\n",
              "    </tr>\n",
              "    <tr>\n",
              "      <th>8</th>\n",
              "      <td>n_Timezone</td>\n",
              "      <td>0.243965</td>\n",
              "    </tr>\n",
              "    <tr>\n",
              "      <th>9</th>\n",
              "      <td>n_Wind_Direction</td>\n",
              "      <td>0.142248</td>\n",
              "    </tr>\n",
              "    <tr>\n",
              "      <th>3</th>\n",
              "      <td>d_Pressure(in)_4</td>\n",
              "      <td>0.084558</td>\n",
              "    </tr>\n",
              "    <tr>\n",
              "      <th>0</th>\n",
              "      <td>d_Distance(mi)_4</td>\n",
              "      <td>0.083147</td>\n",
              "    </tr>\n",
              "    <tr>\n",
              "      <th>16</th>\n",
              "      <td>n_Junction</td>\n",
              "      <td>0.040107</td>\n",
              "    </tr>\n",
              "    <tr>\n",
              "      <th>5</th>\n",
              "      <td>d_Visibility(mi)_3</td>\n",
              "      <td>0.010331</td>\n",
              "    </tr>\n",
              "    <tr>\n",
              "      <th>4</th>\n",
              "      <td>d_Temperature(F)_4</td>\n",
              "      <td>0.009622</td>\n",
              "    </tr>\n",
              "    <tr>\n",
              "      <th>15</th>\n",
              "      <td>n_Crossing</td>\n",
              "      <td>0.005576</td>\n",
              "    </tr>\n",
              "    <tr>\n",
              "      <th>1</th>\n",
              "      <td>d_Humidity(%)_4</td>\n",
              "      <td>0.003699</td>\n",
              "    </tr>\n",
              "    <tr>\n",
              "      <th>17</th>\n",
              "      <td>n_Traffic_Signal</td>\n",
              "      <td>0.001693</td>\n",
              "    </tr>\n",
              "    <tr>\n",
              "      <th>2</th>\n",
              "      <td>d_Precipitation(in)_4</td>\n",
              "      <td>0.001030</td>\n",
              "    </tr>\n",
              "    <tr>\n",
              "      <th>12</th>\n",
              "      <td>n_Civil_Twilight</td>\n",
              "      <td>0.000149</td>\n",
              "    </tr>\n",
              "    <tr>\n",
              "      <th>11</th>\n",
              "      <td>n_Sunrise_Sunset</td>\n",
              "      <td>0.000146</td>\n",
              "    </tr>\n",
              "    <tr>\n",
              "      <th>14</th>\n",
              "      <td>n_Astronomical_Twilight</td>\n",
              "      <td>0.000088</td>\n",
              "    </tr>\n",
              "    <tr>\n",
              "      <th>13</th>\n",
              "      <td>n_Nautical_Twilight</td>\n",
              "      <td>0.000051</td>\n",
              "    </tr>\n",
              "  </tbody>\n",
              "</table>\n",
              "</div>"
            ],
            "text/plain": [
              "                   variable        iv\n",
              "10      n_Weather_Condition  0.461806\n",
              "7                   n_State  0.371766\n",
              "6         d_Wind_Chill(F)_4  0.310806\n",
              "8                n_Timezone  0.243965\n",
              "9          n_Wind_Direction  0.142248\n",
              "3          d_Pressure(in)_4  0.084558\n",
              "0          d_Distance(mi)_4  0.083147\n",
              "16               n_Junction  0.040107\n",
              "5        d_Visibility(mi)_3  0.010331\n",
              "4        d_Temperature(F)_4  0.009622\n",
              "15               n_Crossing  0.005576\n",
              "1           d_Humidity(%)_4  0.003699\n",
              "17         n_Traffic_Signal  0.001693\n",
              "2     d_Precipitation(in)_4  0.001030\n",
              "12         n_Civil_Twilight  0.000149\n",
              "11         n_Sunrise_Sunset  0.000146\n",
              "14  n_Astronomical_Twilight  0.000088\n",
              "13      n_Nautical_Twilight  0.000051"
            ]
          },
          "execution_count": 28,
          "metadata": {},
          "output_type": "execute_result"
        }
      ],
      "source": [
        "ivd = pd.DataFrame( map( lambda v: calculo_iv(data, v, trgt) , varn ) , \n",
        "                   columns=['variable','iv'] )\n",
        "\n",
        "iv = pd.concat([ iv, ivd ], ignore_index=True)\n",
        "iv.sort_values(by='iv',ascending=False)"
      ]
    },
    {
      "cell_type": "code",
      "execution_count": 29,
      "metadata": {
        "id": "5Y9BeiT1iqD7",
        "outputId": "54fc51b2-feec-45fd-b6ac-150c7bcf10e0"
      },
      "outputs": [
        {
          "data": {
            "text/plain": [
              "['d_Distance(mi)_4',\n",
              " 'd_Humidity(%)_4',\n",
              " 'd_Precipitation(in)_4',\n",
              " 'd_Pressure(in)_4',\n",
              " 'd_Temperature(F)_4',\n",
              " 'd_Visibility(mi)_3',\n",
              " 'd_Wind_Chill(F)_4',\n",
              " 'n_State',\n",
              " 'n_Timezone',\n",
              " 'n_Wind_Direction',\n",
              " 'n_Weather_Condition',\n",
              " 'n_Sunrise_Sunset',\n",
              " 'n_Civil_Twilight',\n",
              " 'n_Nautical_Twilight',\n",
              " 'n_Astronomical_Twilight',\n",
              " 'n_Crossing',\n",
              " 'n_Junction',\n",
              " 'n_Traffic_Signal']"
            ]
          },
          "execution_count": 29,
          "metadata": {},
          "output_type": "execute_result"
        }
      ],
      "source": [
        "best = iv['variable'].tolist()\n",
        "best"
      ]
    },
    {
      "cell_type": "markdown",
      "metadata": {
        "id": "zTOAKgWUiqD8"
      },
      "source": [
        "## WOE"
      ]
    },
    {
      "cell_type": "code",
      "execution_count": 30,
      "metadata": {
        "id": "qqSjb8OgiqD8",
        "outputId": "0692e2a6-0527-48d9-fe5b-017bbce4d665"
      },
      "outputs": [
        {
          "name": "stdout",
          "output_type": "stream",
          "text": [
            "(1065444, 19) (355148, 19) 1065444 355148\n"
          ]
        }
      ],
      "source": [
        "Xt, Xv, yt, yv = train_test_split(data[best + um], data[trgt + um])\n",
        "\n",
        "print(Xt.shape, Xv.shape, yt.shape[0], yv.shape[0])\n",
        "\n",
        "Xt = Xt.merge( yt , on=um, how='inner').reset_index(drop=True)\n",
        "Xv = Xv.merge( yv , on=um, how='inner').reset_index(drop=True)"
      ]
    },
    {
      "cell_type": "code",
      "execution_count": 31,
      "metadata": {
        "id": "Rt4f8VjwiqD9"
      },
      "outputs": [],
      "source": [
        "def codificacion_woe(df, v, tgt):\n",
        "    aux = df.pivot_table( index=v,\n",
        "                          columns=tgt,\n",
        "                          values=um[0],\n",
        "                          aggfunc='count',\n",
        "                          fill_value=0)\n",
        "\n",
        "    aux[list( range(2) )] = aux / aux.apply(np.sum)\n",
        "\n",
        "    aux['w'] = np.log( aux[0] / aux[1] )\n",
        "\n",
        "    aux.drop(range(2) , axis=1 , inplace=True )\n",
        "\n",
        "    aux = aux.to_dict()['w']\n",
        "    \n",
        "    return v, aux"
      ]
    },
    {
      "cell_type": "code",
      "execution_count": 32,
      "metadata": {
        "id": "1XrRokz0iqD9"
      },
      "outputs": [],
      "source": [
        "mapa_woe = list( map(  lambda v: codificacion_woe( Xt , v , trgt  ) , best  ) )"
      ]
    },
    {
      "cell_type": "code",
      "execution_count": 33,
      "metadata": {
        "id": "1GHI-pfFiqD9"
      },
      "outputs": [],
      "source": [
        "for v, mapa in mapa_woe:\n",
        "    Xt[f'w_{v}'] = Xt[v].replace(mapa)\n",
        "    Xv[f'w_{v}'] = Xv[v].replace(mapa)"
      ]
    },
    {
      "cell_type": "markdown",
      "metadata": {
        "id": "jNBaD_kViqD-"
      },
      "source": [
        "## TAD"
      ]
    },
    {
      "cell_type": "code",
      "execution_count": 34,
      "metadata": {
        "id": "SdE3mz0OiqD-",
        "outputId": "159b1175-f1ff-4213-8622-eecf6b5d1bab"
      },
      "outputs": [
        {
          "data": {
            "text/plain": [
              "['w_d_Distance(mi)_4',\n",
              " 'w_d_Humidity(%)_4',\n",
              " 'w_d_Precipitation(in)_4',\n",
              " 'w_d_Pressure(in)_4',\n",
              " 'w_d_Temperature(F)_4',\n",
              " 'w_d_Visibility(mi)_3',\n",
              " 'w_d_Wind_Chill(F)_4',\n",
              " 'w_n_State',\n",
              " 'w_n_Timezone',\n",
              " 'w_n_Wind_Direction',\n",
              " 'w_n_Weather_Condition',\n",
              " 'w_n_Sunrise_Sunset',\n",
              " 'w_n_Civil_Twilight',\n",
              " 'w_n_Nautical_Twilight',\n",
              " 'w_n_Astronomical_Twilight',\n",
              " 'w_n_Crossing',\n",
              " 'w_n_Junction',\n",
              " 'w_n_Traffic_Signal']"
            ]
          },
          "execution_count": 34,
          "metadata": {},
          "output_type": "execute_result"
        }
      ],
      "source": [
        "X_y = pd.concat([Xt, Xv], axis=0)\n",
        "woe_var = [x for x in X_y.columns if x[0:2]== 'w_']\n",
        "woe_var"
      ]
    },
    {
      "cell_type": "code",
      "execution_count": 35,
      "metadata": {
        "id": "A_YYCAgkiqD_",
        "outputId": "d7f04442-8bb2-4097-a572-5e81693b3b8a"
      },
      "outputs": [
        {
          "data": {
            "text/html": [
              "<div>\n",
              "<style scoped>\n",
              "    .dataframe tbody tr th:only-of-type {\n",
              "        vertical-align: middle;\n",
              "    }\n",
              "\n",
              "    .dataframe tbody tr th {\n",
              "        vertical-align: top;\n",
              "    }\n",
              "\n",
              "    .dataframe thead th {\n",
              "        text-align: right;\n",
              "    }\n",
              "</style>\n",
              "<table border=\"1\" class=\"dataframe\">\n",
              "  <thead>\n",
              "    <tr style=\"text-align: right;\">\n",
              "      <th></th>\n",
              "      <th>ID</th>\n",
              "      <th>w_d_Distance(mi)_4</th>\n",
              "      <th>w_d_Humidity(%)_4</th>\n",
              "      <th>w_d_Precipitation(in)_4</th>\n",
              "      <th>w_d_Pressure(in)_4</th>\n",
              "      <th>w_d_Temperature(F)_4</th>\n",
              "      <th>w_d_Visibility(mi)_3</th>\n",
              "      <th>w_d_Wind_Chill(F)_4</th>\n",
              "      <th>w_n_State</th>\n",
              "      <th>w_n_Timezone</th>\n",
              "      <th>w_n_Wind_Direction</th>\n",
              "      <th>w_n_Weather_Condition</th>\n",
              "      <th>w_n_Sunrise_Sunset</th>\n",
              "      <th>w_n_Civil_Twilight</th>\n",
              "      <th>w_n_Nautical_Twilight</th>\n",
              "      <th>w_n_Astronomical_Twilight</th>\n",
              "      <th>w_n_Crossing</th>\n",
              "      <th>w_n_Junction</th>\n",
              "      <th>w_n_Traffic_Signal</th>\n",
              "      <th>Grado_Severidad</th>\n",
              "    </tr>\n",
              "  </thead>\n",
              "  <tbody>\n",
              "    <tr>\n",
              "      <th>0</th>\n",
              "      <td>A-2081499</td>\n",
              "      <td>-0.206243</td>\n",
              "      <td>-0.040599</td>\n",
              "      <td>-0.009066</td>\n",
              "      <td>-0.313550</td>\n",
              "      <td>-0.019356</td>\n",
              "      <td>-0.007999</td>\n",
              "      <td>-0.636845</td>\n",
              "      <td>-1.063849</td>\n",
              "      <td>-0.829948</td>\n",
              "      <td>0.217477</td>\n",
              "      <td>-0.740540</td>\n",
              "      <td>0.008457</td>\n",
              "      <td>0.008186</td>\n",
              "      <td>0.005288</td>\n",
              "      <td>0.005878</td>\n",
              "      <td>0.018841</td>\n",
              "      <td>-0.075910</td>\n",
              "      <td>-0.014483</td>\n",
              "      <td>1</td>\n",
              "    </tr>\n",
              "    <tr>\n",
              "      <th>1</th>\n",
              "      <td>A-1633638</td>\n",
              "      <td>0.305186</td>\n",
              "      <td>0.104783</td>\n",
              "      <td>-0.009066</td>\n",
              "      <td>-0.313550</td>\n",
              "      <td>0.156530</td>\n",
              "      <td>-0.007999</td>\n",
              "      <td>-0.027285</td>\n",
              "      <td>-1.063849</td>\n",
              "      <td>-0.829948</td>\n",
              "      <td>0.217477</td>\n",
              "      <td>-0.740540</td>\n",
              "      <td>-0.015017</td>\n",
              "      <td>0.008186</td>\n",
              "      <td>0.005288</td>\n",
              "      <td>0.005878</td>\n",
              "      <td>0.018841</td>\n",
              "      <td>-0.075910</td>\n",
              "      <td>-0.014483</td>\n",
              "      <td>1</td>\n",
              "    </tr>\n",
              "    <tr>\n",
              "      <th>2</th>\n",
              "      <td>A-890220</td>\n",
              "      <td>0.184387</td>\n",
              "      <td>0.104783</td>\n",
              "      <td>-0.009066</td>\n",
              "      <td>-0.223931</td>\n",
              "      <td>0.156530</td>\n",
              "      <td>-0.007999</td>\n",
              "      <td>-0.027285</td>\n",
              "      <td>0.387531</td>\n",
              "      <td>-0.829948</td>\n",
              "      <td>0.217477</td>\n",
              "      <td>0.499646</td>\n",
              "      <td>-0.015017</td>\n",
              "      <td>0.008186</td>\n",
              "      <td>0.005288</td>\n",
              "      <td>0.005878</td>\n",
              "      <td>0.018841</td>\n",
              "      <td>0.526237</td>\n",
              "      <td>-0.014483</td>\n",
              "      <td>1</td>\n",
              "    </tr>\n",
              "    <tr>\n",
              "      <th>3</th>\n",
              "      <td>A-823248</td>\n",
              "      <td>-0.206243</td>\n",
              "      <td>-0.022048</td>\n",
              "      <td>-0.009066</td>\n",
              "      <td>0.430568</td>\n",
              "      <td>-0.070736</td>\n",
              "      <td>-0.007999</td>\n",
              "      <td>-0.657934</td>\n",
              "      <td>-0.708961</td>\n",
              "      <td>0.158917</td>\n",
              "      <td>0.217477</td>\n",
              "      <td>0.040366</td>\n",
              "      <td>0.008457</td>\n",
              "      <td>0.008186</td>\n",
              "      <td>0.005288</td>\n",
              "      <td>0.005878</td>\n",
              "      <td>0.018841</td>\n",
              "      <td>-0.075910</td>\n",
              "      <td>-0.014483</td>\n",
              "      <td>1</td>\n",
              "    </tr>\n",
              "    <tr>\n",
              "      <th>4</th>\n",
              "      <td>A-1724502</td>\n",
              "      <td>-0.416983</td>\n",
              "      <td>-0.044073</td>\n",
              "      <td>-0.009066</td>\n",
              "      <td>0.430568</td>\n",
              "      <td>-0.019356</td>\n",
              "      <td>-0.007999</td>\n",
              "      <td>-0.657934</td>\n",
              "      <td>-0.708961</td>\n",
              "      <td>0.158917</td>\n",
              "      <td>0.217477</td>\n",
              "      <td>-0.740540</td>\n",
              "      <td>0.008457</td>\n",
              "      <td>0.008186</td>\n",
              "      <td>0.005288</td>\n",
              "      <td>0.005878</td>\n",
              "      <td>-0.280223</td>\n",
              "      <td>-0.075910</td>\n",
              "      <td>0.132470</td>\n",
              "      <td>1</td>\n",
              "    </tr>\n",
              "  </tbody>\n",
              "</table>\n",
              "</div>"
            ],
            "text/plain": [
              "          ID  w_d_Distance(mi)_4  w_d_Humidity(%)_4  w_d_Precipitation(in)_4  \\\n",
              "0  A-2081499           -0.206243          -0.040599                -0.009066   \n",
              "1  A-1633638            0.305186           0.104783                -0.009066   \n",
              "2   A-890220            0.184387           0.104783                -0.009066   \n",
              "3   A-823248           -0.206243          -0.022048                -0.009066   \n",
              "4  A-1724502           -0.416983          -0.044073                -0.009066   \n",
              "\n",
              "   w_d_Pressure(in)_4  w_d_Temperature(F)_4  w_d_Visibility(mi)_3  \\\n",
              "0           -0.313550             -0.019356             -0.007999   \n",
              "1           -0.313550              0.156530             -0.007999   \n",
              "2           -0.223931              0.156530             -0.007999   \n",
              "3            0.430568             -0.070736             -0.007999   \n",
              "4            0.430568             -0.019356             -0.007999   \n",
              "\n",
              "   w_d_Wind_Chill(F)_4  w_n_State  w_n_Timezone  w_n_Wind_Direction  \\\n",
              "0            -0.636845  -1.063849     -0.829948            0.217477   \n",
              "1            -0.027285  -1.063849     -0.829948            0.217477   \n",
              "2            -0.027285   0.387531     -0.829948            0.217477   \n",
              "3            -0.657934  -0.708961      0.158917            0.217477   \n",
              "4            -0.657934  -0.708961      0.158917            0.217477   \n",
              "\n",
              "   w_n_Weather_Condition  w_n_Sunrise_Sunset  w_n_Civil_Twilight  \\\n",
              "0              -0.740540            0.008457            0.008186   \n",
              "1              -0.740540           -0.015017            0.008186   \n",
              "2               0.499646           -0.015017            0.008186   \n",
              "3               0.040366            0.008457            0.008186   \n",
              "4              -0.740540            0.008457            0.008186   \n",
              "\n",
              "   w_n_Nautical_Twilight  w_n_Astronomical_Twilight  w_n_Crossing  \\\n",
              "0               0.005288                   0.005878      0.018841   \n",
              "1               0.005288                   0.005878      0.018841   \n",
              "2               0.005288                   0.005878      0.018841   \n",
              "3               0.005288                   0.005878      0.018841   \n",
              "4               0.005288                   0.005878     -0.280223   \n",
              "\n",
              "   w_n_Junction  w_n_Traffic_Signal  Grado_Severidad  \n",
              "0     -0.075910           -0.014483                1  \n",
              "1     -0.075910           -0.014483                1  \n",
              "2      0.526237           -0.014483                1  \n",
              "3     -0.075910           -0.014483                1  \n",
              "4     -0.075910            0.132470                1  "
            ]
          },
          "execution_count": 35,
          "metadata": {},
          "output_type": "execute_result"
        }
      ],
      "source": [
        "tad = X_y[um + woe_var + trgt]\n",
        "tad.head()"
      ]
    },
    {
      "attachments": {},
      "cell_type": "markdown",
      "metadata": {},
      "source": [
        "## Modelado de datos y preparación para modelado"
      ]
    },
    {
      "attachments": {},
      "cell_type": "markdown",
      "metadata": {},
      "source": [
        "Justificación:\n",
        "\n",
        "Una vez que tenemos los datos ya limpios y las variables seleccionadas con el uso de la prepación WoE podemos entoces tener modelos que puedan medir dentro de las condiciones climáticas junto con los datos de la zona poder decir si es que los accidentes de alta severidad son probables y con la nueva tecnología en autos tener alertas especiales de conducción si es que las probabilidades aumentaran.\n",
        "\n",
        "\n",
        "Para poder ver seleccionar las variables del modelo aparte de usar el IV vamos a probar los supuestos que nos permitirían modelar con el algoritmo de regresión logística."
      ]
    },
    {
      "cell_type": "code",
      "execution_count": 36,
      "metadata": {},
      "outputs": [
        {
          "data": {
            "text/plain": [
              "1    0.899525\n",
              "0    0.100475\n",
              "Name: Grado_Severidad, dtype: float64"
            ]
          },
          "execution_count": 36,
          "metadata": {},
          "output_type": "execute_result"
        }
      ],
      "source": [
        "X = tad[woe_var].copy()\n",
        "y = tad['Grado_Severidad']\n",
        "y.value_counts(normalize = True)"
      ]
    },
    {
      "attachments": {},
      "cell_type": "markdown",
      "metadata": {},
      "source": [
        "Tenemos una clase desbalanceada pero para eso se pueden aplicar técnias de muestreo y en dimensiones"
      ]
    },
    {
      "cell_type": "code",
      "execution_count": 37,
      "metadata": {},
      "outputs": [],
      "source": [
        "Xt, Xv, yt, yv = train_test_split(X, y, train_size= 0.7, random_state= 0)"
      ]
    },
    {
      "attachments": {},
      "cell_type": "markdown",
      "metadata": {},
      "source": [
        "Ahora hacemos el submuestreo"
      ]
    },
    {
      "cell_type": "code",
      "execution_count": 38,
      "metadata": {},
      "outputs": [],
      "source": [
        "from imblearn.under_sampling import TomekLinks\n",
        "\n",
        "tomlinks = TomekLinks(sampling_strategy='auto', n_jobs= -1)\n",
        "\n",
        "Xt, yt = tomlinks.fit_resample(Xt, yt)"
      ]
    },
    {
      "cell_type": "code",
      "execution_count": 39,
      "metadata": {
        "id": "LzdtpeEoiqD_"
      },
      "outputs": [],
      "source": [
        "from sklearn.linear_model import LogisticRegression\n",
        "\n",
        "logreg = LogisticRegression(max_iter= 10_000)"
      ]
    },
    {
      "cell_type": "code",
      "execution_count": 40,
      "metadata": {},
      "outputs": [],
      "source": [
        "logreg.fit(Xt,yt)\n",
        "predicted = logreg.predict(Xv)"
      ]
    },
    {
      "cell_type": "code",
      "execution_count": 41,
      "metadata": {},
      "outputs": [],
      "source": [
        "from sklearn.metrics import classification_report, f1_score, recall_score, precision_recall_curve, accuracy_score"
      ]
    },
    {
      "cell_type": "code",
      "execution_count": 42,
      "metadata": {},
      "outputs": [
        {
          "name": "stdout",
          "output_type": "stream",
          "text": [
            "              precision    recall  f1-score   support\n",
            "\n",
            "           0       0.43      0.04      0.07     42790\n",
            "           1       0.90      0.99      0.95    383388\n",
            "\n",
            "    accuracy                           0.90    426178\n",
            "   macro avg       0.67      0.52      0.51    426178\n",
            "weighted avg       0.86      0.90      0.86    426178\n",
            "\n"
          ]
        }
      ],
      "source": [
        "print(classification_report(yv, predicted))"
      ]
    },
    {
      "cell_type": "code",
      "execution_count": 43,
      "metadata": {},
      "outputs": [
        {
          "name": "stdout",
          "output_type": "stream",
          "text": [
            "Accuracy: 0.8982960171571504\n",
            "Recall: 0.9941730048932153\n",
            "F1_score: 0.9462000963195027\n"
          ]
        }
      ],
      "source": [
        "print(f'Accuracy: {accuracy_score(y_true= yv, y_pred= predicted)}')\n",
        "print(f'Recall: {recall_score(y_true= yv, y_pred= predicted)}')\n",
        "print(f'F1_score: {f1_score(y_true= yv, y_pred= predicted)}')"
      ]
    },
    {
      "attachments": {},
      "cell_type": "markdown",
      "metadata": {},
      "source": [
        "Cálculo de residuos"
      ]
    },
    {
      "cell_type": "code",
      "execution_count": 44,
      "metadata": {},
      "outputs": [
        {
          "name": "stdout",
          "output_type": "stream",
          "text": [
            "Correlation matrix:\n",
            " 1.0\n"
          ]
        }
      ],
      "source": [
        "residuals = yv - predicted\n",
        "correlation_matrix = np.corrcoef(residuals, rowvar=False)\n",
        "print(\"Correlation matrix:\\n\", correlation_matrix)"
      ]
    },
    {
      "attachments": {},
      "cell_type": "markdown",
      "metadata": {},
      "source": [
        "Verificamos la normalidad de los residuos"
      ]
    },
    {
      "cell_type": "code",
      "execution_count": 45,
      "metadata": {},
      "outputs": [
        {
          "name": "stdout",
          "output_type": "stream",
          "text": [
            "Shapiro-Wilk test: W = 0.372318, p-value = 0.000000\n"
          ]
        },
        {
          "name": "stderr",
          "output_type": "stream",
          "text": [
            "/Users/admin/Documents/Personal/personal_env/lib/python3.10/site-packages/scipy/stats/_morestats.py:1816: UserWarning: p-value may not be accurate for N > 5000.\n",
            "  warnings.warn(\"p-value may not be accurate for N > 5000.\")\n"
          ]
        }
      ],
      "source": [
        "shapiro_test = shapiro(residuals)\n",
        "print(\"Shapiro-Wilk test: W = %f, p-value = %f\" % shapiro_test)"
      ]
    },
    {
      "attachments": {},
      "cell_type": "markdown",
      "metadata": {},
      "source": [
        "Con esto vemos que realmente no hay una buena distribución de los errores. Por lo que se tendría que hacer una predicción con un cambio de modelo"
      ]
    },
    {
      "cell_type": "code",
      "execution_count": 46,
      "metadata": {},
      "outputs": [],
      "source": [
        "from xgboost import XGBClassifier\n",
        "xgbC = XGBClassifier()"
      ]
    },
    {
      "cell_type": "code",
      "execution_count": 47,
      "metadata": {},
      "outputs": [
        {
          "name": "stdout",
          "output_type": "stream",
          "text": [
            "              precision    recall  f1-score   support\n",
            "\n",
            "           0       0.61      0.14      0.23     42790\n",
            "           1       0.91      0.99      0.95    383388\n",
            "\n",
            "    accuracy                           0.90    426178\n",
            "   macro avg       0.76      0.57      0.59    426178\n",
            "weighted avg       0.88      0.90      0.88    426178\n",
            "\n"
          ]
        }
      ],
      "source": [
        "xgbC.fit(Xt, yt)\n",
        "y_predicted = xgbC.predict(Xv)\n",
        "\n",
        "print(classification_report(yv, y_predicted))"
      ]
    },
    {
      "cell_type": "code",
      "execution_count": 48,
      "metadata": {},
      "outputs": [
        {
          "name": "stdout",
          "output_type": "stream",
          "text": [
            "Accuracy: 0.904692405520698\n",
            "Recall: 0.989584963535635\n",
            "F1_score: 0.9491899005263895\n"
          ]
        }
      ],
      "source": [
        "print(f'Accuracy: {accuracy_score(y_true= yv, y_pred= y_predicted)}')\n",
        "print(f'Recall: {recall_score(y_true= yv, y_pred= y_predicted)}')\n",
        "print(f'F1_score: {f1_score(y_true= yv, y_pred= y_predicted)}')"
      ]
    },
    {
      "attachments": {},
      "cell_type": "markdown",
      "metadata": {},
      "source": [
        "Podemos ver que aunque no se cumplían algunos supuestos para poder hacer el uso de la regresión logística aún así los valores que tenemos son relativamente similares con un modelo más potente lo que nos dice que es correcto usar la transformación para el uso de ambos modelos"
      ]
    },
    {
      "attachments": {},
      "cell_type": "markdown",
      "metadata": {},
      "source": [
        "## Formación de solución de negocio\n",
        "El principal uso que se le puede dar a la información obtenida se puede hacer en carros con conexión a internet una alterta de manejo para poder tener más cuidado en las partes donde se tenga probabilidades de tener un choque Grave entonces tener medidas adicionales."
      ]
    },
    {
      "cell_type": "code",
      "execution_count": 51,
      "metadata": {},
      "outputs": [
        {
          "data": {
            "text/plain": [
              "array([[0.02107304, 0.97892696],\n",
              "       [0.0109753 , 0.9890247 ],\n",
              "       [0.15891993, 0.84108007],\n",
              "       ...,\n",
              "       [0.01960826, 0.98039174],\n",
              "       [0.06798071, 0.9320193 ],\n",
              "       [0.03434682, 0.9656532 ]], dtype=float32)"
            ]
          },
          "execution_count": 51,
          "metadata": {},
          "output_type": "execute_result"
        }
      ],
      "source": [
        "xgbC.predict_proba(tad[woe_var])"
      ]
    },
    {
      "cell_type": "code",
      "execution_count": 53,
      "metadata": {},
      "outputs": [
        {
          "name": "stderr",
          "output_type": "stream",
          "text": [
            "/var/folders/4y/6562hjjn49d3rykhmq_11kx00000gn/T/ipykernel_17632/1906876905.py:1: SettingWithCopyWarning: \n",
            "A value is trying to be set on a copy of a slice from a DataFrame.\n",
            "Try using .loc[row_indexer,col_indexer] = value instead\n",
            "\n",
            "See the caveats in the documentation: https://pandas.pydata.org/pandas-docs/stable/user_guide/indexing.html#returning-a-view-versus-a-copy\n",
            "  tad.loc[:,'proba'] = xgbC.predict_proba(tad[woe_var])[:,1]\n"
          ]
        }
      ],
      "source": [
        "tad.loc[:,'proba'] = xgbC.predict_proba(tad[woe_var])[:,1]"
      ]
    },
    {
      "attachments": {},
      "cell_type": "markdown",
      "metadata": {},
      "source": [
        "Primero hay que regresar los valores de WoE a sus originales para ser más entendible"
      ]
    },
    {
      "cell_type": "code",
      "execution_count": 56,
      "metadata": {},
      "outputs": [],
      "source": [
        "reverse_woe = []\n",
        "for key, dic in mapa_woe:\n",
        "    reversed_dic = {v: k for k, v in dic.items()}\n",
        "    reverse_woe.append((key, reversed_dic))"
      ]
    },
    {
      "cell_type": "code",
      "execution_count": 60,
      "metadata": {},
      "outputs": [
        {
          "data": {
            "text/plain": [
              "[('d_Distance(mi)_4',\n",
              "  {'(-0.001, 0.052]': -0.20624290364277992,\n",
              "   '(0.052, 0.244]': -0.416982668704957,\n",
              "   '(0.244, 0.764]': 0.3051856790342143,\n",
              "   '(0.764, 152.543]': 0.18438725260664196}),\n",
              " ('d_Humidity(%)_4',\n",
              "  {'(0.999, 49.0]': -0.04407282022431994,\n",
              "   '(49.0, 66.0]': -0.022048183223393532,\n",
              "   '(66.0, 83.0]': -0.040599170218882354,\n",
              "   '(83.0, 100.0]': 0.10478300522423036}),\n",
              " ('d_Precipitation(in)_4',\n",
              "  {'(-0.001, 0.00702]': -0.009066120158634866,\n",
              "   '(0.00702, 24.0]': 0.11913345785059712}),\n",
              " ('d_Pressure(in)_4',\n",
              "  {'(0.019, 29.33]': -0.3135499360994853,\n",
              "   '(29.33, 29.81]': -0.22393106156652576,\n",
              "   '(29.81, 30.01]': 0.002609584054834476,\n",
              "   '(30.01, 56.54]': 0.43056824353552847}),\n",
              " ('d_Temperature(F)_4',\n",
              "  {'(-77.801, 50.0]': 0.15653007831806418,\n",
              "   '(50.0, 63.0]': -0.0913416736401749,\n",
              "   '(63.0, 76.0]': -0.01935649545977133,\n",
              "   '(76.0, 170.6]': -0.07073624681638467}),\n",
              " ('d_Visibility(mi)_3',\n",
              "  {'(-0.001, 10.0]': -0.00799920221756014,\n",
              "   '(10.0, 130.0]': 1.2800066445058125}),\n",
              " ('d_Wind_Chill(F)_4',\n",
              "  {'(-65.90100000000001, 51.0]': -0.02728549461154447,\n",
              "   '(51.0, 59.665]': 0.66055643427433,\n",
              "   '(59.665, 73.0]': -0.6368448288042485,\n",
              "   '(73.0, 136.0]': -0.6579335473294883}),\n",
              " ('n_State',\n",
              "  {'CA': -1.063849418599283,\n",
              "   'FL': -0.7089607179824622,\n",
              "   'Otro': 0.3875306847903655,\n",
              "   'TX': 0.5329549512725389}),\n",
              " ('n_Timezone',\n",
              "  {'US/Central': 0.5005887682326637,\n",
              "   'US/Eastern': 0.15891710861834468,\n",
              "   'US/Mountain': 0.39075287340617365,\n",
              "   'US/Pacific': -0.8299476482601625}),\n",
              " ('n_Wind_Direction',\n",
              "  {'CALM': -0.7523225454401719,\n",
              "   'Otro': 0.21747699289040034,\n",
              "   'S': -0.4993056673413711,\n",
              "   'W': -0.6820904395302824,\n",
              "   'WNW': -0.0029548373950015407}),\n",
              " ('n_Weather_Condition',\n",
              "  {'Clear': 1.4229872681333904,\n",
              "   'Cloudy': -0.4966749645703695,\n",
              "   'Fair': -0.7405397595554828,\n",
              "   'Mostly Cloudy': 0.1064699719385489,\n",
              "   'Otro': 0.49964550151510223,\n",
              "   'Partly Cloudy': 0.0403660933258116}),\n",
              " ('n_Sunrise_Sunset',\n",
              "  {'Day': 0.008456685215274703, 'Night': -0.01501707963789366}),\n",
              " ('n_Civil_Twilight',\n",
              "  {'Day': 0.008186318917258956, 'Night': -0.017467045512307083}),\n",
              " ('n_Nautical_Twilight',\n",
              "  {'Day': 0.005287897994618453, 'Night': -0.014115239391284527}),\n",
              " ('n_Astronomical_Twilight',\n",
              "  {'Day': 0.005878137406512014, 'Night': -0.019415700188560606}),\n",
              " ('n_Crossing', {'False': 0.0188413087613383, 'True': -0.2802225395357727}),\n",
              " ('n_Junction', {'False': -0.07591020259183051, 'True': 0.5262372089644455}),\n",
              " ('n_Traffic_Signal',\n",
              "  {'False': -0.014482537474166113, 'True': 0.13247022832264524})]"
            ]
          },
          "execution_count": 60,
          "metadata": {},
          "output_type": "execute_result"
        }
      ],
      "source": [
        "mapa_woe"
      ]
    },
    {
      "cell_type": "code",
      "execution_count": 61,
      "metadata": {},
      "outputs": [
        {
          "data": {
            "text/html": [
              "<div>\n",
              "<style scoped>\n",
              "    .dataframe tbody tr th:only-of-type {\n",
              "        vertical-align: middle;\n",
              "    }\n",
              "\n",
              "    .dataframe tbody tr th {\n",
              "        vertical-align: top;\n",
              "    }\n",
              "\n",
              "    .dataframe thead th {\n",
              "        text-align: right;\n",
              "    }\n",
              "</style>\n",
              "<table border=\"1\" class=\"dataframe\">\n",
              "  <thead>\n",
              "    <tr style=\"text-align: right;\">\n",
              "      <th></th>\n",
              "      <th>ID</th>\n",
              "      <th>w_d_Distance(mi)_4</th>\n",
              "      <th>w_d_Humidity(%)_4</th>\n",
              "      <th>w_d_Precipitation(in)_4</th>\n",
              "      <th>w_d_Pressure(in)_4</th>\n",
              "      <th>w_d_Temperature(F)_4</th>\n",
              "      <th>w_d_Visibility(mi)_3</th>\n",
              "      <th>w_d_Wind_Chill(F)_4</th>\n",
              "      <th>w_n_State</th>\n",
              "      <th>w_n_Timezone</th>\n",
              "      <th>w_n_Wind_Direction</th>\n",
              "      <th>w_n_Weather_Condition</th>\n",
              "      <th>w_n_Sunrise_Sunset</th>\n",
              "      <th>w_n_Civil_Twilight</th>\n",
              "      <th>w_n_Nautical_Twilight</th>\n",
              "      <th>w_n_Astronomical_Twilight</th>\n",
              "      <th>w_n_Crossing</th>\n",
              "      <th>w_n_Junction</th>\n",
              "      <th>w_n_Traffic_Signal</th>\n",
              "      <th>Grado_Severidad</th>\n",
              "      <th>proba</th>\n",
              "    </tr>\n",
              "  </thead>\n",
              "  <tbody>\n",
              "    <tr>\n",
              "      <th>0</th>\n",
              "      <td>A-2081499</td>\n",
              "      <td>-0.206243</td>\n",
              "      <td>-0.040599</td>\n",
              "      <td>-0.009066</td>\n",
              "      <td>-0.313550</td>\n",
              "      <td>-0.019356</td>\n",
              "      <td>-0.007999</td>\n",
              "      <td>-0.636845</td>\n",
              "      <td>-1.063849</td>\n",
              "      <td>-0.829948</td>\n",
              "      <td>0.217477</td>\n",
              "      <td>-0.740540</td>\n",
              "      <td>0.008457</td>\n",
              "      <td>0.008186</td>\n",
              "      <td>0.005288</td>\n",
              "      <td>0.005878</td>\n",
              "      <td>0.018841</td>\n",
              "      <td>-0.075910</td>\n",
              "      <td>-0.014483</td>\n",
              "      <td>1</td>\n",
              "      <td>0.978927</td>\n",
              "    </tr>\n",
              "    <tr>\n",
              "      <th>1</th>\n",
              "      <td>A-1633638</td>\n",
              "      <td>0.305186</td>\n",
              "      <td>0.104783</td>\n",
              "      <td>-0.009066</td>\n",
              "      <td>-0.313550</td>\n",
              "      <td>0.156530</td>\n",
              "      <td>-0.007999</td>\n",
              "      <td>-0.027285</td>\n",
              "      <td>-1.063849</td>\n",
              "      <td>-0.829948</td>\n",
              "      <td>0.217477</td>\n",
              "      <td>-0.740540</td>\n",
              "      <td>-0.015017</td>\n",
              "      <td>0.008186</td>\n",
              "      <td>0.005288</td>\n",
              "      <td>0.005878</td>\n",
              "      <td>0.018841</td>\n",
              "      <td>-0.075910</td>\n",
              "      <td>-0.014483</td>\n",
              "      <td>1</td>\n",
              "      <td>0.989025</td>\n",
              "    </tr>\n",
              "    <tr>\n",
              "      <th>2</th>\n",
              "      <td>A-890220</td>\n",
              "      <td>0.184387</td>\n",
              "      <td>0.104783</td>\n",
              "      <td>-0.009066</td>\n",
              "      <td>-0.223931</td>\n",
              "      <td>0.156530</td>\n",
              "      <td>-0.007999</td>\n",
              "      <td>-0.027285</td>\n",
              "      <td>0.387531</td>\n",
              "      <td>-0.829948</td>\n",
              "      <td>0.217477</td>\n",
              "      <td>0.499646</td>\n",
              "      <td>-0.015017</td>\n",
              "      <td>0.008186</td>\n",
              "      <td>0.005288</td>\n",
              "      <td>0.005878</td>\n",
              "      <td>0.018841</td>\n",
              "      <td>0.526237</td>\n",
              "      <td>-0.014483</td>\n",
              "      <td>1</td>\n",
              "      <td>0.841080</td>\n",
              "    </tr>\n",
              "    <tr>\n",
              "      <th>3</th>\n",
              "      <td>A-823248</td>\n",
              "      <td>-0.206243</td>\n",
              "      <td>-0.022048</td>\n",
              "      <td>-0.009066</td>\n",
              "      <td>0.430568</td>\n",
              "      <td>-0.070736</td>\n",
              "      <td>-0.007999</td>\n",
              "      <td>-0.657934</td>\n",
              "      <td>-0.708961</td>\n",
              "      <td>0.158917</td>\n",
              "      <td>0.217477</td>\n",
              "      <td>0.040366</td>\n",
              "      <td>0.008457</td>\n",
              "      <td>0.008186</td>\n",
              "      <td>0.005288</td>\n",
              "      <td>0.005878</td>\n",
              "      <td>0.018841</td>\n",
              "      <td>-0.075910</td>\n",
              "      <td>-0.014483</td>\n",
              "      <td>1</td>\n",
              "      <td>0.946170</td>\n",
              "    </tr>\n",
              "    <tr>\n",
              "      <th>4</th>\n",
              "      <td>A-1724502</td>\n",
              "      <td>-0.416983</td>\n",
              "      <td>-0.044073</td>\n",
              "      <td>-0.009066</td>\n",
              "      <td>0.430568</td>\n",
              "      <td>-0.019356</td>\n",
              "      <td>-0.007999</td>\n",
              "      <td>-0.657934</td>\n",
              "      <td>-0.708961</td>\n",
              "      <td>0.158917</td>\n",
              "      <td>0.217477</td>\n",
              "      <td>-0.740540</td>\n",
              "      <td>0.008457</td>\n",
              "      <td>0.008186</td>\n",
              "      <td>0.005288</td>\n",
              "      <td>0.005878</td>\n",
              "      <td>-0.280223</td>\n",
              "      <td>-0.075910</td>\n",
              "      <td>0.132470</td>\n",
              "      <td>1</td>\n",
              "      <td>0.979009</td>\n",
              "    </tr>\n",
              "    <tr>\n",
              "      <th>...</th>\n",
              "      <td>...</td>\n",
              "      <td>...</td>\n",
              "      <td>...</td>\n",
              "      <td>...</td>\n",
              "      <td>...</td>\n",
              "      <td>...</td>\n",
              "      <td>...</td>\n",
              "      <td>...</td>\n",
              "      <td>...</td>\n",
              "      <td>...</td>\n",
              "      <td>...</td>\n",
              "      <td>...</td>\n",
              "      <td>...</td>\n",
              "      <td>...</td>\n",
              "      <td>...</td>\n",
              "      <td>...</td>\n",
              "      <td>...</td>\n",
              "      <td>...</td>\n",
              "      <td>...</td>\n",
              "      <td>...</td>\n",
              "      <td>...</td>\n",
              "    </tr>\n",
              "    <tr>\n",
              "      <th>355143</th>\n",
              "      <td>A-607151</td>\n",
              "      <td>-0.416983</td>\n",
              "      <td>-0.040599</td>\n",
              "      <td>-0.009066</td>\n",
              "      <td>-0.313550</td>\n",
              "      <td>0.156530</td>\n",
              "      <td>-0.007999</td>\n",
              "      <td>-0.027285</td>\n",
              "      <td>0.387531</td>\n",
              "      <td>0.158917</td>\n",
              "      <td>0.217477</td>\n",
              "      <td>0.040366</td>\n",
              "      <td>0.008457</td>\n",
              "      <td>0.008186</td>\n",
              "      <td>0.005288</td>\n",
              "      <td>0.005878</td>\n",
              "      <td>0.018841</td>\n",
              "      <td>-0.075910</td>\n",
              "      <td>-0.014483</td>\n",
              "      <td>1</td>\n",
              "      <td>0.945989</td>\n",
              "    </tr>\n",
              "    <tr>\n",
              "      <th>355144</th>\n",
              "      <td>A-1866177</td>\n",
              "      <td>0.184387</td>\n",
              "      <td>0.104783</td>\n",
              "      <td>-0.009066</td>\n",
              "      <td>-0.313550</td>\n",
              "      <td>0.156530</td>\n",
              "      <td>-0.007999</td>\n",
              "      <td>-0.027285</td>\n",
              "      <td>0.387531</td>\n",
              "      <td>0.158917</td>\n",
              "      <td>-0.752323</td>\n",
              "      <td>-0.740540</td>\n",
              "      <td>-0.015017</td>\n",
              "      <td>-0.017467</td>\n",
              "      <td>-0.014115</td>\n",
              "      <td>-0.019416</td>\n",
              "      <td>0.018841</td>\n",
              "      <td>-0.075910</td>\n",
              "      <td>-0.014483</td>\n",
              "      <td>1</td>\n",
              "      <td>0.920899</td>\n",
              "    </tr>\n",
              "    <tr>\n",
              "      <th>355145</th>\n",
              "      <td>A-592142</td>\n",
              "      <td>0.184387</td>\n",
              "      <td>-0.044073</td>\n",
              "      <td>-0.009066</td>\n",
              "      <td>-0.313550</td>\n",
              "      <td>-0.070736</td>\n",
              "      <td>-0.007999</td>\n",
              "      <td>-0.657934</td>\n",
              "      <td>-1.063849</td>\n",
              "      <td>-0.829948</td>\n",
              "      <td>0.217477</td>\n",
              "      <td>-0.740540</td>\n",
              "      <td>0.008457</td>\n",
              "      <td>0.008186</td>\n",
              "      <td>0.005288</td>\n",
              "      <td>0.005878</td>\n",
              "      <td>0.018841</td>\n",
              "      <td>-0.075910</td>\n",
              "      <td>-0.014483</td>\n",
              "      <td>1</td>\n",
              "      <td>0.980392</td>\n",
              "    </tr>\n",
              "    <tr>\n",
              "      <th>355146</th>\n",
              "      <td>A-1983439</td>\n",
              "      <td>-0.416983</td>\n",
              "      <td>0.104783</td>\n",
              "      <td>-0.009066</td>\n",
              "      <td>0.430568</td>\n",
              "      <td>-0.019356</td>\n",
              "      <td>-0.007999</td>\n",
              "      <td>-0.636845</td>\n",
              "      <td>0.387531</td>\n",
              "      <td>0.158917</td>\n",
              "      <td>0.217477</td>\n",
              "      <td>0.499646</td>\n",
              "      <td>-0.015017</td>\n",
              "      <td>-0.017467</td>\n",
              "      <td>-0.014115</td>\n",
              "      <td>-0.019416</td>\n",
              "      <td>0.018841</td>\n",
              "      <td>-0.075910</td>\n",
              "      <td>-0.014483</td>\n",
              "      <td>1</td>\n",
              "      <td>0.932019</td>\n",
              "    </tr>\n",
              "    <tr>\n",
              "      <th>355147</th>\n",
              "      <td>A-2053524</td>\n",
              "      <td>0.305186</td>\n",
              "      <td>-0.040599</td>\n",
              "      <td>-0.009066</td>\n",
              "      <td>0.002610</td>\n",
              "      <td>-0.070736</td>\n",
              "      <td>-0.007999</td>\n",
              "      <td>-0.657934</td>\n",
              "      <td>-0.708961</td>\n",
              "      <td>0.158917</td>\n",
              "      <td>0.217477</td>\n",
              "      <td>0.106470</td>\n",
              "      <td>0.008457</td>\n",
              "      <td>0.008186</td>\n",
              "      <td>0.005288</td>\n",
              "      <td>0.005878</td>\n",
              "      <td>0.018841</td>\n",
              "      <td>-0.075910</td>\n",
              "      <td>-0.014483</td>\n",
              "      <td>1</td>\n",
              "      <td>0.965653</td>\n",
              "    </tr>\n",
              "  </tbody>\n",
              "</table>\n",
              "<p>1420592 rows × 21 columns</p>\n",
              "</div>"
            ],
            "text/plain": [
              "               ID  w_d_Distance(mi)_4  w_d_Humidity(%)_4  \\\n",
              "0       A-2081499           -0.206243          -0.040599   \n",
              "1       A-1633638            0.305186           0.104783   \n",
              "2        A-890220            0.184387           0.104783   \n",
              "3        A-823248           -0.206243          -0.022048   \n",
              "4       A-1724502           -0.416983          -0.044073   \n",
              "...           ...                 ...                ...   \n",
              "355143   A-607151           -0.416983          -0.040599   \n",
              "355144  A-1866177            0.184387           0.104783   \n",
              "355145   A-592142            0.184387          -0.044073   \n",
              "355146  A-1983439           -0.416983           0.104783   \n",
              "355147  A-2053524            0.305186          -0.040599   \n",
              "\n",
              "        w_d_Precipitation(in)_4  w_d_Pressure(in)_4  w_d_Temperature(F)_4  \\\n",
              "0                     -0.009066           -0.313550             -0.019356   \n",
              "1                     -0.009066           -0.313550              0.156530   \n",
              "2                     -0.009066           -0.223931              0.156530   \n",
              "3                     -0.009066            0.430568             -0.070736   \n",
              "4                     -0.009066            0.430568             -0.019356   \n",
              "...                         ...                 ...                   ...   \n",
              "355143                -0.009066           -0.313550              0.156530   \n",
              "355144                -0.009066           -0.313550              0.156530   \n",
              "355145                -0.009066           -0.313550             -0.070736   \n",
              "355146                -0.009066            0.430568             -0.019356   \n",
              "355147                -0.009066            0.002610             -0.070736   \n",
              "\n",
              "        w_d_Visibility(mi)_3  w_d_Wind_Chill(F)_4  w_n_State  w_n_Timezone  \\\n",
              "0                  -0.007999            -0.636845  -1.063849     -0.829948   \n",
              "1                  -0.007999            -0.027285  -1.063849     -0.829948   \n",
              "2                  -0.007999            -0.027285   0.387531     -0.829948   \n",
              "3                  -0.007999            -0.657934  -0.708961      0.158917   \n",
              "4                  -0.007999            -0.657934  -0.708961      0.158917   \n",
              "...                      ...                  ...        ...           ...   \n",
              "355143             -0.007999            -0.027285   0.387531      0.158917   \n",
              "355144             -0.007999            -0.027285   0.387531      0.158917   \n",
              "355145             -0.007999            -0.657934  -1.063849     -0.829948   \n",
              "355146             -0.007999            -0.636845   0.387531      0.158917   \n",
              "355147             -0.007999            -0.657934  -0.708961      0.158917   \n",
              "\n",
              "        w_n_Wind_Direction  w_n_Weather_Condition  w_n_Sunrise_Sunset  \\\n",
              "0                 0.217477              -0.740540            0.008457   \n",
              "1                 0.217477              -0.740540           -0.015017   \n",
              "2                 0.217477               0.499646           -0.015017   \n",
              "3                 0.217477               0.040366            0.008457   \n",
              "4                 0.217477              -0.740540            0.008457   \n",
              "...                    ...                    ...                 ...   \n",
              "355143            0.217477               0.040366            0.008457   \n",
              "355144           -0.752323              -0.740540           -0.015017   \n",
              "355145            0.217477              -0.740540            0.008457   \n",
              "355146            0.217477               0.499646           -0.015017   \n",
              "355147            0.217477               0.106470            0.008457   \n",
              "\n",
              "        w_n_Civil_Twilight  w_n_Nautical_Twilight  w_n_Astronomical_Twilight  \\\n",
              "0                 0.008186               0.005288                   0.005878   \n",
              "1                 0.008186               0.005288                   0.005878   \n",
              "2                 0.008186               0.005288                   0.005878   \n",
              "3                 0.008186               0.005288                   0.005878   \n",
              "4                 0.008186               0.005288                   0.005878   \n",
              "...                    ...                    ...                        ...   \n",
              "355143            0.008186               0.005288                   0.005878   \n",
              "355144           -0.017467              -0.014115                  -0.019416   \n",
              "355145            0.008186               0.005288                   0.005878   \n",
              "355146           -0.017467              -0.014115                  -0.019416   \n",
              "355147            0.008186               0.005288                   0.005878   \n",
              "\n",
              "        w_n_Crossing  w_n_Junction  w_n_Traffic_Signal  Grado_Severidad  \\\n",
              "0           0.018841     -0.075910           -0.014483                1   \n",
              "1           0.018841     -0.075910           -0.014483                1   \n",
              "2           0.018841      0.526237           -0.014483                1   \n",
              "3           0.018841     -0.075910           -0.014483                1   \n",
              "4          -0.280223     -0.075910            0.132470                1   \n",
              "...              ...           ...                 ...              ...   \n",
              "355143      0.018841     -0.075910           -0.014483                1   \n",
              "355144      0.018841     -0.075910           -0.014483                1   \n",
              "355145      0.018841     -0.075910           -0.014483                1   \n",
              "355146      0.018841     -0.075910           -0.014483                1   \n",
              "355147      0.018841     -0.075910           -0.014483                1   \n",
              "\n",
              "           proba  \n",
              "0       0.978927  \n",
              "1       0.989025  \n",
              "2       0.841080  \n",
              "3       0.946170  \n",
              "4       0.979009  \n",
              "...          ...  \n",
              "355143  0.945989  \n",
              "355144  0.920899  \n",
              "355145  0.980392  \n",
              "355146  0.932019  \n",
              "355147  0.965653  \n",
              "\n",
              "[1420592 rows x 21 columns]"
            ]
          },
          "execution_count": 61,
          "metadata": {},
          "output_type": "execute_result"
        }
      ],
      "source": [
        "tad"
      ]
    },
    {
      "cell_type": "code",
      "execution_count": 59,
      "metadata": {},
      "outputs": [
        {
          "data": {
            "text/plain": [
              "[('d_Distance(mi)_4',\n",
              "  {-0.20624290364277992: '(-0.001, 0.052]',\n",
              "   -0.416982668704957: '(0.052, 0.244]',\n",
              "   0.3051856790342143: '(0.244, 0.764]',\n",
              "   0.18438725260664196: '(0.764, 152.543]'}),\n",
              " ('d_Humidity(%)_4',\n",
              "  {-0.04407282022431994: '(0.999, 49.0]',\n",
              "   -0.022048183223393532: '(49.0, 66.0]',\n",
              "   -0.040599170218882354: '(66.0, 83.0]',\n",
              "   0.10478300522423036: '(83.0, 100.0]'}),\n",
              " ('d_Precipitation(in)_4',\n",
              "  {-0.009066120158634866: '(-0.001, 0.00702]',\n",
              "   0.11913345785059712: '(0.00702, 24.0]'}),\n",
              " ('d_Pressure(in)_4',\n",
              "  {-0.3135499360994853: '(0.019, 29.33]',\n",
              "   -0.22393106156652576: '(29.33, 29.81]',\n",
              "   0.002609584054834476: '(29.81, 30.01]',\n",
              "   0.43056824353552847: '(30.01, 56.54]'}),\n",
              " ('d_Temperature(F)_4',\n",
              "  {0.15653007831806418: '(-77.801, 50.0]',\n",
              "   -0.0913416736401749: '(50.0, 63.0]',\n",
              "   -0.01935649545977133: '(63.0, 76.0]',\n",
              "   -0.07073624681638467: '(76.0, 170.6]'}),\n",
              " ('d_Visibility(mi)_3',\n",
              "  {-0.00799920221756014: '(-0.001, 10.0]',\n",
              "   1.2800066445058125: '(10.0, 130.0]'}),\n",
              " ('d_Wind_Chill(F)_4',\n",
              "  {-0.02728549461154447: '(-65.90100000000001, 51.0]',\n",
              "   0.66055643427433: '(51.0, 59.665]',\n",
              "   -0.6368448288042485: '(59.665, 73.0]',\n",
              "   -0.6579335473294883: '(73.0, 136.0]'}),\n",
              " ('n_State',\n",
              "  {-1.063849418599283: 'CA',\n",
              "   -0.7089607179824622: 'FL',\n",
              "   0.3875306847903655: 'Otro',\n",
              "   0.5329549512725389: 'TX'}),\n",
              " ('n_Timezone',\n",
              "  {0.5005887682326637: 'US/Central',\n",
              "   0.15891710861834468: 'US/Eastern',\n",
              "   0.39075287340617365: 'US/Mountain',\n",
              "   -0.8299476482601625: 'US/Pacific'}),\n",
              " ('n_Wind_Direction',\n",
              "  {-0.7523225454401719: 'CALM',\n",
              "   0.21747699289040034: 'Otro',\n",
              "   -0.4993056673413711: 'S',\n",
              "   -0.6820904395302824: 'W',\n",
              "   -0.0029548373950015407: 'WNW'}),\n",
              " ('n_Weather_Condition',\n",
              "  {1.4229872681333904: 'Clear',\n",
              "   -0.4966749645703695: 'Cloudy',\n",
              "   -0.7405397595554828: 'Fair',\n",
              "   0.1064699719385489: 'Mostly Cloudy',\n",
              "   0.49964550151510223: 'Otro',\n",
              "   0.0403660933258116: 'Partly Cloudy'}),\n",
              " ('n_Sunrise_Sunset',\n",
              "  {0.008456685215274703: 'Day', -0.01501707963789366: 'Night'}),\n",
              " ('n_Civil_Twilight',\n",
              "  {0.008186318917258956: 'Day', -0.017467045512307083: 'Night'}),\n",
              " ('n_Nautical_Twilight',\n",
              "  {0.005287897994618453: 'Day', -0.014115239391284527: 'Night'}),\n",
              " ('n_Astronomical_Twilight',\n",
              "  {0.005878137406512014: 'Day', -0.019415700188560606: 'Night'}),\n",
              " ('n_Crossing', {0.0188413087613383: 'False', -0.2802225395357727: 'True'}),\n",
              " ('n_Junction', {-0.07591020259183051: 'False', 0.5262372089644455: 'True'}),\n",
              " ('n_Traffic_Signal',\n",
              "  {-0.014482537474166113: 'False', 0.13247022832264524: 'True'})]"
            ]
          },
          "execution_count": 59,
          "metadata": {},
          "output_type": "execute_result"
        }
      ],
      "source": [
        "reverse_woe"
      ]
    },
    {
      "cell_type": "code",
      "execution_count": 67,
      "metadata": {},
      "outputs": [],
      "source": [
        "final = pd.DataFrame()\n",
        "for v, mapa in reverse_woe:\n",
        "    final[v] = tad[f'w_{v}'].replace(mapa)\n",
        "final['target'] = tad['Grado_Severidad']\n",
        "\n",
        "final.head()"
      ]
    },
    {
      "cell_type": "code",
      "execution_count": null,
      "metadata": {},
      "outputs": [],
      "source": [
        "sns.catplot(data=df, kind=\"strip\", hue=\"target\",\n",
        "            x=\"col_1\", y=\"col_2\", jitter=True)"
      ]
    }
  ],
  "metadata": {
    "colab": {
      "provenance": []
    },
    "kernelspec": {
      "display_name": "personal_env",
      "language": "python",
      "name": "python3"
    },
    "language_info": {
      "codemirror_mode": {
        "name": "ipython",
        "version": 3
      },
      "file_extension": ".py",
      "mimetype": "text/x-python",
      "name": "python",
      "nbconvert_exporter": "python",
      "pygments_lexer": "ipython3",
      "version": "3.10.9"
    },
    "orig_nbformat": 4,
    "vscode": {
      "interpreter": {
        "hash": "0e0055db4affb89f5cefcf11c904054d3914836ba9b7ca6aaeb4964a3c42c42a"
      }
    }
  },
  "nbformat": 4,
  "nbformat_minor": 0
}
