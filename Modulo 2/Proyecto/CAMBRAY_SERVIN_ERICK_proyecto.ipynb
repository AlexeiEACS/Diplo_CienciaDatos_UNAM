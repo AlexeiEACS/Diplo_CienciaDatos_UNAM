{
  "cells": [
    {
      "cell_type": "markdown",
      "metadata": {
        "id": "CXmqcCoSiqDf"
      },
      "source": [
        "## Entrega Final Diplomando Data Science\n",
        "- Erick Alexei Cambray Servin\n"
      ]
    },
    {
      "cell_type": "code",
      "execution_count": 1,
      "metadata": {
        "id": "2OueusVgiqDl",
        "vscode": {
          "languageId": "python"
        }
      },
      "outputs": [],
      "source": [
        "import pandas as pd\n",
        "import numpy as np\n",
        "\n",
        "import matplotlib.pyplot as plt\n",
        "import seaborn as sns\n",
        "\n",
        "sns.set()\n",
        "\n",
        "pd.options.display.max_columns = None"
      ]
    },
    {
      "cell_type": "markdown",
      "metadata": {
        "id": "st8-cavWiqDo"
      },
      "source": [
        "Teniendo esta información vamos a poder hacer una nueva columna la cual vamos a hacer una columna de clasificación sobre la que se hará el análisis de severidad, crearemos una columna que diga 1 si es que la severidad está entre 1 y 2. En 0 si es que está en 3 y 4. Lo que nos dirá que tan grave es un accidente dependiendo de las condiciones en las que sucedió el accidente"
      ]
    },
    {
      "cell_type": "code",
      "execution_count": 2,
      "metadata": {
        "id": "VmAru7q6iqDp",
        "vscode": {
          "languageId": "python"
        }
      },
      "outputs": [],
      "source": [
        "data = pd.read_csv('data/US_Accidents_Dec21_updated.csv')"
      ]
    },
    {
      "cell_type": "code",
      "execution_count": 3,
      "metadata": {
        "id": "hdPWwsdniqDp",
        "outputId": "77cad058-1af3-452d-98e3-aa3552d2c291",
        "vscode": {
          "languageId": "python"
        }
      },
      "outputs": [
        {
          "data": {
            "text/html": [
              "<div>\n",
              "<style scoped>\n",
              "    .dataframe tbody tr th:only-of-type {\n",
              "        vertical-align: middle;\n",
              "    }\n",
              "\n",
              "    .dataframe tbody tr th {\n",
              "        vertical-align: top;\n",
              "    }\n",
              "\n",
              "    .dataframe thead th {\n",
              "        text-align: right;\n",
              "    }\n",
              "</style>\n",
              "<table border=\"1\" class=\"dataframe\">\n",
              "  <thead>\n",
              "    <tr style=\"text-align: right;\">\n",
              "      <th></th>\n",
              "      <th>ID</th>\n",
              "      <th>Severity</th>\n",
              "      <th>Start_Time</th>\n",
              "      <th>End_Time</th>\n",
              "      <th>Start_Lat</th>\n",
              "      <th>Start_Lng</th>\n",
              "      <th>End_Lat</th>\n",
              "      <th>End_Lng</th>\n",
              "      <th>Distance(mi)</th>\n",
              "      <th>Description</th>\n",
              "      <th>Number</th>\n",
              "      <th>Street</th>\n",
              "      <th>Side</th>\n",
              "      <th>City</th>\n",
              "      <th>County</th>\n",
              "      <th>State</th>\n",
              "      <th>Zipcode</th>\n",
              "      <th>Country</th>\n",
              "      <th>Timezone</th>\n",
              "      <th>Airport_Code</th>\n",
              "      <th>Weather_Timestamp</th>\n",
              "      <th>Temperature(F)</th>\n",
              "      <th>Wind_Chill(F)</th>\n",
              "      <th>Humidity(%)</th>\n",
              "      <th>Pressure(in)</th>\n",
              "      <th>Visibility(mi)</th>\n",
              "      <th>Wind_Direction</th>\n",
              "      <th>Wind_Speed(mph)</th>\n",
              "      <th>Precipitation(in)</th>\n",
              "      <th>Weather_Condition</th>\n",
              "      <th>Amenity</th>\n",
              "      <th>Bump</th>\n",
              "      <th>Crossing</th>\n",
              "      <th>Give_Way</th>\n",
              "      <th>Junction</th>\n",
              "      <th>No_Exit</th>\n",
              "      <th>Railway</th>\n",
              "      <th>Roundabout</th>\n",
              "      <th>Station</th>\n",
              "      <th>Stop</th>\n",
              "      <th>Traffic_Calming</th>\n",
              "      <th>Traffic_Signal</th>\n",
              "      <th>Turning_Loop</th>\n",
              "      <th>Sunrise_Sunset</th>\n",
              "      <th>Civil_Twilight</th>\n",
              "      <th>Nautical_Twilight</th>\n",
              "      <th>Astronomical_Twilight</th>\n",
              "    </tr>\n",
              "  </thead>\n",
              "  <tbody>\n",
              "    <tr>\n",
              "      <th>0</th>\n",
              "      <td>A-1</td>\n",
              "      <td>3</td>\n",
              "      <td>2016-02-08 00:37:08</td>\n",
              "      <td>2016-02-08 06:37:08</td>\n",
              "      <td>40.108910</td>\n",
              "      <td>-83.092860</td>\n",
              "      <td>40.112060</td>\n",
              "      <td>-83.031870</td>\n",
              "      <td>3.230</td>\n",
              "      <td>Between Sawmill Rd/Exit 20 and OH-315/Olentang...</td>\n",
              "      <td>NaN</td>\n",
              "      <td>Outerbelt E</td>\n",
              "      <td>R</td>\n",
              "      <td>Dublin</td>\n",
              "      <td>Franklin</td>\n",
              "      <td>OH</td>\n",
              "      <td>43017</td>\n",
              "      <td>US</td>\n",
              "      <td>US/Eastern</td>\n",
              "      <td>KOSU</td>\n",
              "      <td>2016-02-08 00:53:00</td>\n",
              "      <td>42.1</td>\n",
              "      <td>36.1</td>\n",
              "      <td>58.0</td>\n",
              "      <td>29.76</td>\n",
              "      <td>10.0</td>\n",
              "      <td>SW</td>\n",
              "      <td>10.4</td>\n",
              "      <td>0.00</td>\n",
              "      <td>Light Rain</td>\n",
              "      <td>False</td>\n",
              "      <td>False</td>\n",
              "      <td>False</td>\n",
              "      <td>False</td>\n",
              "      <td>False</td>\n",
              "      <td>False</td>\n",
              "      <td>False</td>\n",
              "      <td>False</td>\n",
              "      <td>False</td>\n",
              "      <td>False</td>\n",
              "      <td>False</td>\n",
              "      <td>False</td>\n",
              "      <td>False</td>\n",
              "      <td>Night</td>\n",
              "      <td>Night</td>\n",
              "      <td>Night</td>\n",
              "      <td>Night</td>\n",
              "    </tr>\n",
              "    <tr>\n",
              "      <th>1</th>\n",
              "      <td>A-2</td>\n",
              "      <td>2</td>\n",
              "      <td>2016-02-08 05:56:20</td>\n",
              "      <td>2016-02-08 11:56:20</td>\n",
              "      <td>39.865420</td>\n",
              "      <td>-84.062800</td>\n",
              "      <td>39.865010</td>\n",
              "      <td>-84.048730</td>\n",
              "      <td>0.747</td>\n",
              "      <td>At OH-4/OH-235/Exit 41 - Accident.</td>\n",
              "      <td>NaN</td>\n",
              "      <td>I-70 E</td>\n",
              "      <td>R</td>\n",
              "      <td>Dayton</td>\n",
              "      <td>Montgomery</td>\n",
              "      <td>OH</td>\n",
              "      <td>45424</td>\n",
              "      <td>US</td>\n",
              "      <td>US/Eastern</td>\n",
              "      <td>KFFO</td>\n",
              "      <td>2016-02-08 05:58:00</td>\n",
              "      <td>36.9</td>\n",
              "      <td>NaN</td>\n",
              "      <td>91.0</td>\n",
              "      <td>29.68</td>\n",
              "      <td>10.0</td>\n",
              "      <td>Calm</td>\n",
              "      <td>NaN</td>\n",
              "      <td>0.02</td>\n",
              "      <td>Light Rain</td>\n",
              "      <td>False</td>\n",
              "      <td>False</td>\n",
              "      <td>False</td>\n",
              "      <td>False</td>\n",
              "      <td>False</td>\n",
              "      <td>False</td>\n",
              "      <td>False</td>\n",
              "      <td>False</td>\n",
              "      <td>False</td>\n",
              "      <td>False</td>\n",
              "      <td>False</td>\n",
              "      <td>False</td>\n",
              "      <td>False</td>\n",
              "      <td>Night</td>\n",
              "      <td>Night</td>\n",
              "      <td>Night</td>\n",
              "      <td>Night</td>\n",
              "    </tr>\n",
              "    <tr>\n",
              "      <th>2</th>\n",
              "      <td>A-3</td>\n",
              "      <td>2</td>\n",
              "      <td>2016-02-08 06:15:39</td>\n",
              "      <td>2016-02-08 12:15:39</td>\n",
              "      <td>39.102660</td>\n",
              "      <td>-84.524680</td>\n",
              "      <td>39.102090</td>\n",
              "      <td>-84.523960</td>\n",
              "      <td>0.055</td>\n",
              "      <td>At I-71/US-50/Exit 1 - Accident.</td>\n",
              "      <td>NaN</td>\n",
              "      <td>I-75 S</td>\n",
              "      <td>R</td>\n",
              "      <td>Cincinnati</td>\n",
              "      <td>Hamilton</td>\n",
              "      <td>OH</td>\n",
              "      <td>45203</td>\n",
              "      <td>US</td>\n",
              "      <td>US/Eastern</td>\n",
              "      <td>KLUK</td>\n",
              "      <td>2016-02-08 05:53:00</td>\n",
              "      <td>36.0</td>\n",
              "      <td>NaN</td>\n",
              "      <td>97.0</td>\n",
              "      <td>29.70</td>\n",
              "      <td>10.0</td>\n",
              "      <td>Calm</td>\n",
              "      <td>NaN</td>\n",
              "      <td>0.02</td>\n",
              "      <td>Overcast</td>\n",
              "      <td>False</td>\n",
              "      <td>False</td>\n",
              "      <td>False</td>\n",
              "      <td>False</td>\n",
              "      <td>True</td>\n",
              "      <td>False</td>\n",
              "      <td>False</td>\n",
              "      <td>False</td>\n",
              "      <td>False</td>\n",
              "      <td>False</td>\n",
              "      <td>False</td>\n",
              "      <td>False</td>\n",
              "      <td>False</td>\n",
              "      <td>Night</td>\n",
              "      <td>Night</td>\n",
              "      <td>Night</td>\n",
              "      <td>Day</td>\n",
              "    </tr>\n",
              "    <tr>\n",
              "      <th>3</th>\n",
              "      <td>A-4</td>\n",
              "      <td>2</td>\n",
              "      <td>2016-02-08 06:51:45</td>\n",
              "      <td>2016-02-08 12:51:45</td>\n",
              "      <td>41.062130</td>\n",
              "      <td>-81.537840</td>\n",
              "      <td>41.062170</td>\n",
              "      <td>-81.535470</td>\n",
              "      <td>0.123</td>\n",
              "      <td>At Dart Ave/Exit 21 - Accident.</td>\n",
              "      <td>NaN</td>\n",
              "      <td>I-77 N</td>\n",
              "      <td>R</td>\n",
              "      <td>Akron</td>\n",
              "      <td>Summit</td>\n",
              "      <td>OH</td>\n",
              "      <td>44311</td>\n",
              "      <td>US</td>\n",
              "      <td>US/Eastern</td>\n",
              "      <td>KAKR</td>\n",
              "      <td>2016-02-08 06:54:00</td>\n",
              "      <td>39.0</td>\n",
              "      <td>NaN</td>\n",
              "      <td>55.0</td>\n",
              "      <td>29.65</td>\n",
              "      <td>10.0</td>\n",
              "      <td>Calm</td>\n",
              "      <td>NaN</td>\n",
              "      <td>NaN</td>\n",
              "      <td>Overcast</td>\n",
              "      <td>False</td>\n",
              "      <td>False</td>\n",
              "      <td>False</td>\n",
              "      <td>False</td>\n",
              "      <td>False</td>\n",
              "      <td>False</td>\n",
              "      <td>False</td>\n",
              "      <td>False</td>\n",
              "      <td>False</td>\n",
              "      <td>False</td>\n",
              "      <td>False</td>\n",
              "      <td>False</td>\n",
              "      <td>False</td>\n",
              "      <td>Night</td>\n",
              "      <td>Night</td>\n",
              "      <td>Day</td>\n",
              "      <td>Day</td>\n",
              "    </tr>\n",
              "    <tr>\n",
              "      <th>4</th>\n",
              "      <td>A-5</td>\n",
              "      <td>3</td>\n",
              "      <td>2016-02-08 07:53:43</td>\n",
              "      <td>2016-02-08 13:53:43</td>\n",
              "      <td>39.172393</td>\n",
              "      <td>-84.492792</td>\n",
              "      <td>39.170476</td>\n",
              "      <td>-84.501798</td>\n",
              "      <td>0.500</td>\n",
              "      <td>At Mitchell Ave/Exit 6 - Accident.</td>\n",
              "      <td>NaN</td>\n",
              "      <td>I-75 S</td>\n",
              "      <td>R</td>\n",
              "      <td>Cincinnati</td>\n",
              "      <td>Hamilton</td>\n",
              "      <td>OH</td>\n",
              "      <td>45217</td>\n",
              "      <td>US</td>\n",
              "      <td>US/Eastern</td>\n",
              "      <td>KLUK</td>\n",
              "      <td>2016-02-08 07:53:00</td>\n",
              "      <td>37.0</td>\n",
              "      <td>29.8</td>\n",
              "      <td>93.0</td>\n",
              "      <td>29.69</td>\n",
              "      <td>10.0</td>\n",
              "      <td>WSW</td>\n",
              "      <td>10.4</td>\n",
              "      <td>0.01</td>\n",
              "      <td>Light Rain</td>\n",
              "      <td>False</td>\n",
              "      <td>False</td>\n",
              "      <td>False</td>\n",
              "      <td>False</td>\n",
              "      <td>False</td>\n",
              "      <td>False</td>\n",
              "      <td>False</td>\n",
              "      <td>False</td>\n",
              "      <td>False</td>\n",
              "      <td>False</td>\n",
              "      <td>False</td>\n",
              "      <td>False</td>\n",
              "      <td>False</td>\n",
              "      <td>Day</td>\n",
              "      <td>Day</td>\n",
              "      <td>Day</td>\n",
              "      <td>Day</td>\n",
              "    </tr>\n",
              "  </tbody>\n",
              "</table>\n",
              "</div>"
            ],
            "text/plain": [
              "    ID  Severity           Start_Time             End_Time  Start_Lat  \\\n",
              "0  A-1         3  2016-02-08 00:37:08  2016-02-08 06:37:08  40.108910   \n",
              "1  A-2         2  2016-02-08 05:56:20  2016-02-08 11:56:20  39.865420   \n",
              "2  A-3         2  2016-02-08 06:15:39  2016-02-08 12:15:39  39.102660   \n",
              "3  A-4         2  2016-02-08 06:51:45  2016-02-08 12:51:45  41.062130   \n",
              "4  A-5         3  2016-02-08 07:53:43  2016-02-08 13:53:43  39.172393   \n",
              "\n",
              "   Start_Lng    End_Lat    End_Lng  Distance(mi)  \\\n",
              "0 -83.092860  40.112060 -83.031870         3.230   \n",
              "1 -84.062800  39.865010 -84.048730         0.747   \n",
              "2 -84.524680  39.102090 -84.523960         0.055   \n",
              "3 -81.537840  41.062170 -81.535470         0.123   \n",
              "4 -84.492792  39.170476 -84.501798         0.500   \n",
              "\n",
              "                                         Description  Number       Street  \\\n",
              "0  Between Sawmill Rd/Exit 20 and OH-315/Olentang...     NaN  Outerbelt E   \n",
              "1                 At OH-4/OH-235/Exit 41 - Accident.     NaN       I-70 E   \n",
              "2                   At I-71/US-50/Exit 1 - Accident.     NaN       I-75 S   \n",
              "3                    At Dart Ave/Exit 21 - Accident.     NaN       I-77 N   \n",
              "4                 At Mitchell Ave/Exit 6 - Accident.     NaN       I-75 S   \n",
              "\n",
              "  Side        City      County State Zipcode Country    Timezone Airport_Code  \\\n",
              "0    R      Dublin    Franklin    OH   43017      US  US/Eastern         KOSU   \n",
              "1    R      Dayton  Montgomery    OH   45424      US  US/Eastern         KFFO   \n",
              "2    R  Cincinnati    Hamilton    OH   45203      US  US/Eastern         KLUK   \n",
              "3    R       Akron      Summit    OH   44311      US  US/Eastern         KAKR   \n",
              "4    R  Cincinnati    Hamilton    OH   45217      US  US/Eastern         KLUK   \n",
              "\n",
              "     Weather_Timestamp  Temperature(F)  Wind_Chill(F)  Humidity(%)  \\\n",
              "0  2016-02-08 00:53:00            42.1           36.1         58.0   \n",
              "1  2016-02-08 05:58:00            36.9            NaN         91.0   \n",
              "2  2016-02-08 05:53:00            36.0            NaN         97.0   \n",
              "3  2016-02-08 06:54:00            39.0            NaN         55.0   \n",
              "4  2016-02-08 07:53:00            37.0           29.8         93.0   \n",
              "\n",
              "   Pressure(in)  Visibility(mi) Wind_Direction  Wind_Speed(mph)  \\\n",
              "0         29.76            10.0             SW             10.4   \n",
              "1         29.68            10.0           Calm              NaN   \n",
              "2         29.70            10.0           Calm              NaN   \n",
              "3         29.65            10.0           Calm              NaN   \n",
              "4         29.69            10.0            WSW             10.4   \n",
              "\n",
              "   Precipitation(in) Weather_Condition  Amenity   Bump  Crossing  Give_Way  \\\n",
              "0               0.00        Light Rain    False  False     False     False   \n",
              "1               0.02        Light Rain    False  False     False     False   \n",
              "2               0.02          Overcast    False  False     False     False   \n",
              "3                NaN          Overcast    False  False     False     False   \n",
              "4               0.01        Light Rain    False  False     False     False   \n",
              "\n",
              "   Junction  No_Exit  Railway  Roundabout  Station   Stop  Traffic_Calming  \\\n",
              "0     False    False    False       False    False  False            False   \n",
              "1     False    False    False       False    False  False            False   \n",
              "2      True    False    False       False    False  False            False   \n",
              "3     False    False    False       False    False  False            False   \n",
              "4     False    False    False       False    False  False            False   \n",
              "\n",
              "   Traffic_Signal  Turning_Loop Sunrise_Sunset Civil_Twilight  \\\n",
              "0           False         False          Night          Night   \n",
              "1           False         False          Night          Night   \n",
              "2           False         False          Night          Night   \n",
              "3           False         False          Night          Night   \n",
              "4           False         False            Day            Day   \n",
              "\n",
              "  Nautical_Twilight Astronomical_Twilight  \n",
              "0             Night                 Night  \n",
              "1             Night                 Night  \n",
              "2             Night                   Day  \n",
              "3               Day                   Day  \n",
              "4               Day                   Day  "
            ]
          },
          "execution_count": 3,
          "metadata": {},
          "output_type": "execute_result"
        }
      ],
      "source": [
        "data.head()"
      ]
    },
    {
      "cell_type": "code",
      "execution_count": 4,
      "metadata": {
        "id": "9BHgYBNliqDr",
        "vscode": {
          "languageId": "python"
        }
      },
      "outputs": [],
      "source": [
        "data['Grado_Severidad'] = [1 if (x==1 or x==2) else 0 for x in data['Severity']]"
      ]
    },
    {
      "cell_type": "code",
      "execution_count": 5,
      "metadata": {
        "id": "GxD84i-miqDs",
        "outputId": "4f5ed958-c77c-4e15-ec0d-e13186a93394",
        "vscode": {
          "languageId": "python"
        }
      },
      "outputs": [
        {
          "data": {
            "text/plain": [
              "(2845342, 48)"
            ]
          },
          "execution_count": 5,
          "metadata": {},
          "output_type": "execute_result"
        }
      ],
      "source": [
        "data.shape"
      ]
    },
    {
      "cell_type": "code",
      "execution_count": 6,
      "metadata": {
        "id": "kra1ThZuiqDt",
        "outputId": "7155baf7-327b-405e-a6e8-e973d7ea0605",
        "vscode": {
          "languageId": "python"
        }
      },
      "outputs": [
        {
          "data": {
            "text/plain": [
              "ID                             0\n",
              "Severity                       0\n",
              "Start_Time                     0\n",
              "End_Time                       0\n",
              "Start_Lat                      0\n",
              "Start_Lng                      0\n",
              "End_Lat                        0\n",
              "End_Lng                        0\n",
              "Distance(mi)                   0\n",
              "Description                    0\n",
              "Number                   1743911\n",
              "Street                         2\n",
              "Side                           0\n",
              "City                         137\n",
              "County                         0\n",
              "State                          0\n",
              "Zipcode                     1319\n",
              "Country                        0\n",
              "Timezone                    3659\n",
              "Airport_Code                9549\n",
              "Weather_Timestamp          50736\n",
              "Temperature(F)             69274\n",
              "Wind_Chill(F)             469643\n",
              "Humidity(%)                73092\n",
              "Pressure(in)               59200\n",
              "Visibility(mi)             70546\n",
              "Wind_Direction             73775\n",
              "Wind_Speed(mph)           157944\n",
              "Precipitation(in)         549458\n",
              "Weather_Condition          70636\n",
              "Amenity                        0\n",
              "Bump                           0\n",
              "Crossing                       0\n",
              "Give_Way                       0\n",
              "Junction                       0\n",
              "No_Exit                        0\n",
              "Railway                        0\n",
              "Roundabout                     0\n",
              "Station                        0\n",
              "Stop                           0\n",
              "Traffic_Calming                0\n",
              "Traffic_Signal                 0\n",
              "Turning_Loop                   0\n",
              "Sunrise_Sunset              2867\n",
              "Civil_Twilight              2867\n",
              "Nautical_Twilight           2867\n",
              "Astronomical_Twilight       2867\n",
              "Grado_Severidad                0\n",
              "dtype: int64"
            ]
          },
          "execution_count": 6,
          "metadata": {},
          "output_type": "execute_result"
        }
      ],
      "source": [
        "data.isna().sum()"
      ]
    },
    {
      "cell_type": "code",
      "execution_count": 7,
      "metadata": {
        "id": "ZD3VIrj-iqDt",
        "vscode": {
          "languageId": "python"
        }
      },
      "outputs": [],
      "source": [
        "data.drop(['Number', 'Country', 'Amenity'], axis= 1, inplace= True)\n",
        "data.dropna(subset= ['Zipcode', 'Sunrise_Sunset',\n",
        "                    'Civil_Twilight', 'Nautical_Twilight', 'Astronomical_Twilight'], axis=0, inplace=True)"
      ]
    },
    {
      "cell_type": "code",
      "execution_count": 8,
      "metadata": {
        "id": "Ey7Gu1gRiqDu",
        "outputId": "d1dcaaa8-46fe-4430-e15a-d71741508e5f",
        "vscode": {
          "languageId": "python"
        }
      },
      "outputs": [
        {
          "data": {
            "text/plain": [
              "Index(['ID', 'Severity', 'Start_Time', 'End_Time', 'Start_Lat', 'Start_Lng',\n",
              "       'End_Lat', 'End_Lng', 'Distance(mi)', 'Description', 'Street', 'Side',\n",
              "       'City', 'County', 'State', 'Zipcode', 'Timezone', 'Airport_Code',\n",
              "       'Weather_Timestamp', 'Temperature(F)', 'Wind_Chill(F)', 'Humidity(%)',\n",
              "       'Pressure(in)', 'Visibility(mi)', 'Wind_Direction', 'Wind_Speed(mph)',\n",
              "       'Precipitation(in)', 'Weather_Condition', 'Bump', 'Crossing',\n",
              "       'Give_Way', 'Junction', 'No_Exit', 'Railway', 'Roundabout', 'Station',\n",
              "       'Stop', 'Traffic_Calming', 'Traffic_Signal', 'Turning_Loop',\n",
              "       'Sunrise_Sunset', 'Civil_Twilight', 'Nautical_Twilight',\n",
              "       'Astronomical_Twilight', 'Grado_Severidad'],\n",
              "      dtype='object')"
            ]
          },
          "execution_count": 8,
          "metadata": {},
          "output_type": "execute_result"
        }
      ],
      "source": [
        "data.columns"
      ]
    },
    {
      "cell_type": "code",
      "execution_count": 9,
      "metadata": {
        "id": "mti-LvXtiqDv",
        "vscode": {
          "languageId": "python"
        }
      },
      "outputs": [],
      "source": [
        "um = ['ID']\n",
        "trgt = ['Grado_Severidad']\n",
        "\n",
        "cont_var = ['Distance(mi)', 'Temperature(F)', 'Wind_Chill(F)', 'Humidity(%)',\n",
        "       'Pressure(in)', 'Visibility(mi)', 'Wind_Speed(mph)', 'Precipitation(in)']\n",
        "\n",
        "cat_var = ['City','State' ,'Zipcode', 'Timezone', 'Airport_Code',\n",
        "            'Wind_Direction', 'Weather_Condition','Sunrise_Sunset',\n",
        "            'Civil_Twilight', 'Nautical_Twilight', 'Astronomical_Twilight']\n",
        "\n",
        "\n",
        "bin_var = ['Bump', 'Crossing', 'Give_Way', 'Junction',\n",
        "            'No_Exit', 'Railway', 'Roundabout', 'Station',\n",
        "            'Stop', 'Traffic_Calming', 'Traffic_Signal', 'Turning_Loop']"
      ]
    },
    {
      "cell_type": "markdown",
      "metadata": {
        "id": "oTycYybTiqDw"
      },
      "source": [
        "## Imputaciones"
      ]
    },
    {
      "cell_type": "code",
      "execution_count": 10,
      "metadata": {
        "id": "XAas6IJAiqDw",
        "vscode": {
          "languageId": "python"
        }
      },
      "outputs": [],
      "source": [
        "from sklearn.impute import SimpleImputer\n",
        "\n",
        "for col in cont_var:\n",
        "    data[col] = SimpleImputer(strategy= 'mean').fit_transform(data[[col]])"
      ]
    },
    {
      "cell_type": "code",
      "execution_count": 11,
      "metadata": {
        "id": "t-XsvkUCiqDx",
        "outputId": "8a6423b5-80b3-4658-f34c-33fbc382ffbd",
        "vscode": {
          "languageId": "python"
        }
      },
      "outputs": [
        {
          "name": "stdout",
          "output_type": "stream",
          "text": [
            "City\n",
            "State\n",
            "Zipcode\n",
            "Timezone\n",
            "Airport_Code\n",
            "Wind_Direction\n",
            "Weather_Condition\n",
            "Sunrise_Sunset\n",
            "Civil_Twilight\n",
            "Nautical_Twilight\n",
            "Astronomical_Twilight\n"
          ]
        }
      ],
      "source": [
        "for col in cat_var:\n",
        "    print(col)\n",
        "    data[col] = SimpleImputer(strategy= 'most_frequent').fit_transform(data[[col]])"
      ]
    },
    {
      "cell_type": "code",
      "execution_count": 12,
      "metadata": {
        "id": "NLQZ--5QiqDx",
        "vscode": {
          "languageId": "python"
        }
      },
      "outputs": [],
      "source": [
        "data.dropna(subset= bin_var, axis=0, inplace= True)"
      ]
    },
    {
      "cell_type": "code",
      "execution_count": 13,
      "metadata": {
        "id": "HJuKppZ9iqDy",
        "vscode": {
          "languageId": "python"
        }
      },
      "outputs": [],
      "source": [
        "data.sample(frac= 0.02).to_csv('data/data_clean.csv', index= False)"
      ]
    },
    {
      "cell_type": "markdown",
      "metadata": {
        "id": "Lhtc0Q0EiqDy"
      },
      "source": [
        "### Normalización discreta"
      ]
    },
    {
      "cell_type": "code",
      "execution_count": 14,
      "metadata": {
        "id": "owKjaMZSiqDz",
        "vscode": {
          "languageId": "python"
        }
      },
      "outputs": [],
      "source": [
        "def normalizar(df,v,umbral):\n",
        "    aux = df[v].value_counts(True).to_frame()\n",
        "    aux[f'n_{v}'] = np.where( aux[v] < umbral , 'Otro' , aux.index )\n",
        "\n",
        "    moda = aux.head(1)[f'n_{v}'].values[0]\n",
        "\n",
        "    if aux.loc[aux[f'n_{v}'] == 'Otro' ][v].sum() < umbral:\n",
        "        aux[f'n_{v}'].replace( {'Otro':moda} , inplace=True)\n",
        "\n",
        "    aux.drop(v, axis=1, inplace=True)\n",
        "    aux.reset_index(inplace=True)\n",
        "\n",
        "    return df.merge(aux,left_on=[v], right_on='index', how='inner').drop('index',axis=1)"
      ]
    },
    {
      "cell_type": "code",
      "execution_count": 15,
      "metadata": {
        "id": "Hkfwn1NBiqD0",
        "vscode": {
          "languageId": "python"
        }
      },
      "outputs": [],
      "source": [
        "for v in cat_var:\n",
        "    data = normalizar(data,v,0.05)\n",
        "\n",
        "for v in bin_var:\n",
        "    data = normalizar(data,v,0.05)\n"
      ]
    },
    {
      "cell_type": "code",
      "execution_count": 16,
      "metadata": {
        "id": "iHqgcx4riqD0",
        "outputId": "a39cec19-bab7-46eb-d976-5d7c46b0a178",
        "vscode": {
          "languageId": "python"
        }
      },
      "outputs": [
        {
          "data": {
            "text/plain": [
              "['n_City',\n",
              " 'n_State',\n",
              " 'n_Zipcode',\n",
              " 'n_Timezone',\n",
              " 'n_Airport_Code',\n",
              " 'n_Wind_Direction',\n",
              " 'n_Weather_Condition',\n",
              " 'n_Sunrise_Sunset',\n",
              " 'n_Civil_Twilight',\n",
              " 'n_Nautical_Twilight',\n",
              " 'n_Astronomical_Twilight',\n",
              " 'n_Bump',\n",
              " 'n_Crossing',\n",
              " 'n_Give_Way',\n",
              " 'n_Junction',\n",
              " 'n_No_Exit',\n",
              " 'n_Railway',\n",
              " 'n_Roundabout',\n",
              " 'n_Station',\n",
              " 'n_Stop',\n",
              " 'n_Traffic_Calming',\n",
              " 'n_Traffic_Signal',\n",
              " 'n_Turning_Loop']"
            ]
          },
          "execution_count": 16,
          "metadata": {},
          "output_type": "execute_result"
        }
      ],
      "source": [
        "varn = [x for x in data.columns if x[0:2] == 'n_']\n",
        "varn"
      ]
    },
    {
      "cell_type": "code",
      "execution_count": 17,
      "metadata": {
        "id": "uApKIWmxiqD1",
        "outputId": "fcb1c9b6-1f7d-4add-be3d-002f039d23ce",
        "vscode": {
          "languageId": "python"
        }
      },
      "outputs": [
        {
          "data": {
            "text/plain": [
              "['n_City',\n",
              " 'n_Zipcode',\n",
              " 'n_Airport_Code',\n",
              " 'n_Bump',\n",
              " 'n_Give_Way',\n",
              " 'n_No_Exit',\n",
              " 'n_Railway',\n",
              " 'n_Roundabout',\n",
              " 'n_Station',\n",
              " 'n_Stop',\n",
              " 'n_Traffic_Calming',\n",
              " 'n_Turning_Loop']"
            ]
          },
          "execution_count": 17,
          "metadata": {},
          "output_type": "execute_result"
        }
      ],
      "source": [
        "unarias = [v for v,conteo in zip( varn , [data[v].unique().shape[0] for v in varn] ) if conteo == 1]\n",
        "varn = [v for v in varn  if v not in unarias]\n",
        "unarias"
      ]
    },
    {
      "cell_type": "markdown",
      "metadata": {
        "id": "ixfwPmA6iqD1"
      },
      "source": [
        "## Normalización Continua"
      ]
    },
    {
      "cell_type": "code",
      "execution_count": 18,
      "metadata": {
        "id": "3PMDpe6HiqD2",
        "vscode": {
          "languageId": "python"
        }
      },
      "outputs": [],
      "source": [
        "from sklearn.preprocessing import KBinsDiscretizer\n",
        "\n",
        "def discretizar(df, v, k):\n",
        "\n",
        "    kb = KBinsDiscretizer( n_bins = k , encode='ordinal', strategy='quantile')\n",
        "    kb.fit(df[[v]])\n",
        "    df[f'd_{v}_{k}'] = pd.cut( df[v] , bins=kb.bin_edges_[0] , include_lowest=True ).astype(str)\n",
        "\n",
        "    return df"
      ]
    },
    {
      "cell_type": "code",
      "execution_count": 19,
      "metadata": {
        "id": "Gbt1iDoHiqD2",
        "outputId": "335907bb-2080-4d5c-e2fb-e79e9f62eb38",
        "vscode": {
          "languageId": "python"
        }
      },
      "outputs": [
        {
          "name": "stderr",
          "output_type": "stream",
          "text": [
            "/home/eacs/entornos_virtuales/dcd_env/lib/python3.10/site-packages/sklearn/preprocessing/_discretization.py:209: FutureWarning: In version 1.3 onwards, subsample=2e5 will be used by default. Set subsample explicitly to silence this warning in the mean time. Set subsample=None to disable subsampling explicitly.\n",
            "  warnings.warn(\n",
            "/home/eacs/entornos_virtuales/dcd_env/lib/python3.10/site-packages/sklearn/preprocessing/_discretization.py:209: FutureWarning: In version 1.3 onwards, subsample=2e5 will be used by default. Set subsample explicitly to silence this warning in the mean time. Set subsample=None to disable subsampling explicitly.\n",
            "  warnings.warn(\n",
            "/home/eacs/entornos_virtuales/dcd_env/lib/python3.10/site-packages/sklearn/preprocessing/_discretization.py:209: FutureWarning: In version 1.3 onwards, subsample=2e5 will be used by default. Set subsample explicitly to silence this warning in the mean time. Set subsample=None to disable subsampling explicitly.\n",
            "  warnings.warn(\n",
            "/home/eacs/entornos_virtuales/dcd_env/lib/python3.10/site-packages/sklearn/preprocessing/_discretization.py:209: FutureWarning: In version 1.3 onwards, subsample=2e5 will be used by default. Set subsample explicitly to silence this warning in the mean time. Set subsample=None to disable subsampling explicitly.\n",
            "  warnings.warn(\n",
            "/home/eacs/entornos_virtuales/dcd_env/lib/python3.10/site-packages/sklearn/preprocessing/_discretization.py:209: FutureWarning: In version 1.3 onwards, subsample=2e5 will be used by default. Set subsample explicitly to silence this warning in the mean time. Set subsample=None to disable subsampling explicitly.\n",
            "  warnings.warn(\n",
            "/home/eacs/entornos_virtuales/dcd_env/lib/python3.10/site-packages/sklearn/preprocessing/_discretization.py:209: FutureWarning: In version 1.3 onwards, subsample=2e5 will be used by default. Set subsample explicitly to silence this warning in the mean time. Set subsample=None to disable subsampling explicitly.\n",
            "  warnings.warn(\n",
            "/home/eacs/entornos_virtuales/dcd_env/lib/python3.10/site-packages/sklearn/preprocessing/_discretization.py:209: FutureWarning: In version 1.3 onwards, subsample=2e5 will be used by default. Set subsample explicitly to silence this warning in the mean time. Set subsample=None to disable subsampling explicitly.\n",
            "  warnings.warn(\n",
            "/home/eacs/entornos_virtuales/dcd_env/lib/python3.10/site-packages/sklearn/preprocessing/_discretization.py:209: FutureWarning: In version 1.3 onwards, subsample=2e5 will be used by default. Set subsample explicitly to silence this warning in the mean time. Set subsample=None to disable subsampling explicitly.\n",
            "  warnings.warn(\n",
            "/home/eacs/entornos_virtuales/dcd_env/lib/python3.10/site-packages/sklearn/preprocessing/_discretization.py:209: FutureWarning: In version 1.3 onwards, subsample=2e5 will be used by default. Set subsample explicitly to silence this warning in the mean time. Set subsample=None to disable subsampling explicitly.\n",
            "  warnings.warn(\n",
            "/home/eacs/entornos_virtuales/dcd_env/lib/python3.10/site-packages/sklearn/preprocessing/_discretization.py:209: FutureWarning: In version 1.3 onwards, subsample=2e5 will be used by default. Set subsample explicitly to silence this warning in the mean time. Set subsample=None to disable subsampling explicitly.\n",
            "  warnings.warn(\n",
            "/home/eacs/entornos_virtuales/dcd_env/lib/python3.10/site-packages/sklearn/preprocessing/_discretization.py:209: FutureWarning: In version 1.3 onwards, subsample=2e5 will be used by default. Set subsample explicitly to silence this warning in the mean time. Set subsample=None to disable subsampling explicitly.\n",
            "  warnings.warn(\n",
            "/home/eacs/entornos_virtuales/dcd_env/lib/python3.10/site-packages/sklearn/preprocessing/_discretization.py:209: FutureWarning: In version 1.3 onwards, subsample=2e5 will be used by default. Set subsample explicitly to silence this warning in the mean time. Set subsample=None to disable subsampling explicitly.\n",
            "  warnings.warn(\n",
            "/home/eacs/entornos_virtuales/dcd_env/lib/python3.10/site-packages/sklearn/preprocessing/_discretization.py:209: FutureWarning: In version 1.3 onwards, subsample=2e5 will be used by default. Set subsample explicitly to silence this warning in the mean time. Set subsample=None to disable subsampling explicitly.\n",
            "  warnings.warn(\n",
            "/home/eacs/entornos_virtuales/dcd_env/lib/python3.10/site-packages/sklearn/preprocessing/_discretization.py:209: FutureWarning: In version 1.3 onwards, subsample=2e5 will be used by default. Set subsample explicitly to silence this warning in the mean time. Set subsample=None to disable subsampling explicitly.\n",
            "  warnings.warn(\n",
            "/home/eacs/entornos_virtuales/dcd_env/lib/python3.10/site-packages/sklearn/preprocessing/_discretization.py:209: FutureWarning: In version 1.3 onwards, subsample=2e5 will be used by default. Set subsample explicitly to silence this warning in the mean time. Set subsample=None to disable subsampling explicitly.\n",
            "  warnings.warn(\n",
            "/home/eacs/entornos_virtuales/dcd_env/lib/python3.10/site-packages/sklearn/preprocessing/_discretization.py:209: FutureWarning: In version 1.3 onwards, subsample=2e5 will be used by default. Set subsample explicitly to silence this warning in the mean time. Set subsample=None to disable subsampling explicitly.\n",
            "  warnings.warn(\n",
            "/home/eacs/entornos_virtuales/dcd_env/lib/python3.10/site-packages/sklearn/preprocessing/_discretization.py:209: FutureWarning: In version 1.3 onwards, subsample=2e5 will be used by default. Set subsample explicitly to silence this warning in the mean time. Set subsample=None to disable subsampling explicitly.\n",
            "  warnings.warn(\n",
            "/home/eacs/entornos_virtuales/dcd_env/lib/python3.10/site-packages/sklearn/preprocessing/_discretization.py:291: UserWarning: Bins whose width are too small (i.e., <= 1e-8) in feature 0 are removed. Consider decreasing the number of bins.\n",
            "  warnings.warn(\n",
            "/home/eacs/entornos_virtuales/dcd_env/lib/python3.10/site-packages/sklearn/preprocessing/_discretization.py:209: FutureWarning: In version 1.3 onwards, subsample=2e5 will be used by default. Set subsample explicitly to silence this warning in the mean time. Set subsample=None to disable subsampling explicitly.\n",
            "  warnings.warn(\n",
            "/home/eacs/entornos_virtuales/dcd_env/lib/python3.10/site-packages/sklearn/preprocessing/_discretization.py:291: UserWarning: Bins whose width are too small (i.e., <= 1e-8) in feature 0 are removed. Consider decreasing the number of bins.\n",
            "  warnings.warn(\n",
            "/home/eacs/entornos_virtuales/dcd_env/lib/python3.10/site-packages/sklearn/preprocessing/_discretization.py:209: FutureWarning: In version 1.3 onwards, subsample=2e5 will be used by default. Set subsample explicitly to silence this warning in the mean time. Set subsample=None to disable subsampling explicitly.\n",
            "  warnings.warn(\n",
            "/home/eacs/entornos_virtuales/dcd_env/lib/python3.10/site-packages/sklearn/preprocessing/_discretization.py:209: FutureWarning: In version 1.3 onwards, subsample=2e5 will be used by default. Set subsample explicitly to silence this warning in the mean time. Set subsample=None to disable subsampling explicitly.\n",
            "  warnings.warn(\n",
            "/home/eacs/entornos_virtuales/dcd_env/lib/python3.10/site-packages/sklearn/preprocessing/_discretization.py:209: FutureWarning: In version 1.3 onwards, subsample=2e5 will be used by default. Set subsample explicitly to silence this warning in the mean time. Set subsample=None to disable subsampling explicitly.\n",
            "  warnings.warn(\n",
            "/home/eacs/entornos_virtuales/dcd_env/lib/python3.10/site-packages/sklearn/preprocessing/_discretization.py:209: FutureWarning: In version 1.3 onwards, subsample=2e5 will be used by default. Set subsample explicitly to silence this warning in the mean time. Set subsample=None to disable subsampling explicitly.\n",
            "  warnings.warn(\n",
            "/home/eacs/entornos_virtuales/dcd_env/lib/python3.10/site-packages/sklearn/preprocessing/_discretization.py:291: UserWarning: Bins whose width are too small (i.e., <= 1e-8) in feature 0 are removed. Consider decreasing the number of bins.\n",
            "  warnings.warn(\n",
            "/home/eacs/entornos_virtuales/dcd_env/lib/python3.10/site-packages/sklearn/preprocessing/_discretization.py:209: FutureWarning: In version 1.3 onwards, subsample=2e5 will be used by default. Set subsample explicitly to silence this warning in the mean time. Set subsample=None to disable subsampling explicitly.\n",
            "  warnings.warn(\n",
            "/home/eacs/entornos_virtuales/dcd_env/lib/python3.10/site-packages/sklearn/preprocessing/_discretization.py:291: UserWarning: Bins whose width are too small (i.e., <= 1e-8) in feature 0 are removed. Consider decreasing the number of bins.\n",
            "  warnings.warn(\n",
            "/home/eacs/entornos_virtuales/dcd_env/lib/python3.10/site-packages/sklearn/preprocessing/_discretization.py:209: FutureWarning: In version 1.3 onwards, subsample=2e5 will be used by default. Set subsample explicitly to silence this warning in the mean time. Set subsample=None to disable subsampling explicitly.\n",
            "  warnings.warn(\n",
            "/home/eacs/entornos_virtuales/dcd_env/lib/python3.10/site-packages/sklearn/preprocessing/_discretization.py:291: UserWarning: Bins whose width are too small (i.e., <= 1e-8) in feature 0 are removed. Consider decreasing the number of bins.\n",
            "  warnings.warn(\n"
          ]
        }
      ],
      "source": [
        "for v in cont_var:\n",
        "    for k in range(2,5):\n",
        "        data = discretizar(data, v, k)"
      ]
    },
    {
      "cell_type": "code",
      "execution_count": 20,
      "metadata": {
        "id": "ez_XAHlgiqD3",
        "outputId": "c2fed00a-4aee-4b77-cea4-7046a0bd4d59",
        "vscode": {
          "languageId": "python"
        }
      },
      "outputs": [
        {
          "data": {
            "text/plain": [
              "['d_Distance(mi)_2',\n",
              " 'd_Distance(mi)_3',\n",
              " 'd_Distance(mi)_4',\n",
              " 'd_Temperature(F)_2',\n",
              " 'd_Temperature(F)_3',\n",
              " 'd_Temperature(F)_4',\n",
              " 'd_Wind_Chill(F)_2',\n",
              " 'd_Wind_Chill(F)_3',\n",
              " 'd_Wind_Chill(F)_4',\n",
              " 'd_Humidity(%)_2',\n",
              " 'd_Humidity(%)_3',\n",
              " 'd_Humidity(%)_4',\n",
              " 'd_Pressure(in)_2',\n",
              " 'd_Pressure(in)_3',\n",
              " 'd_Pressure(in)_4',\n",
              " 'd_Visibility(mi)_2',\n",
              " 'd_Visibility(mi)_3',\n",
              " 'd_Visibility(mi)_4',\n",
              " 'd_Wind_Speed(mph)_2',\n",
              " 'd_Wind_Speed(mph)_3',\n",
              " 'd_Wind_Speed(mph)_4',\n",
              " 'd_Precipitation(in)_2',\n",
              " 'd_Precipitation(in)_3',\n",
              " 'd_Precipitation(in)_4']"
            ]
          },
          "execution_count": 20,
          "metadata": {},
          "output_type": "execute_result"
        }
      ],
      "source": [
        "vari =[x for x in data.columns if x[0:2] == 'd_']\n",
        "vari"
      ]
    },
    {
      "cell_type": "markdown",
      "metadata": {
        "id": "JhPzS1L3iqD3"
      },
      "source": [
        "## Information Value"
      ]
    },
    {
      "cell_type": "code",
      "execution_count": 21,
      "metadata": {
        "id": "syddFQ7xiqD4",
        "vscode": {
          "languageId": "python"
        }
      },
      "outputs": [],
      "source": [
        "def calculo_iv( df, v, tgt ):\n",
        "    aux = df.pivot_table( index = v, \n",
        "                         columns= tgt, \n",
        "                         values = um[0], \n",
        "                         aggfunc= 'count', \n",
        "                         fill_value=0 )\n",
        "\n",
        "    aux[list( range(2) ) ] = aux/aux.apply(np.sum)\n",
        "\n",
        "    aux['w'] = np.log( aux[0] / aux[1] )\n",
        "    aux['iv'] = (aux[0] - aux[1]) * aux['w']\n",
        "\n",
        "    return v, aux['iv'].sum()"
      ]
    },
    {
      "cell_type": "markdown",
      "metadata": {
        "id": "vhixu1KoiqD4"
      },
      "source": [
        "### Primera partcion IV"
      ]
    },
    {
      "cell_type": "code",
      "execution_count": 22,
      "metadata": {
        "id": "KLvWoeeNiqD5",
        "vscode": {
          "languageId": "python"
        }
      },
      "outputs": [],
      "source": [
        "from sklearn.model_selection import train_test_split\n",
        "\n",
        "Xt, Xv, yt, yv = train_test_split(data[vari + um], data[trgt + um])\n",
        "Xt = Xt.merge( yt , on=um, how='inner').reset_index(drop=True)"
      ]
    },
    {
      "cell_type": "code",
      "execution_count": 23,
      "metadata": {
        "id": "1c0rp60FiqD5",
        "vscode": {
          "languageId": "python"
        }
      },
      "outputs": [],
      "source": [
        "# iv de discretizadas -> vari\n",
        "iv = pd.DataFrame( map( lambda v: calculo_iv( data, v, trgt  ) , vari ) , \n",
        "                  columns=['variable','iv'] )\n",
        "\n",
        "iv['raiz'] = iv['variable'].map( lambda x: '_'.join(x.split('_')[1:2] ) )\n",
        "iv = iv.sort_values(by=['raiz','iv'],ascending=[1,0]).reset_index(drop=True)\n",
        "\n",
        "# Eliminación de ivs infs\n",
        "iv = iv.loc[iv['iv'] != np.inf].reset_index(drop=True)\n",
        "iv['id'] = iv.groupby('raiz').cumcount()+1\n",
        "iv = iv.loc[iv.id == 1]\n",
        "\n",
        "iv.drop(columns=['raiz','id'],inplace=True)"
      ]
    },
    {
      "cell_type": "code",
      "execution_count": 24,
      "metadata": {
        "id": "-JxPCdQ6iqD6",
        "outputId": "ab77ffaa-b2e1-407f-aabc-6d75cc7af714",
        "vscode": {
          "languageId": "python"
        }
      },
      "outputs": [
        {
          "data": {
            "text/plain": [
              "(7,\n",
              " ['d_Distance(mi)_4',\n",
              "  'd_Humidity(%)_4',\n",
              "  'd_Precipitation(in)_4',\n",
              "  'd_Pressure(in)_4',\n",
              "  'd_Temperature(F)_4',\n",
              "  'd_Visibility(mi)_2',\n",
              "  'd_Wind_Chill(F)_4'])"
            ]
          },
          "execution_count": 24,
          "metadata": {},
          "output_type": "execute_result"
        }
      ],
      "source": [
        "besti = iv['variable'].tolist()\n",
        "\n",
        "len(besti) , besti"
      ]
    },
    {
      "cell_type": "markdown",
      "metadata": {
        "id": "YfW3xTpOiqD6"
      },
      "source": [
        "## Segunda partición"
      ]
    },
    {
      "cell_type": "code",
      "execution_count": 25,
      "metadata": {
        "id": "CouBFhbeiqD6",
        "vscode": {
          "languageId": "python"
        }
      },
      "outputs": [],
      "source": [
        "Xt, Xv, yt, yv = train_test_split(data[besti+ varn + um], data[trgt + um])\n",
        "Xt = Xt.merge( yt , on=um, how='inner').reset_index(drop=True)"
      ]
    },
    {
      "cell_type": "code",
      "execution_count": 26,
      "metadata": {
        "id": "GB0K-D8FiqD7",
        "outputId": "07f1d2f3-8105-4419-eb83-8010c3bb2501",
        "vscode": {
          "languageId": "python"
        }
      },
      "outputs": [
        {
          "data": {
            "text/html": [
              "<div>\n",
              "<style scoped>\n",
              "    .dataframe tbody tr th:only-of-type {\n",
              "        vertical-align: middle;\n",
              "    }\n",
              "\n",
              "    .dataframe tbody tr th {\n",
              "        vertical-align: top;\n",
              "    }\n",
              "\n",
              "    .dataframe thead th {\n",
              "        text-align: right;\n",
              "    }\n",
              "</style>\n",
              "<table border=\"1\" class=\"dataframe\">\n",
              "  <thead>\n",
              "    <tr style=\"text-align: right;\">\n",
              "      <th></th>\n",
              "      <th>variable</th>\n",
              "      <th>iv</th>\n",
              "    </tr>\n",
              "  </thead>\n",
              "  <tbody>\n",
              "    <tr>\n",
              "      <th>10</th>\n",
              "      <td>n_Weather_Condition</td>\n",
              "      <td>0.465162</td>\n",
              "    </tr>\n",
              "    <tr>\n",
              "      <th>7</th>\n",
              "      <td>n_State</td>\n",
              "      <td>0.374976</td>\n",
              "    </tr>\n",
              "    <tr>\n",
              "      <th>6</th>\n",
              "      <td>d_Wind_Chill(F)_4</td>\n",
              "      <td>0.311861</td>\n",
              "    </tr>\n",
              "    <tr>\n",
              "      <th>8</th>\n",
              "      <td>n_Timezone</td>\n",
              "      <td>0.246926</td>\n",
              "    </tr>\n",
              "    <tr>\n",
              "      <th>9</th>\n",
              "      <td>n_Wind_Direction</td>\n",
              "      <td>0.144676</td>\n",
              "    </tr>\n",
              "    <tr>\n",
              "      <th>3</th>\n",
              "      <td>d_Pressure(in)_4</td>\n",
              "      <td>0.085742</td>\n",
              "    </tr>\n",
              "    <tr>\n",
              "      <th>0</th>\n",
              "      <td>d_Distance(mi)_4</td>\n",
              "      <td>0.083032</td>\n",
              "    </tr>\n",
              "    <tr>\n",
              "      <th>16</th>\n",
              "      <td>n_Junction</td>\n",
              "      <td>0.039360</td>\n",
              "    </tr>\n",
              "    <tr>\n",
              "      <th>5</th>\n",
              "      <td>d_Visibility(mi)_2</td>\n",
              "      <td>0.010992</td>\n",
              "    </tr>\n",
              "    <tr>\n",
              "      <th>4</th>\n",
              "      <td>d_Temperature(F)_4</td>\n",
              "      <td>0.009322</td>\n",
              "    </tr>\n",
              "    <tr>\n",
              "      <th>15</th>\n",
              "      <td>n_Crossing</td>\n",
              "      <td>0.005072</td>\n",
              "    </tr>\n",
              "    <tr>\n",
              "      <th>1</th>\n",
              "      <td>d_Humidity(%)_4</td>\n",
              "      <td>0.003589</td>\n",
              "    </tr>\n",
              "    <tr>\n",
              "      <th>17</th>\n",
              "      <td>n_Traffic_Signal</td>\n",
              "      <td>0.001843</td>\n",
              "    </tr>\n",
              "    <tr>\n",
              "      <th>2</th>\n",
              "      <td>d_Precipitation(in)_4</td>\n",
              "      <td>0.001069</td>\n",
              "    </tr>\n",
              "    <tr>\n",
              "      <th>12</th>\n",
              "      <td>n_Civil_Twilight</td>\n",
              "      <td>0.000165</td>\n",
              "    </tr>\n",
              "    <tr>\n",
              "      <th>11</th>\n",
              "      <td>n_Sunrise_Sunset</td>\n",
              "      <td>0.000161</td>\n",
              "    </tr>\n",
              "    <tr>\n",
              "      <th>14</th>\n",
              "      <td>n_Astronomical_Twilight</td>\n",
              "      <td>0.000111</td>\n",
              "    </tr>\n",
              "    <tr>\n",
              "      <th>13</th>\n",
              "      <td>n_Nautical_Twilight</td>\n",
              "      <td>0.000049</td>\n",
              "    </tr>\n",
              "  </tbody>\n",
              "</table>\n",
              "</div>"
            ],
            "text/plain": [
              "                   variable        iv\n",
              "10      n_Weather_Condition  0.465162\n",
              "7                   n_State  0.374976\n",
              "6         d_Wind_Chill(F)_4  0.311861\n",
              "8                n_Timezone  0.246926\n",
              "9          n_Wind_Direction  0.144676\n",
              "3          d_Pressure(in)_4  0.085742\n",
              "0          d_Distance(mi)_4  0.083032\n",
              "16               n_Junction  0.039360\n",
              "5        d_Visibility(mi)_2  0.010992\n",
              "4        d_Temperature(F)_4  0.009322\n",
              "15               n_Crossing  0.005072\n",
              "1           d_Humidity(%)_4  0.003589\n",
              "17         n_Traffic_Signal  0.001843\n",
              "2     d_Precipitation(in)_4  0.001069\n",
              "12         n_Civil_Twilight  0.000165\n",
              "11         n_Sunrise_Sunset  0.000161\n",
              "14  n_Astronomical_Twilight  0.000111\n",
              "13      n_Nautical_Twilight  0.000049"
            ]
          },
          "execution_count": 26,
          "metadata": {},
          "output_type": "execute_result"
        }
      ],
      "source": [
        "ivd = pd.DataFrame( map( lambda v: calculo_iv(data, v, trgt) , varn ) , \n",
        "                   columns=['variable','iv'] )\n",
        "\n",
        "iv = pd.concat([ iv, ivd ], ignore_index=True)\n",
        "iv.sort_values(by='iv',ascending=False)"
      ]
    },
    {
      "cell_type": "code",
      "execution_count": 27,
      "metadata": {
        "id": "5Y9BeiT1iqD7",
        "outputId": "54fc51b2-feec-45fd-b6ac-150c7bcf10e0",
        "vscode": {
          "languageId": "python"
        }
      },
      "outputs": [
        {
          "data": {
            "text/plain": [
              "['d_Distance(mi)_4',\n",
              " 'd_Humidity(%)_4',\n",
              " 'd_Precipitation(in)_4',\n",
              " 'd_Pressure(in)_4',\n",
              " 'd_Temperature(F)_4',\n",
              " 'd_Visibility(mi)_2',\n",
              " 'd_Wind_Chill(F)_4',\n",
              " 'n_State',\n",
              " 'n_Timezone',\n",
              " 'n_Wind_Direction',\n",
              " 'n_Weather_Condition',\n",
              " 'n_Sunrise_Sunset',\n",
              " 'n_Civil_Twilight',\n",
              " 'n_Nautical_Twilight',\n",
              " 'n_Astronomical_Twilight',\n",
              " 'n_Crossing',\n",
              " 'n_Junction',\n",
              " 'n_Traffic_Signal']"
            ]
          },
          "execution_count": 27,
          "metadata": {},
          "output_type": "execute_result"
        }
      ],
      "source": [
        "best = iv['variable'].tolist()\n",
        "best"
      ]
    },
    {
      "cell_type": "markdown",
      "metadata": {
        "id": "zTOAKgWUiqD8"
      },
      "source": [
        "## WOE"
      ]
    },
    {
      "cell_type": "code",
      "execution_count": 28,
      "metadata": {
        "id": "qqSjb8OgiqD8",
        "outputId": "0692e2a6-0527-48d9-fe5b-017bbce4d665",
        "vscode": {
          "languageId": "python"
        }
      },
      "outputs": [
        {
          "name": "stdout",
          "output_type": "stream",
          "text": [
            "(2130888, 19) (710297, 19) 2130888 710297\n"
          ]
        }
      ],
      "source": [
        "Xt, Xv, yt, yv = train_test_split(data[best + um], data[trgt + um])\n",
        "\n",
        "print(Xt.shape, Xv.shape, yt.shape[0], yv.shape[0])\n",
        "\n",
        "Xt = Xt.merge( yt , on=um, how='inner').reset_index(drop=True)\n",
        "Xv = Xv.merge( yv , on=um, how='inner').reset_index(drop=True)"
      ]
    },
    {
      "cell_type": "code",
      "execution_count": 29,
      "metadata": {
        "id": "Rt4f8VjwiqD9",
        "vscode": {
          "languageId": "python"
        }
      },
      "outputs": [],
      "source": [
        "def codificacion_woe(df, v, tgt):\n",
        "    aux = df.pivot_table( index=v,\n",
        "                          columns=tgt,\n",
        "                          values=um[0],\n",
        "                          aggfunc='count',\n",
        "                          fill_value=0)\n",
        "\n",
        "    aux[list( range(2) )] = aux / aux.apply(np.sum)\n",
        "\n",
        "    aux['w'] = np.log( aux[0] / aux[1] )\n",
        "\n",
        "    aux.drop(range(2) , axis=1 , inplace=True )\n",
        "\n",
        "    aux = aux.to_dict()['w']\n",
        "    \n",
        "    return v, aux"
      ]
    },
    {
      "cell_type": "code",
      "execution_count": 30,
      "metadata": {
        "id": "1XrRokz0iqD9",
        "vscode": {
          "languageId": "python"
        }
      },
      "outputs": [],
      "source": [
        "mapa_woe = list( map(  lambda v: codificacion_woe( Xt , v , trgt  ) , best  ) )"
      ]
    },
    {
      "cell_type": "code",
      "execution_count": 31,
      "metadata": {
        "id": "1GHI-pfFiqD9",
        "vscode": {
          "languageId": "python"
        }
      },
      "outputs": [],
      "source": [
        "for v, mapa in mapa_woe:\n",
        "    Xt[f'w_{v}'] = Xt[v].replace(mapa)\n",
        "    Xv[f'w_{v}'] = Xv[v].replace(mapa)"
      ]
    },
    {
      "cell_type": "markdown",
      "metadata": {
        "id": "jNBaD_kViqD-"
      },
      "source": [
        "## TAD"
      ]
    },
    {
      "cell_type": "code",
      "execution_count": 32,
      "metadata": {
        "id": "SdE3mz0OiqD-",
        "outputId": "159b1175-f1ff-4213-8622-eecf6b5d1bab",
        "vscode": {
          "languageId": "python"
        }
      },
      "outputs": [
        {
          "data": {
            "text/plain": [
              "['w_d_Distance(mi)_4',\n",
              " 'w_d_Humidity(%)_4',\n",
              " 'w_d_Precipitation(in)_4',\n",
              " 'w_d_Pressure(in)_4',\n",
              " 'w_d_Temperature(F)_4',\n",
              " 'w_d_Visibility(mi)_2',\n",
              " 'w_d_Wind_Chill(F)_4',\n",
              " 'w_n_State',\n",
              " 'w_n_Timezone',\n",
              " 'w_n_Wind_Direction',\n",
              " 'w_n_Weather_Condition',\n",
              " 'w_n_Sunrise_Sunset',\n",
              " 'w_n_Civil_Twilight',\n",
              " 'w_n_Nautical_Twilight',\n",
              " 'w_n_Astronomical_Twilight',\n",
              " 'w_n_Crossing',\n",
              " 'w_n_Junction',\n",
              " 'w_n_Traffic_Signal']"
            ]
          },
          "execution_count": 32,
          "metadata": {},
          "output_type": "execute_result"
        }
      ],
      "source": [
        "X_y = pd.concat([Xt, Xv], axis=0)\n",
        "woe_var = [x for x in X_y.columns if x[0:2]== 'w_']\n",
        "woe_var"
      ]
    },
    {
      "cell_type": "code",
      "execution_count": 33,
      "metadata": {
        "id": "A_YYCAgkiqD_",
        "outputId": "d7f04442-8bb2-4097-a572-5e81693b3b8a",
        "vscode": {
          "languageId": "python"
        }
      },
      "outputs": [
        {
          "data": {
            "text/html": [
              "<div>\n",
              "<style scoped>\n",
              "    .dataframe tbody tr th:only-of-type {\n",
              "        vertical-align: middle;\n",
              "    }\n",
              "\n",
              "    .dataframe tbody tr th {\n",
              "        vertical-align: top;\n",
              "    }\n",
              "\n",
              "    .dataframe thead th {\n",
              "        text-align: right;\n",
              "    }\n",
              "</style>\n",
              "<table border=\"1\" class=\"dataframe\">\n",
              "  <thead>\n",
              "    <tr style=\"text-align: right;\">\n",
              "      <th></th>\n",
              "      <th>ID</th>\n",
              "      <th>w_d_Distance(mi)_4</th>\n",
              "      <th>w_d_Humidity(%)_4</th>\n",
              "      <th>w_d_Precipitation(in)_4</th>\n",
              "      <th>w_d_Pressure(in)_4</th>\n",
              "      <th>w_d_Temperature(F)_4</th>\n",
              "      <th>w_d_Visibility(mi)_2</th>\n",
              "      <th>w_d_Wind_Chill(F)_4</th>\n",
              "      <th>w_n_State</th>\n",
              "      <th>w_n_Timezone</th>\n",
              "      <th>w_n_Wind_Direction</th>\n",
              "      <th>w_n_Weather_Condition</th>\n",
              "      <th>w_n_Sunrise_Sunset</th>\n",
              "      <th>w_n_Civil_Twilight</th>\n",
              "      <th>w_n_Nautical_Twilight</th>\n",
              "      <th>w_n_Astronomical_Twilight</th>\n",
              "      <th>w_n_Crossing</th>\n",
              "      <th>w_n_Junction</th>\n",
              "      <th>w_n_Traffic_Signal</th>\n",
              "      <th>Grado_Severidad</th>\n",
              "    </tr>\n",
              "  </thead>\n",
              "  <tbody>\n",
              "    <tr>\n",
              "      <th>0</th>\n",
              "      <td>A-2711161</td>\n",
              "      <td>0.304357</td>\n",
              "      <td>-0.041179</td>\n",
              "      <td>-0.009381</td>\n",
              "      <td>0.434682</td>\n",
              "      <td>-0.093710</td>\n",
              "      <td>-0.008541</td>\n",
              "      <td>0.661650</td>\n",
              "      <td>0.538922</td>\n",
              "      <td>0.499104</td>\n",
              "      <td>0.219077</td>\n",
              "      <td>1.427208</td>\n",
              "      <td>0.009465</td>\n",
              "      <td>0.009330</td>\n",
              "      <td>0.004848</td>\n",
              "      <td>0.006305</td>\n",
              "      <td>0.018538</td>\n",
              "      <td>-0.075899</td>\n",
              "      <td>-0.014128</td>\n",
              "      <td>1</td>\n",
              "    </tr>\n",
              "    <tr>\n",
              "      <th>1</th>\n",
              "      <td>A-2260722</td>\n",
              "      <td>-0.211098</td>\n",
              "      <td>-0.041179</td>\n",
              "      <td>-0.009381</td>\n",
              "      <td>-0.311177</td>\n",
              "      <td>0.153415</td>\n",
              "      <td>-0.008541</td>\n",
              "      <td>-0.031479</td>\n",
              "      <td>0.386269</td>\n",
              "      <td>0.499104</td>\n",
              "      <td>-0.684870</td>\n",
              "      <td>0.039008</td>\n",
              "      <td>0.009465</td>\n",
              "      <td>0.009330</td>\n",
              "      <td>0.004848</td>\n",
              "      <td>0.006305</td>\n",
              "      <td>0.018538</td>\n",
              "      <td>-0.075899</td>\n",
              "      <td>-0.014128</td>\n",
              "      <td>1</td>\n",
              "    </tr>\n",
              "    <tr>\n",
              "      <th>2</th>\n",
              "      <td>A-490423</td>\n",
              "      <td>-0.211098</td>\n",
              "      <td>-0.022934</td>\n",
              "      <td>-0.009381</td>\n",
              "      <td>0.434682</td>\n",
              "      <td>-0.020562</td>\n",
              "      <td>-0.008541</td>\n",
              "      <td>-0.640600</td>\n",
              "      <td>-0.707160</td>\n",
              "      <td>0.157924</td>\n",
              "      <td>0.219077</td>\n",
              "      <td>-0.743667</td>\n",
              "      <td>0.009465</td>\n",
              "      <td>0.009330</td>\n",
              "      <td>0.004848</td>\n",
              "      <td>0.006305</td>\n",
              "      <td>-0.275096</td>\n",
              "      <td>-0.075899</td>\n",
              "      <td>0.129823</td>\n",
              "      <td>1</td>\n",
              "    </tr>\n",
              "    <tr>\n",
              "      <th>3</th>\n",
              "      <td>A-2715321</td>\n",
              "      <td>-0.418466</td>\n",
              "      <td>0.102937</td>\n",
              "      <td>-0.009381</td>\n",
              "      <td>0.434682</td>\n",
              "      <td>0.153415</td>\n",
              "      <td>-0.008541</td>\n",
              "      <td>0.661650</td>\n",
              "      <td>-1.068925</td>\n",
              "      <td>-0.837820</td>\n",
              "      <td>0.219077</td>\n",
              "      <td>1.427208</td>\n",
              "      <td>-0.016825</td>\n",
              "      <td>-0.019943</td>\n",
              "      <td>-0.012942</td>\n",
              "      <td>0.006305</td>\n",
              "      <td>0.018538</td>\n",
              "      <td>-0.075899</td>\n",
              "      <td>-0.014128</td>\n",
              "      <td>1</td>\n",
              "    </tr>\n",
              "    <tr>\n",
              "      <th>4</th>\n",
              "      <td>A-1061876</td>\n",
              "      <td>-0.418466</td>\n",
              "      <td>-0.040394</td>\n",
              "      <td>-0.009381</td>\n",
              "      <td>-0.311177</td>\n",
              "      <td>0.153415</td>\n",
              "      <td>-0.008541</td>\n",
              "      <td>-0.031479</td>\n",
              "      <td>-1.068925</td>\n",
              "      <td>-0.837820</td>\n",
              "      <td>-0.766464</td>\n",
              "      <td>-0.743667</td>\n",
              "      <td>-0.016825</td>\n",
              "      <td>-0.019943</td>\n",
              "      <td>-0.012942</td>\n",
              "      <td>-0.020846</td>\n",
              "      <td>0.018538</td>\n",
              "      <td>-0.075899</td>\n",
              "      <td>-0.014128</td>\n",
              "      <td>1</td>\n",
              "    </tr>\n",
              "  </tbody>\n",
              "</table>\n",
              "</div>"
            ],
            "text/plain": [
              "          ID  w_d_Distance(mi)_4  w_d_Humidity(%)_4  w_d_Precipitation(in)_4  \\\n",
              "0  A-2711161            0.304357          -0.041179                -0.009381   \n",
              "1  A-2260722           -0.211098          -0.041179                -0.009381   \n",
              "2   A-490423           -0.211098          -0.022934                -0.009381   \n",
              "3  A-2715321           -0.418466           0.102937                -0.009381   \n",
              "4  A-1061876           -0.418466          -0.040394                -0.009381   \n",
              "\n",
              "   w_d_Pressure(in)_4  w_d_Temperature(F)_4  w_d_Visibility(mi)_2  \\\n",
              "0            0.434682             -0.093710             -0.008541   \n",
              "1           -0.311177              0.153415             -0.008541   \n",
              "2            0.434682             -0.020562             -0.008541   \n",
              "3            0.434682              0.153415             -0.008541   \n",
              "4           -0.311177              0.153415             -0.008541   \n",
              "\n",
              "   w_d_Wind_Chill(F)_4  w_n_State  w_n_Timezone  w_n_Wind_Direction  \\\n",
              "0             0.661650   0.538922      0.499104            0.219077   \n",
              "1            -0.031479   0.386269      0.499104           -0.684870   \n",
              "2            -0.640600  -0.707160      0.157924            0.219077   \n",
              "3             0.661650  -1.068925     -0.837820            0.219077   \n",
              "4            -0.031479  -1.068925     -0.837820           -0.766464   \n",
              "\n",
              "   w_n_Weather_Condition  w_n_Sunrise_Sunset  w_n_Civil_Twilight  \\\n",
              "0               1.427208            0.009465            0.009330   \n",
              "1               0.039008            0.009465            0.009330   \n",
              "2              -0.743667            0.009465            0.009330   \n",
              "3               1.427208           -0.016825           -0.019943   \n",
              "4              -0.743667           -0.016825           -0.019943   \n",
              "\n",
              "   w_n_Nautical_Twilight  w_n_Astronomical_Twilight  w_n_Crossing  \\\n",
              "0               0.004848                   0.006305      0.018538   \n",
              "1               0.004848                   0.006305      0.018538   \n",
              "2               0.004848                   0.006305     -0.275096   \n",
              "3              -0.012942                   0.006305      0.018538   \n",
              "4              -0.012942                  -0.020846      0.018538   \n",
              "\n",
              "   w_n_Junction  w_n_Traffic_Signal  Grado_Severidad  \n",
              "0     -0.075899           -0.014128                1  \n",
              "1     -0.075899           -0.014128                1  \n",
              "2     -0.075899            0.129823                1  \n",
              "3     -0.075899           -0.014128                1  \n",
              "4     -0.075899           -0.014128                1  "
            ]
          },
          "execution_count": 33,
          "metadata": {},
          "output_type": "execute_result"
        }
      ],
      "source": [
        "tad = X_y[um + woe_var + trgt]\n",
        "tad.head()"
      ]
    },
    {
      "attachments": {},
      "cell_type": "markdown",
      "metadata": {},
      "source": [
        "## Modelado de datos y preparación para modelado"
      ]
    },
    {
      "attachments": {},
      "cell_type": "markdown",
      "metadata": {},
      "source": [
        "Justificación:\n",
        "\n",
        "Una vez que tenemos los datos ya limpios y las variables seleccionadas con el uso de la prepación WoE podemos entoces tener modelos que puedan medir dentro de las condiciones climáticas junto con los datos de la zona poder decir si es que los accidentes de alta severidad son probables y con la nueva tecnología en autos tener alertas especiales de conducción si es que las probabilidades aumentaran.\n",
        "\n",
        "\n",
        "Para poder ver seleccionar las variables del modelo aparte de usar el IV vamos a probar los supuestos que nos permitirían modelar con el algoritmo de regresión logística."
      ]
    },
    {
      "attachments": {},
      "cell_type": "markdown",
      "metadata": {},
      "source": [
        "## Supuestos\n",
        "### 1.- Linealidad entre las variables predictoras y el target"
      ]
    },
    {
      "cell_type": "code",
      "execution_count": 34,
      "metadata": {
        "vscode": {
          "languageId": "python"
        }
      },
      "outputs": [],
      "source": [
        "for column in tad.columns[:-1]:\n",
        "    plt.scatter(tad[column], tad[\"Grado_Severidad\"])\n",
        "    plt.xlabel(column)\n",
        "    plt.ylabel(\"Grado_Severidad\")\n",
        "    plt.show()"
      ]
    },
    {
      "cell_type": "code",
      "execution_count": null,
      "metadata": {
        "vscode": {
          "languageId": "python"
        }
      },
      "outputs": [],
      "source": [
        "X = tad[woe_var].copy()\n",
        "y = tad['Grado_Severidad']"
      ]
    },
    {
      "cell_type": "code",
      "execution_count": null,
      "metadata": {
        "vscode": {
          "languageId": "python"
        }
      },
      "outputs": [
        {
          "data": {
            "text/plain": [
              "1    0.899468\n",
              "0    0.100532\n",
              "Name: Grado_Severidad, dtype: float64"
            ]
          },
          "execution_count": 35,
          "metadata": {},
          "output_type": "execute_result"
        }
      ],
      "source": [
        "y.value_counts(normalize = True)"
      ]
    },
    {
      "attachments": {},
      "cell_type": "markdown",
      "metadata": {},
      "source": [
        "Tenemos una clase desbalanceada pero para eso se pueden aplicar técnias de muestreo y en dimensiones"
      ]
    },
    {
      "cell_type": "code",
      "execution_count": null,
      "metadata": {
        "vscode": {
          "languageId": "python"
        }
      },
      "outputs": [],
      "source": [
        "Xt, Xv, yt, yv = train_test_split(X, y, train_size= 0.7, random_state= 0)"
      ]
    },
    {
      "attachments": {},
      "cell_type": "markdown",
      "metadata": {},
      "source": [
        "Ahora hacemos el submuestreo"
      ]
    },
    {
      "cell_type": "code",
      "execution_count": null,
      "metadata": {
        "vscode": {
          "languageId": "python"
        }
      },
      "outputs": [],
      "source": [
        "from imblearn.under_sampling import TomekLinks\n",
        "\n",
        "tomlinks = TomekLinks(sampling_strategy='auto', n_jobs= -1)\n",
        "\n",
        "Xt, yt = tomlinks.fit_resample(Xt, yt)"
      ]
    },
    {
      "cell_type": "code",
      "execution_count": null,
      "metadata": {
        "id": "LzdtpeEoiqD_",
        "vscode": {
          "languageId": "python"
        }
      },
      "outputs": [],
      "source": [
        "from sklearn.linear_model import LogisticRegression\n",
        "\n",
        "logreg = LogisticRegression(max_iter= 10_000)"
      ]
    },
    {
      "cell_type": "code",
      "execution_count": null,
      "metadata": {
        "vscode": {
          "languageId": "python"
        }
      },
      "outputs": [],
      "source": [
        "logreg.fit(Xt,yt)\n",
        "predicted = logreg.predict(Xv)"
      ]
    },
    {
      "cell_type": "code",
      "execution_count": null,
      "metadata": {
        "vscode": {
          "languageId": "python"
        }
      },
      "outputs": [],
      "source": [
        "from sklearn.metrics import classification_report, f1_score, recall_score, precision_recall_curve, accuracy_score"
      ]
    },
    {
      "cell_type": "code",
      "execution_count": null,
      "metadata": {
        "vscode": {
          "languageId": "python"
        }
      },
      "outputs": [],
      "source": [
        "print(classification_report(yv, predicted))"
      ]
    },
    {
      "cell_type": "code",
      "execution_count": null,
      "metadata": {
        "vscode": {
          "languageId": "python"
        }
      },
      "outputs": [],
      "source": [
        "print(f'Accuracy: {accuracy_score(y_true= yv, y_pred= predicted)}')\n",
        "print(f'Recall: {recall_score(y_true= yv, y_pred= predicted)}')\n",
        "print(f'F1_score: {f1_score(y_true= yv, y_pred= predicted)}')"
      ]
    },
    {
      "cell_type": "code",
      "execution_count": null,
      "metadata": {
        "vscode": {
          "languageId": "python"
        }
      },
      "outputs": [],
      "source": [
        "importances = np.abs(logreg.coef_[0])\n",
        "\n",
        "# plot the feature importances\n",
        "plt.barh(np.arange(Xt.shape[1]), importances)\n",
        "plt.xlabel(\"Feature importance\")\n",
        "plt.yticks(np.arange(Xt.shape[1]), range(1, Xt.shape[1]+1))\n",
        "plt.ylim([-1, Xt.shape[1]])\n",
        "plt.show()"
      ]
    }
  ],
  "metadata": {
    "colab": {
      "provenance": []
    },
    "kernelspec": {
      "display_name": "Python 3 (ipykernel)",
      "language": "python",
      "name": "python3"
    },
    "orig_nbformat": 4,
    "vscode": {
      "interpreter": {
        "hash": "31f2aee4e71d21fbe5cf8b01ff0e069b9275f58929596ceb00d14d90e3e16cd6"
      }
    }
  },
  "nbformat": 4,
  "nbformat_minor": 0
}
