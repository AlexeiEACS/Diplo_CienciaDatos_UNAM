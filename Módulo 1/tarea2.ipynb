{
 "cells": [
  {
   "cell_type": "code",
   "execution_count": 3,
   "metadata": {},
   "outputs": [],
   "source": [
    "import pandas as pd\n",
    "import os"
   ]
  },
  {
   "cell_type": "markdown",
   "metadata": {},
   "source": [
    "a) Programación funcional"
   ]
  },
  {
   "cell_type": "code",
   "execution_count": 43,
   "metadata": {},
   "outputs": [
    {
     "data": {
      "text/plain": [
       "['2018-10.csv',\n",
       " '2019-05.csv',\n",
       " '2018-07.csv',\n",
       " '2019-01.csv',\n",
       " '2017-12.csv',\n",
       " '2018-05.csv',\n",
       " '2018-12.csv',\n",
       " '2018-11.csv',\n",
       " '2018-09.csv',\n",
       " '2019-06.csv',\n",
       " '2019-10.csv',\n",
       " '2019-09.csv',\n",
       " '2019-07.csv',\n",
       " '2017-11.csv',\n",
       " '2018-03.csv',\n",
       " '2018-08.csv',\n",
       " '2018-02.csv',\n",
       " '2019-04.csv',\n",
       " '2018-06.csv',\n",
       " '2019-03.csv',\n",
       " '2018-04.csv',\n",
       " '2019-02.csv',\n",
       " '2019-08.csv',\n",
       " '2018-01.csv']"
      ]
     },
     "execution_count": 43,
     "metadata": {},
     "output_type": "execute_result"
    }
   ],
   "source": [
    "ruta = 'data/ecobici/'\n",
    "viajes = [x for x in os.listdir(ruta)]\n",
    "viajes.remove('estaciones-de-ecobici.csv')\n",
    "viajes"
   ]
  },
  {
   "cell_type": "code",
   "execution_count": 62,
   "metadata": {},
   "outputs": [
    {
     "name": "stderr",
     "output_type": "stream",
     "text": [
      "/tmp/ipykernel_5017/4103827754.py:1: DtypeWarning: Columns (2) have mixed types. Specify dtype option on import or set low_memory=False.\n",
      "  merged_data = pd.concat([pd.read_csv(ruta + x) for x in viajes])\n",
      "/tmp/ipykernel_5017/4103827754.py:1: DtypeWarning: Columns (2) have mixed types. Specify dtype option on import or set low_memory=False.\n",
      "  merged_data = pd.concat([pd.read_csv(ruta + x) for x in viajes])\n",
      "/tmp/ipykernel_5017/4103827754.py:1: DtypeWarning: Columns (2) have mixed types. Specify dtype option on import or set low_memory=False.\n",
      "  merged_data = pd.concat([pd.read_csv(ruta + x) for x in viajes])\n",
      "/tmp/ipykernel_5017/4103827754.py:1: DtypeWarning: Columns (2) have mixed types. Specify dtype option on import or set low_memory=False.\n",
      "  merged_data = pd.concat([pd.read_csv(ruta + x) for x in viajes])\n",
      "/tmp/ipykernel_5017/4103827754.py:1: DtypeWarning: Columns (2) have mixed types. Specify dtype option on import or set low_memory=False.\n",
      "  merged_data = pd.concat([pd.read_csv(ruta + x) for x in viajes])\n",
      "/tmp/ipykernel_5017/4103827754.py:1: DtypeWarning: Columns (2) have mixed types. Specify dtype option on import or set low_memory=False.\n",
      "  merged_data = pd.concat([pd.read_csv(ruta + x) for x in viajes])\n",
      "/tmp/ipykernel_5017/4103827754.py:1: DtypeWarning: Columns (2) have mixed types. Specify dtype option on import or set low_memory=False.\n",
      "  merged_data = pd.concat([pd.read_csv(ruta + x) for x in viajes])\n",
      "/tmp/ipykernel_5017/4103827754.py:1: DtypeWarning: Columns (2,6,9) have mixed types. Specify dtype option on import or set low_memory=False.\n",
      "  merged_data = pd.concat([pd.read_csv(ruta + x) for x in viajes])\n",
      "/tmp/ipykernel_5017/4103827754.py:1: DtypeWarning: Columns (2) have mixed types. Specify dtype option on import or set low_memory=False.\n",
      "  merged_data = pd.concat([pd.read_csv(ruta + x) for x in viajes])\n",
      "/tmp/ipykernel_5017/4103827754.py:1: DtypeWarning: Columns (2) have mixed types. Specify dtype option on import or set low_memory=False.\n",
      "  merged_data = pd.concat([pd.read_csv(ruta + x) for x in viajes])\n",
      "/tmp/ipykernel_5017/4103827754.py:1: DtypeWarning: Columns (2) have mixed types. Specify dtype option on import or set low_memory=False.\n",
      "  merged_data = pd.concat([pd.read_csv(ruta + x) for x in viajes])\n"
     ]
    }
   ],
   "source": [
    "merged_data = pd.concat([pd.read_csv(ruta + x) for x in viajes])\n"
   ]
  },
  {
   "cell_type": "markdown",
   "metadata": {},
   "source": [
    "b) Propuesta para la limpieza de los datos"
   ]
  },
  {
   "cell_type": "code",
   "execution_count": 63,
   "metadata": {},
   "outputs": [
    {
     "data": {
      "text/html": [
       "<div>\n",
       "<style scoped>\n",
       "    .dataframe tbody tr th:only-of-type {\n",
       "        vertical-align: middle;\n",
       "    }\n",
       "\n",
       "    .dataframe tbody tr th {\n",
       "        vertical-align: top;\n",
       "    }\n",
       "\n",
       "    .dataframe thead th {\n",
       "        text-align: right;\n",
       "    }\n",
       "</style>\n",
       "<table border=\"1\" class=\"dataframe\">\n",
       "  <thead>\n",
       "    <tr style=\"text-align: right;\">\n",
       "      <th></th>\n",
       "      <th>Genero_Usuario</th>\n",
       "      <th>Edad_Usuario</th>\n",
       "      <th>Bici</th>\n",
       "      <th>Ciclo_Estacion_Retiro</th>\n",
       "      <th>Fecha_Retiro</th>\n",
       "      <th>Hora_Retiro</th>\n",
       "      <th>Ciclo_Estacion_Arribo</th>\n",
       "      <th>Fecha_Arribo</th>\n",
       "      <th>Hora_Arribo</th>\n",
       "      <th>Unnamed: 9</th>\n",
       "    </tr>\n",
       "  </thead>\n",
       "  <tbody>\n",
       "    <tr>\n",
       "      <th>0</th>\n",
       "      <td>M</td>\n",
       "      <td>58</td>\n",
       "      <td>2176</td>\n",
       "      <td>299</td>\n",
       "      <td>01/10/2018</td>\n",
       "      <td>0:00:02</td>\n",
       "      <td>75</td>\n",
       "      <td>01/10/2018</td>\n",
       "      <td>0:12:02</td>\n",
       "      <td>NaN</td>\n",
       "    </tr>\n",
       "    <tr>\n",
       "      <th>1</th>\n",
       "      <td>F</td>\n",
       "      <td>42</td>\n",
       "      <td>9816</td>\n",
       "      <td>43</td>\n",
       "      <td>01/10/2018</td>\n",
       "      <td>0:00:23</td>\n",
       "      <td>256</td>\n",
       "      <td>01/10/2018</td>\n",
       "      <td>0:15:02</td>\n",
       "      <td>NaN</td>\n",
       "    </tr>\n",
       "    <tr>\n",
       "      <th>2</th>\n",
       "      <td>M</td>\n",
       "      <td>30</td>\n",
       "      <td>11219</td>\n",
       "      <td>37</td>\n",
       "      <td>01/10/2018</td>\n",
       "      <td>0:00:34</td>\n",
       "      <td>1</td>\n",
       "      <td>01/10/2018</td>\n",
       "      <td>0:09:09</td>\n",
       "      <td>NaN</td>\n",
       "    </tr>\n",
       "    <tr>\n",
       "      <th>3</th>\n",
       "      <td>M</td>\n",
       "      <td>26</td>\n",
       "      <td>3910</td>\n",
       "      <td>123</td>\n",
       "      <td>01/10/2018</td>\n",
       "      <td>0:01:36</td>\n",
       "      <td>182</td>\n",
       "      <td>01/10/2018</td>\n",
       "      <td>0:37:22</td>\n",
       "      <td>NaN</td>\n",
       "    </tr>\n",
       "    <tr>\n",
       "      <th>4</th>\n",
       "      <td>M</td>\n",
       "      <td>29</td>\n",
       "      <td>11487</td>\n",
       "      <td>41</td>\n",
       "      <td>01/10/2018</td>\n",
       "      <td>0:02:39</td>\n",
       "      <td>30</td>\n",
       "      <td>01/10/2018</td>\n",
       "      <td>0:11:29</td>\n",
       "      <td>NaN</td>\n",
       "    </tr>\n",
       "  </tbody>\n",
       "</table>\n",
       "</div>"
      ],
      "text/plain": [
       "  Genero_Usuario  Edad_Usuario   Bici  Ciclo_Estacion_Retiro Fecha_Retiro  \\\n",
       "0              M            58   2176                    299   01/10/2018   \n",
       "1              F            42   9816                     43   01/10/2018   \n",
       "2              M            30  11219                     37   01/10/2018   \n",
       "3              M            26   3910                    123   01/10/2018   \n",
       "4              M            29  11487                     41   01/10/2018   \n",
       "\n",
       "  Hora_Retiro Ciclo_Estacion_Arribo Fecha_Arribo Hora_Arribo Unnamed: 9  \n",
       "0     0:00:02                    75   01/10/2018     0:12:02        NaN  \n",
       "1     0:00:23                   256   01/10/2018     0:15:02        NaN  \n",
       "2     0:00:34                     1   01/10/2018     0:09:09        NaN  \n",
       "3     0:01:36                   182   01/10/2018     0:37:22        NaN  \n",
       "4     0:02:39                    30   01/10/2018     0:11:29        NaN  "
      ]
     },
     "execution_count": 63,
     "metadata": {},
     "output_type": "execute_result"
    }
   ],
   "source": [
    "merged_data.head()"
   ]
  },
  {
   "cell_type": "code",
   "execution_count": 64,
   "metadata": {},
   "outputs": [
    {
     "name": "stdout",
     "output_type": "stream",
     "text": [
      "<class 'pandas.core.frame.DataFrame'>\n",
      "Int64Index: 17104573 entries, 0 to 686291\n",
      "Data columns (total 10 columns):\n",
      " #   Column                 Dtype \n",
      "---  ------                 ----- \n",
      " 0   Genero_Usuario         object\n",
      " 1   Edad_Usuario           int64 \n",
      " 2   Bici                   object\n",
      " 3   Ciclo_Estacion_Retiro  int64 \n",
      " 4   Fecha_Retiro           object\n",
      " 5   Hora_Retiro            object\n",
      " 6   Ciclo_Estacion_Arribo  object\n",
      " 7   Fecha_Arribo           object\n",
      " 8   Hora_Arribo            object\n",
      " 9   Unnamed: 9             object\n",
      "dtypes: int64(2), object(8)\n",
      "memory usage: 1.4+ GB\n"
     ]
    }
   ],
   "source": [
    "merged_data.info()"
   ]
  },
  {
   "cell_type": "markdown",
   "metadata": {},
   "source": [
    "- Genero_Usuario: Confirmación que los únicos valores sean 'M' y 'F'.\n",
    "- Bici: Pasar todos los salores a string para no eliminar las letras que se tienen.\n",
    "- Fecha_Retiro: Pasar los datos a formato datetime junto con la Hora_Retiro \n",
    "- Fecha_Arribo: Pasar los datos a formato datetime junto con la Hora_Arribo "
   ]
  }
 ],
 "metadata": {
  "kernelspec": {
   "display_name": "Python 3.10.6 ('dcd_env')",
   "language": "python",
   "name": "python3"
  },
  "language_info": {
   "codemirror_mode": {
    "name": "ipython",
    "version": 3
   },
   "file_extension": ".py",
   "mimetype": "text/x-python",
   "name": "python",
   "nbconvert_exporter": "python",
   "pygments_lexer": "ipython3",
   "version": "3.10.6"
  },
  "orig_nbformat": 4,
  "vscode": {
   "interpreter": {
    "hash": "53d313fa3d5e90c69f9c931f76235dc7ed5e020e43672cbbfeab56bd39943b6d"
   }
  }
 },
 "nbformat": 4,
 "nbformat_minor": 2
}
